{
 "cells": [
  {
   "cell_type": "markdown",
   "metadata": {
    "application/vnd.databricks.v1+cell": {
     "cellMetadata": {
      "byteLimit": 2048000,
      "rowLimit": 10000
     },
     "inputWidgets": {},
     "nuid": "526ffbd8-effc-4963-8a2a-ea641a9417ee",
     "showTitle": false,
     "title": ""
    }
   },
   "source": [
    "#Loding libraries,  Modelue etc"
   ]
  },
  {
   "cell_type": "code",
   "execution_count": 0,
   "metadata": {
    "application/vnd.databricks.v1+cell": {
     "cellMetadata": {
      "byteLimit": 2048000,
      "rowLimit": 10000
     },
     "inputWidgets": {},
     "nuid": "6be3e2e3-0afb-4054-9848-992e4ebf9d67",
     "showTitle": false,
     "title": ""
    }
   },
   "outputs": [
    {
     "output_type": "display_data",
     "data": {
      "text/html": [
       "<style scoped>\n",
       "  .ansiout {\n",
       "    display: block;\n",
       "    unicode-bidi: embed;\n",
       "    white-space: pre-wrap;\n",
       "    word-wrap: break-word;\n",
       "    word-break: break-all;\n",
       "    font-family: \"Menlo\", \"Monaco\", \"Consolas\", \"Ubuntu Mono\", \"Source Code Pro\", monospace;\n",
       "    font-size: 13px;\n",
       "    color: #555;\n",
       "    margin-left: 4px;\n",
       "    line-height: 19px;\n",
       "  }\n",
       "</style>\n",
       "<div class=\"ansiout\"></div>"
      ]
     },
     "metadata": {
      "application/vnd.databricks.v1+output": {
       "addedWidgets": {},
       "arguments": {},
       "data": "<div class=\"ansiout\"></div>",
       "datasetInfos": [],
       "metadata": {},
       "removedWidgets": [],
       "type": "html"
      }
     },
     "output_type": "display_data"
    }
   ],
   "source": [
    "from pyspark.sql.types import StructType,StructField, StringType,IntegerType\n",
    "from pyspark.sql.functions import to_date, col, split, explode, trim,concat_ws, round,year\n",
    "import pandas as pd"
   ]
  },
  {
   "cell_type": "markdown",
   "metadata": {
    "application/vnd.databricks.v1+cell": {
     "cellMetadata": {
      "byteLimit": 2048000,
      "rowLimit": 10000
     },
     "inputWidgets": {},
     "nuid": "339a444e-d4f9-4cda-a3fb-4e4d3abd4367",
     "showTitle": false,
     "title": ""
    }
   },
   "source": [
    "#1: Create raw tables for each source dataset </b>\n",
    "Data Ingestion"
   ]
  },
  {
   "cell_type": "markdown",
   "metadata": {
    "application/vnd.databricks.v1+cell": {
     "cellMetadata": {
      "byteLimit": 2048000,
      "rowLimit": 10000
     },
     "inputWidgets": {},
     "nuid": "c1ac7321-48a2-47fc-acaa-28a137818176",
     "showTitle": false,
     "title": ""
    }
   },
   "source": [
    "Creating TDD for order table to check <br/>\n",
    " -> File data Schema <br/>\n",
    " -> File is not empty <br/>\n",
    "<br/>\n",
    "Repeat for customer and product data with appropriate format and options"
   ]
  },
  {
   "cell_type": "code",
   "execution_count": 0,
   "metadata": {
    "application/vnd.databricks.v1+cell": {
     "cellMetadata": {
      "byteLimit": 2048000,
      "rowLimit": 10000
     },
     "inputWidgets": {},
     "nuid": "f093a2e6-1e4f-408a-a7d7-746a988aecd2",
     "showTitle": false,
     "title": ""
    }
   },
   "outputs": [
    {
     "output_type": "display_data",
     "data": {
      "text/html": [
       "<style scoped>\n",
       "  .ansiout {\n",
       "    display: block;\n",
       "    unicode-bidi: embed;\n",
       "    white-space: pre-wrap;\n",
       "    word-wrap: break-word;\n",
       "    word-break: break-all;\n",
       "    font-family: \"Menlo\", \"Monaco\", \"Consolas\", \"Ubuntu Mono\", \"Source Code Pro\", monospace;\n",
       "    font-size: 13px;\n",
       "    color: #555;\n",
       "    margin-left: 4px;\n",
       "    line-height: 19px;\n",
       "  }\n",
       "</style>\n",
       "<div class=\"ansiout\">Order schema test passed!\n",
       "Product schema test passed!\n",
       "Customer schema test passed!\n",
       "</div>"
      ]
     },
     "metadata": {
      "application/vnd.databricks.v1+output": {
       "addedWidgets": {},
       "arguments": {},
       "data": "<div class=\"ansiout\">Order schema test passed!\nProduct schema test passed!\nCustomer schema test passed!\n</div>",
       "datasetInfos": [],
       "metadata": {},
       "removedWidgets": [],
       "type": "html"
      }
     },
     "output_type": "display_data"
    }
   ],
   "source": [
    "def test_order_schema():\n",
    "  assert order_df.schema.fields[0].name == \"Customer ID\"  # Replace with actual column names based on data\n",
    "  assert order_df.schema.fields[0].dataType == StringType()  # Replace with data types based on data\n",
    "\n",
    "  assert product_df.schema.fields[0].name == \"Product ID\"  # Replace with actual column names based on data\n",
    "  assert product_df.schema.fields[0].dataType == StringType()  # Replace with data types based on data\n",
    "\n",
    "  assert customer_df.schema.fields[0].name == \"Customer ID\"  # Replace with actual column names based on data\n",
    "  assert customer_df.schema.fields[0].dataType == StringType()  # Replace with data types based on data\n",
    "\n",
    "\n",
    "# Replace \"/path/to/Order.json\" with the actual location of your data\n",
    "def read_data_with_schema_check(filepath, format=\"json\", multiLine=True,header=True):\n",
    "  try:\n",
    "    df = spark.read.format(format).option(\"multiLine\", multiLine).option(\"header\",header).load(filepath)\n",
    "   # df.show(truncate=False)  # Show all data to identify potential issues\n",
    "    return df\n",
    "  except FileNotFoundError:\n",
    "    raise Exception(\"File not found: \" + filepath)\n",
    "\n",
    "\n",
    "\n",
    "#order raw data\n",
    "try:\n",
    "  order_df = read_data_with_schema_check(\"dbfs:/FileStore/shared_uploads/aman.nagariya@hm.com/Order.json\")\n",
    "  test_order_schema()\n",
    "  print(\"Order schema test passed!\")\n",
    "except Exception as e:\n",
    "  print(\"Error:\", e)\n",
    "\n",
    "\n",
    "#Product raw data\n",
    "try:\n",
    "  product_df = read_data_with_schema_check(\"dbfs:/FileStore/shared_uploads/aman.nagariya@hm.com/Product.csv\", format=\"csv\", header=True)\n",
    "  test_order_schema()\n",
    "  print(\"Product schema test passed!\")\n",
    "except Exception as e:\n",
    "  print(\"Error:\", e)\n",
    "\n",
    "\n",
    "#Customer Raw data\n",
    "try:\n",
    "  #reading excle file into Datafrme\n",
    "  #read excle file into Pandas dataframe then convert it into spark DF\n",
    "  wb = pd.read_excel('/dbfs/FileStore/shared_uploads/aman.nagariya@hm.com/Customer.xlsx')\n",
    "  # Specifing the schema for the phone column as StringType as its creating conflict due to sting and long both the datatype\n",
    "  schema = StructType([\n",
    "    StructField(\"Customer ID\", StringType(), nullable=True),\n",
    "    StructField(\"Customer Name\", StringType(), nullable=True),\n",
    "    StructField(\"email\", StringType(), nullable=True),\n",
    "    StructField(\"phone\", StringType(), nullable=True),\n",
    "    StructField(\"address\", StringType(), nullable=True),\n",
    "    StructField(\"Segment\", StringType(), nullable=True),\n",
    "    StructField(\"Country\", StringType(), nullable=True),\n",
    "    StructField(\"City\", StringType(), nullable=True),\n",
    "    StructField(\"State\", StringType(), nullable=True),\n",
    "    StructField(\"Postal Code\", StringType(), nullable=True),\n",
    "    StructField(\"Region\", StringType(), nullable=True)\n",
    "    ])\n",
    "  customer_df=spark.createDataFrame(wb,schema)\n",
    "  \n",
    "  test_order_schema()\n",
    "  print(\"Customer schema test passed!\")\n",
    "except Exception as e:\n",
    "  print(\"Error:\", e)"
   ]
  },
  {
   "cell_type": "markdown",
   "metadata": {
    "application/vnd.databricks.v1+cell": {
     "cellMetadata": {
      "byteLimit": 2048000,
      "rowLimit": 10000
     },
     "inputWidgets": {},
     "nuid": "e9cc25ae-0aac-4034-be6d-7a26d05e9982",
     "showTitle": false,
     "title": ""
    }
   },
   "source": [
    "\n",
    "data undertanding and cleaning/pre-processing"
   ]
  },
  {
   "cell_type": "code",
   "execution_count": 0,
   "metadata": {
    "application/vnd.databricks.v1+cell": {
     "cellMetadata": {
      "byteLimit": 2048000,
      "rowLimit": 10000
     },
     "inputWidgets": {},
     "nuid": "688d64d5-dc02-4e7b-aec0-183f8841634d",
     "showTitle": false,
     "title": ""
    }
   },
   "outputs": [
    {
     "output_type": "display_data",
     "data": {
      "text/html": [
       "<style scoped>\n",
       "  .ansiout {\n",
       "    display: block;\n",
       "    unicode-bidi: embed;\n",
       "    white-space: pre-wrap;\n",
       "    word-wrap: break-word;\n",
       "    word-break: break-all;\n",
       "    font-family: \"Menlo\", \"Monaco\", \"Consolas\", \"Ubuntu Mono\", \"Source Code Pro\", monospace;\n",
       "    font-size: 13px;\n",
       "    color: #555;\n",
       "    margin-left: 4px;\n",
       "    line-height: 19px;\n",
       "  }\n",
       "</style>\n",
       "<div class=\"ansiout\">custoemr_df : row : 793\n",
       "order_df : row : 9994\n",
       "product_df : row : 1851\n",
       "</div>"
      ]
     },
     "metadata": {
      "application/vnd.databricks.v1+output": {
       "addedWidgets": {},
       "arguments": {},
       "data": "<div class=\"ansiout\">custoemr_df : row : 793\norder_df : row : 9994\nproduct_df : row : 1851\n</div>",
       "datasetInfos": [],
       "metadata": {},
       "removedWidgets": [],
       "type": "html"
      }
     },
     "output_type": "display_data"
    }
   ],
   "source": [
    "print(\"custoemr_df : row :\", customer_df.count() )\n",
    "print(\"order_df : row :\", order_df.count() )\n",
    "print(\"product_df : row :\", product_df.count() )"
   ]
  },
  {
   "cell_type": "code",
   "execution_count": 0,
   "metadata": {
    "application/vnd.databricks.v1+cell": {
     "cellMetadata": {
      "byteLimit": 2048000,
      "rowLimit": 10000
     },
     "inputWidgets": {},
     "nuid": "d026700c-a01d-4f74-a362-9a482f361e90",
     "showTitle": false,
     "title": ""
    }
   },
   "outputs": [
    {
     "output_type": "display_data",
     "data": {
      "text/html": [
       "<style scoped>\n",
       "  .ansiout {\n",
       "    display: block;\n",
       "    unicode-bidi: embed;\n",
       "    white-space: pre-wrap;\n",
       "    word-wrap: break-word;\n",
       "    word-break: break-all;\n",
       "    font-family: \"Menlo\", \"Monaco\", \"Consolas\", \"Ubuntu Mono\", \"Source Code Pro\", monospace;\n",
       "    font-size: 13px;\n",
       "    color: #555;\n",
       "    margin-left: 4px;\n",
       "    line-height: 19px;\n",
       "  }\n",
       "</style>\n",
       "<div class=\"ansiout\"></div>"
      ]
     },
     "metadata": {
      "application/vnd.databricks.v1+output": {
       "addedWidgets": {},
       "arguments": {},
       "data": "<div class=\"ansiout\"></div>",
       "datasetInfos": [],
       "metadata": {},
       "removedWidgets": [],
       "type": "html"
      }
     },
     "output_type": "display_data"
    }
   ],
   "source": [
    "#droping duplicate if any\n",
    "customer_df=customer_df.dropDuplicates()\n",
    "order_df=order_df.dropDuplicates()\n",
    "product_df=product_df.dropDuplicates()"
   ]
  },
  {
   "cell_type": "code",
   "execution_count": 0,
   "metadata": {
    "application/vnd.databricks.v1+cell": {
     "cellMetadata": {
      "byteLimit": 2048000,
      "rowLimit": 10000
     },
     "inputWidgets": {},
     "nuid": "06255912-268c-4f99-b29d-2620ce8dd7e4",
     "showTitle": false,
     "title": ""
    }
   },
   "outputs": [
    {
     "output_type": "display_data",
     "data": {
      "text/html": [
       "<style scoped>\n",
       "  .ansiout {\n",
       "    display: block;\n",
       "    unicode-bidi: embed;\n",
       "    white-space: pre-wrap;\n",
       "    word-wrap: break-word;\n",
       "    word-break: break-all;\n",
       "    font-family: \"Menlo\", \"Monaco\", \"Consolas\", \"Ubuntu Mono\", \"Source Code Pro\", monospace;\n",
       "    font-size: 13px;\n",
       "    color: #555;\n",
       "    margin-left: 4px;\n",
       "    line-height: 19px;\n",
       "  }\n",
       "</style>\n",
       "<div class=\"ansiout\">custoemr_df : row : 793\n",
       "order_df : row : 9994\n",
       "product_df : row : 1851\n",
       "</div>"
      ]
     },
     "metadata": {
      "application/vnd.databricks.v1+output": {
       "addedWidgets": {},
       "arguments": {},
       "data": "<div class=\"ansiout\">custoemr_df : row : 793\norder_df : row : 9994\nproduct_df : row : 1851\n</div>",
       "datasetInfos": [],
       "metadata": {},
       "removedWidgets": [],
       "type": "html"
      }
     },
     "output_type": "display_data"
    }
   ],
   "source": [
    "print(\"custoemr_df : row :\", customer_df.count() )\n",
    "print(\"order_df : row :\", order_df.count() )\n",
    "print(\"product_df : row :\", product_df.count() )"
   ]
  },
  {
   "cell_type": "code",
   "execution_count": 0,
   "metadata": {
    "application/vnd.databricks.v1+cell": {
     "cellMetadata": {
      "byteLimit": 2048000,
      "rowLimit": 10000
     },
     "inputWidgets": {},
     "nuid": "6698f912-12d2-4ab4-ac9b-8be6bc4b071a",
     "showTitle": false,
     "title": ""
    }
   },
   "outputs": [
    {
     "output_type": "display_data",
     "data": {
      "text/html": [
       "<style scoped>\n",
       "  .ansiout {\n",
       "    display: block;\n",
       "    unicode-bidi: embed;\n",
       "    white-space: pre-wrap;\n",
       "    word-wrap: break-word;\n",
       "    word-break: break-all;\n",
       "    font-family: \"Menlo\", \"Monaco\", \"Consolas\", \"Ubuntu Mono\", \"Source Code Pro\", monospace;\n",
       "    font-size: 13px;\n",
       "    color: #555;\n",
       "    margin-left: 4px;\n",
       "    line-height: 19px;\n",
       "  }\n",
       "</style>\n",
       "<div class=\"ansiout\"></div>"
      ]
     },
     "metadata": {
      "application/vnd.databricks.v1+output": {
       "addedWidgets": {},
       "arguments": {},
       "data": "<div class=\"ansiout\"></div>",
       "datasetInfos": [],
       "metadata": {},
       "removedWidgets": [],
       "type": "html"
      }
     },
     "output_type": "display_data"
    }
   ],
   "source": [
    "# Convert 'order_date' column to date type\n",
    "order_df = order_df.withColumn('Order Date', to_date(order_df['Order Date'], 'd/M/yyyy'))\n",
    "order_df = order_df.withColumn('Ship Date', to_date(order_df['Ship Date'], 'd/M/yyyy'))\n",
    "# Convert 'price per product' column to double\n",
    "product_df = product_df.withColumn('Price per product', product_df['Price per product'].cast('double'))"
   ]
  },
  {
   "cell_type": "markdown",
   "metadata": {
    "application/vnd.databricks.v1+cell": {
     "cellMetadata": {
      "byteLimit": 2048000,
      "rowLimit": 10000
     },
     "inputWidgets": {},
     "nuid": "254a72aa-1e15-46b2-a19f-fb90abfaf63f",
     "showTitle": false,
     "title": ""
    }
   },
   "source": [
    "lets analyse the data for one customer for better undertanding\n",
    "<br/>  CustoemrID = SG-20605"
   ]
  },
  {
   "cell_type": "code",
   "execution_count": 0,
   "metadata": {
    "application/vnd.databricks.v1+cell": {
     "cellMetadata": {
      "byteLimit": 2048000,
      "rowLimit": 10000
     },
     "inputWidgets": {},
     "nuid": "0811515a-4d3a-4022-bf4d-4b05e19fe0db",
     "showTitle": false,
     "title": ""
    }
   },
   "outputs": [
    {
     "output_type": "display_data",
     "data": {
      "text/html": [
       "<style scoped>\n",
       "  .ansiout {\n",
       "    display: block;\n",
       "    unicode-bidi: embed;\n",
       "    white-space: pre-wrap;\n",
       "    word-wrap: break-word;\n",
       "    word-break: break-all;\n",
       "    font-family: \"Menlo\", \"Monaco\", \"Consolas\", \"Ubuntu Mono\", \"Source Code Pro\", monospace;\n",
       "    font-size: 13px;\n",
       "    color: #555;\n",
       "    margin-left: 4px;\n",
       "    line-height: 19px;\n",
       "  }\n",
       "</style>\n",
       "<div class=\"ansiout\"></div>"
      ]
     },
     "metadata": {
      "application/vnd.databricks.v1+output": {
       "addedWidgets": {},
       "arguments": {},
       "data": "<div class=\"ansiout\"></div>",
       "datasetInfos": [],
       "metadata": {},
       "removedWidgets": [],
       "type": "html"
      }
     },
     "output_type": "display_data"
    }
   ],
   "source": [
    "#creating VIew \n",
    "customer_df.createOrReplaceTempView(\"customer_t\")\n",
    "order_df.createOrReplaceTempView(\"order_t\")\n",
    "product_df.createOrReplaceTempView(\"product_t\")"
   ]
  },
  {
   "cell_type": "code",
   "execution_count": 0,
   "metadata": {
    "application/vnd.databricks.v1+cell": {
     "cellMetadata": {
      "byteLimit": 2048000,
      "implicitDf": true,
      "rowLimit": 10000
     },
     "inputWidgets": {},
     "nuid": "6a8c03b5-3571-4f49-ac6d-79281405cc2b",
     "showTitle": false,
     "title": ""
    }
   },
   "outputs": [
    {
     "output_type": "display_data",
     "data": {
      "text/html": [
       "<style scoped>\n",
       "  .table-result-container {\n",
       "    max-height: 300px;\n",
       "    overflow: auto;\n",
       "  }\n",
       "  table, th, td {\n",
       "    border: 1px solid black;\n",
       "    border-collapse: collapse;\n",
       "  }\n",
       "  th, td {\n",
       "    padding: 5px;\n",
       "  }\n",
       "  th {\n",
       "    text-align: left;\n",
       "  }\n",
       "</style><div class='table-result-container'><table class='table-result'><thead style='background-color: white'><tr><th>Customer ID</th><th>Customer Name</th><th>email</th><th>phone</th><th>address</th><th>Segment</th><th>Country</th><th>City</th><th>State</th><th>Postal Code</th><th>Region</th></tr></thead><tbody><tr><td>SG-20605</td><td>Speros Goranitis</td><td>brianjoyce110@gmail.com</td><td>3528465094</td><td>02401 Angela Loop Apt. 678\n",
       "Port John, ME 43448</td><td>Consumer</td><td>United States</td><td>Lafayette</td><td>Indiana</td><td>47905</td><td>Central</td></tr></tbody></table></div>"
      ]
     },
     "metadata": {
      "application/vnd.databricks.v1+output": {
       "addedWidgets": {},
       "aggData": [],
       "aggError": "",
       "aggOverflow": false,
       "aggSchema": [],
       "aggSeriesLimitReached": false,
       "aggType": "",
       "arguments": {},
       "columnCustomDisplayInfos": {},
       "data": [
        [
         "SG-20605",
         "Speros Goranitis",
         "brianjoyce110@gmail.com",
         "3528465094",
         "02401 Angela Loop Apt. 678\nPort John, ME 43448",
         "Consumer",
         "United States",
         "Lafayette",
         "Indiana",
         "47905",
         "Central"
        ]
       ],
       "datasetInfos": [],
       "dbfsResultPath": null,
       "isJsonSchema": true,
       "metadata": {},
       "overflow": false,
       "plotOptions": {
        "customPlotOptions": {},
        "displayType": "table",
        "pivotAggregation": null,
        "pivotColumns": null,
        "xColumns": null,
        "yColumns": null
       },
       "removedWidgets": [],
       "schema": [
        {
         "metadata": "{}",
         "name": "Customer ID",
         "type": "\"string\""
        },
        {
         "metadata": "{}",
         "name": "Customer Name",
         "type": "\"string\""
        },
        {
         "metadata": "{}",
         "name": "email",
         "type": "\"string\""
        },
        {
         "metadata": "{}",
         "name": "phone",
         "type": "\"string\""
        },
        {
         "metadata": "{}",
         "name": "address",
         "type": "\"string\""
        },
        {
         "metadata": "{}",
         "name": "Segment",
         "type": "\"string\""
        },
        {
         "metadata": "{}",
         "name": "Country",
         "type": "\"string\""
        },
        {
         "metadata": "{}",
         "name": "City",
         "type": "\"string\""
        },
        {
         "metadata": "{}",
         "name": "State",
         "type": "\"string\""
        },
        {
         "metadata": "{}",
         "name": "Postal Code",
         "type": "\"string\""
        },
        {
         "metadata": "{}",
         "name": "Region",
         "type": "\"string\""
        }
       ],
       "type": "table"
      }
     },
     "output_type": "display_data"
    }
   ],
   "source": [
    "%sql\n",
    "\n",
    "select *\n",
    "from customer_t\n",
    "where `Customer ID` = \"SG-20605\""
   ]
  },
  {
   "cell_type": "code",
   "execution_count": 0,
   "metadata": {
    "application/vnd.databricks.v1+cell": {
     "cellMetadata": {
      "byteLimit": 2048000,
      "implicitDf": true,
      "rowLimit": 10000
     },
     "inputWidgets": {},
     "nuid": "345702af-277b-4f0c-8aaa-abe898ec8f55",
     "showTitle": false,
     "title": ""
    }
   },
   "outputs": [
    {
     "output_type": "display_data",
     "data": {
      "text/html": [
       "<style scoped>\n",
       "  .table-result-container {\n",
       "    max-height: 300px;\n",
       "    overflow: auto;\n",
       "  }\n",
       "  table, th, td {\n",
       "    border: 1px solid black;\n",
       "    border-collapse: collapse;\n",
       "  }\n",
       "  th, td {\n",
       "    padding: 5px;\n",
       "  }\n",
       "  th {\n",
       "    text-align: left;\n",
       "  }\n",
       "</style><div class='table-result-container'><table class='table-result'><thead style='background-color: white'><tr><th>Customer ID</th><th>Discount</th><th>Order Date</th><th>Order ID</th><th>Price</th><th>Product ID</th><th>Profit</th><th>Quantity</th><th>Row ID</th><th>Ship Date</th><th>Ship Mode</th></tr></thead><tbody><tr><td>SG-20605</td><td>0.2</td><td>2014-12-19</td><td>CA-2014-169446</td><td>32.592</td><td>OFF-ST-10000419</td><td>-7.7406</td><td>3</td><td>3427</td><td>2014-12-25</td><td>Standard Class</td></tr><tr><td>SG-20605</td><td>0.2</td><td>2017-09-13</td><td>CA-2017-139493</td><td>15.92</td><td>OFF-AR-10003158</td><td>2.786</td><td>5</td><td>9701</td><td>2017-09-19</td><td>Standard Class</td></tr><tr><td>SG-20605</td><td>0.2</td><td>2014-12-19</td><td>CA-2014-169446</td><td>15.552</td><td>OFF-PA-10000295</td><td>5.4432</td><td>3</td><td>7431</td><td>2014-12-25</td><td>Standard Class</td></tr><tr><td>SG-20605</td><td>0.2</td><td>2014-11-03</td><td>CA-2014-121573</td><td>48.896</td><td>OFF-BI-10000666</td><td>18.336</td><td>2</td><td>6048</td><td>2014-11-07</td><td>Standard Class</td></tr><tr><td>SG-20605</td><td>0.0</td><td>2015-12-06</td><td>US-2015-127040</td><td>6.48</td><td>OFF-PA-10004255</td><td>3.1104</td><td>1</td><td>4456</td><td>2015-12-10</td><td>Standard Class</td></tr><tr><td>SG-20605</td><td>0.0</td><td>2014-01-23</td><td>CA-2014-146997</td><td>5.94</td><td>OFF-FA-10003467</td><td>0.0</td><td>3</td><td>733</td><td>2014-01-27</td><td>Standard Class</td></tr><tr><td>SG-20605</td><td>0.0</td><td>2015-12-06</td><td>US-2015-127040</td><td>41.86</td><td>OFF-PA-10001184</td><td>20.5114</td><td>7</td><td>5523</td><td>2015-12-10</td><td>Standard Class</td></tr><tr><td>SG-20605</td><td>0.2</td><td>2014-11-03</td><td>CA-2014-121573</td><td>7.856</td><td>OFF-BI-10003712</td><td>2.8478</td><td>2</td><td>5520</td><td>2014-11-07</td><td>Standard Class</td></tr><tr><td>SG-20605</td><td>0.0</td><td>2015-12-06</td><td>US-2015-127040</td><td>113.92</td><td>FUR-FU-10002878</td><td>42.1504</td><td>4</td><td>5772</td><td>2015-12-10</td><td>Standard Class</td></tr><tr><td>SG-20605</td><td>0.2</td><td>2014-12-19</td><td>CA-2014-169446</td><td>324</td><td>TEC-PH-10002817</td><td>36.4473</td><td>3</td><td>2326</td><td>2014-12-25</td><td>Standard Class</td></tr><tr><td>SG-20605</td><td>0.0</td><td>2017-04-25</td><td>CA-2017-125381</td><td>107.97</td><td>TEC-AC-10000158</td><td>22.6737</td><td>3</td><td>5423</td><td>2017-04-27</td><td>Second Class</td></tr><tr><td>SG-20605</td><td>0.0</td><td>2014-11-03</td><td>CA-2014-121573</td><td>783.96</td><td>TEC-PH-10000984</td><td>219.5088</td><td>4</td><td>969</td><td>2014-11-07</td><td>Standard Class</td></tr><tr><td>SG-20605</td><td>0.0</td><td>2015-12-06</td><td>US-2015-127040</td><td>1619.91</td><td>TEC-AC-10002637</td><td>97.1946</td><td>9</td><td>4267</td><td>2015-12-10</td><td>Standard Class</td></tr></tbody></table></div>"
      ]
     },
     "metadata": {
      "application/vnd.databricks.v1+output": {
       "addedWidgets": {},
       "aggData": [],
       "aggError": "",
       "aggOverflow": false,
       "aggSchema": [],
       "aggSeriesLimitReached": false,
       "aggType": "",
       "arguments": {},
       "columnCustomDisplayInfos": {},
       "data": [
        [
         "SG-20605",
         0.2,
         "2014-12-19",
         "CA-2014-169446",
         "32.592",
         "OFF-ST-10000419",
         -7.7406,
         3,
         3427,
         "2014-12-25",
         "Standard Class"
        ],
        [
         "SG-20605",
         0.2,
         "2017-09-13",
         "CA-2017-139493",
         "15.92",
         "OFF-AR-10003158",
         2.786,
         5,
         9701,
         "2017-09-19",
         "Standard Class"
        ],
        [
         "SG-20605",
         0.2,
         "2014-12-19",
         "CA-2014-169446",
         "15.552",
         "OFF-PA-10000295",
         5.4432,
         3,
         7431,
         "2014-12-25",
         "Standard Class"
        ],
        [
         "SG-20605",
         0.2,
         "2014-11-03",
         "CA-2014-121573",
         "48.896",
         "OFF-BI-10000666",
         18.336,
         2,
         6048,
         "2014-11-07",
         "Standard Class"
        ],
        [
         "SG-20605",
         0.0,
         "2015-12-06",
         "US-2015-127040",
         "6.48",
         "OFF-PA-10004255",
         3.1104,
         1,
         4456,
         "2015-12-10",
         "Standard Class"
        ],
        [
         "SG-20605",
         0.0,
         "2014-01-23",
         "CA-2014-146997",
         "5.94",
         "OFF-FA-10003467",
         0.0,
         3,
         733,
         "2014-01-27",
         "Standard Class"
        ],
        [
         "SG-20605",
         0.0,
         "2015-12-06",
         "US-2015-127040",
         "41.86",
         "OFF-PA-10001184",
         20.5114,
         7,
         5523,
         "2015-12-10",
         "Standard Class"
        ],
        [
         "SG-20605",
         0.2,
         "2014-11-03",
         "CA-2014-121573",
         "7.856",
         "OFF-BI-10003712",
         2.8478,
         2,
         5520,
         "2014-11-07",
         "Standard Class"
        ],
        [
         "SG-20605",
         0.0,
         "2015-12-06",
         "US-2015-127040",
         "113.92",
         "FUR-FU-10002878",
         42.1504,
         4,
         5772,
         "2015-12-10",
         "Standard Class"
        ],
        [
         "SG-20605",
         0.2,
         "2014-12-19",
         "CA-2014-169446",
         "324",
         "TEC-PH-10002817",
         36.4473,
         3,
         2326,
         "2014-12-25",
         "Standard Class"
        ],
        [
         "SG-20605",
         0.0,
         "2017-04-25",
         "CA-2017-125381",
         "107.97",
         "TEC-AC-10000158",
         22.6737,
         3,
         5423,
         "2017-04-27",
         "Second Class"
        ],
        [
         "SG-20605",
         0.0,
         "2014-11-03",
         "CA-2014-121573",
         "783.96",
         "TEC-PH-10000984",
         219.5088,
         4,
         969,
         "2014-11-07",
         "Standard Class"
        ],
        [
         "SG-20605",
         0.0,
         "2015-12-06",
         "US-2015-127040",
         "1619.91",
         "TEC-AC-10002637",
         97.1946,
         9,
         4267,
         "2015-12-10",
         "Standard Class"
        ]
       ],
       "datasetInfos": [],
       "dbfsResultPath": null,
       "isJsonSchema": true,
       "metadata": {},
       "overflow": false,
       "plotOptions": {
        "customPlotOptions": {},
        "displayType": "table",
        "pivotAggregation": null,
        "pivotColumns": null,
        "xColumns": null,
        "yColumns": null
       },
       "removedWidgets": [],
       "schema": [
        {
         "metadata": "{}",
         "name": "Customer ID",
         "type": "\"string\""
        },
        {
         "metadata": "{}",
         "name": "Discount",
         "type": "\"double\""
        },
        {
         "metadata": "{}",
         "name": "Order Date",
         "type": "\"date\""
        },
        {
         "metadata": "{}",
         "name": "Order ID",
         "type": "\"string\""
        },
        {
         "metadata": "{}",
         "name": "Price",
         "type": "\"string\""
        },
        {
         "metadata": "{}",
         "name": "Product ID",
         "type": "\"string\""
        },
        {
         "metadata": "{}",
         "name": "Profit",
         "type": "\"double\""
        },
        {
         "metadata": "{}",
         "name": "Quantity",
         "type": "\"long\""
        },
        {
         "metadata": "{}",
         "name": "Row ID",
         "type": "\"long\""
        },
        {
         "metadata": "{}",
         "name": "Ship Date",
         "type": "\"date\""
        },
        {
         "metadata": "{}",
         "name": "Ship Mode",
         "type": "\"string\""
        }
       ],
       "type": "table"
      }
     },
     "output_type": "display_data"
    }
   ],
   "source": [
    "%sql\n",
    "\n",
    "select *\n",
    "from order_t\n",
    "where `Customer ID` = \"SG-20605\""
   ]
  },
  {
   "cell_type": "markdown",
   "metadata": {
    "application/vnd.databricks.v1+cell": {
     "cellMetadata": {
      "byteLimit": 2048000,
      "rowLimit": 10000
     },
     "inputWidgets": {},
     "nuid": "26e897bf-5c2d-4b0f-8074-2fb07ca4ea3d",
     "showTitle": false,
     "title": ""
    }
   },
   "source": [
    "There are muny customer who placced multiple orders"
   ]
  },
  {
   "cell_type": "code",
   "execution_count": 0,
   "metadata": {
    "application/vnd.databricks.v1+cell": {
     "cellMetadata": {
      "byteLimit": 2048000,
      "implicitDf": true,
      "rowLimit": 10000
     },
     "inputWidgets": {},
     "nuid": "438634a7-eca8-4817-a3d8-b6ade90a369a",
     "showTitle": false,
     "title": ""
    }
   },
   "outputs": [
    {
     "output_type": "display_data",
     "data": {
      "text/html": [
       "<style scoped>\n",
       "  .table-result-container {\n",
       "    max-height: 300px;\n",
       "    overflow: auto;\n",
       "  }\n",
       "  table, th, td {\n",
       "    border: 1px solid black;\n",
       "    border-collapse: collapse;\n",
       "  }\n",
       "  th, td {\n",
       "    padding: 5px;\n",
       "  }\n",
       "  th {\n",
       "    text-align: left;\n",
       "  }\n",
       "</style><div class='table-result-container'><table class='table-result'><thead style='background-color: white'><tr><th>Product ID</th><th>Category</th><th>Sub-Category</th><th>Product Name</th><th>State</th><th>Price per product</th></tr></thead><tbody><tr><td>FUR-FU-10002878</td><td>Furniture</td><td>Furnishings</td><td>\"Seth Thomas 14\"\" Day/Date Wall Clock\"</td><td>New York</td><td>28.48</td></tr></tbody></table></div>"
      ]
     },
     "metadata": {
      "application/vnd.databricks.v1+output": {
       "addedWidgets": {},
       "aggData": [],
       "aggError": "",
       "aggOverflow": false,
       "aggSchema": [],
       "aggSeriesLimitReached": false,
       "aggType": "",
       "arguments": {},
       "columnCustomDisplayInfos": {},
       "data": [
        [
         "FUR-FU-10002878",
         "Furniture",
         "Furnishings",
         "\"Seth Thomas 14\"\" Day/Date Wall Clock\"",
         "New York",
         28.48
        ]
       ],
       "datasetInfos": [],
       "dbfsResultPath": null,
       "isJsonSchema": true,
       "metadata": {},
       "overflow": false,
       "plotOptions": {
        "customPlotOptions": {},
        "displayType": "table",
        "pivotAggregation": null,
        "pivotColumns": null,
        "xColumns": null,
        "yColumns": null
       },
       "removedWidgets": [],
       "schema": [
        {
         "metadata": "{}",
         "name": "Product ID",
         "type": "\"string\""
        },
        {
         "metadata": "{}",
         "name": "Category",
         "type": "\"string\""
        },
        {
         "metadata": "{}",
         "name": "Sub-Category",
         "type": "\"string\""
        },
        {
         "metadata": "{}",
         "name": "Product Name",
         "type": "\"string\""
        },
        {
         "metadata": "{}",
         "name": "State",
         "type": "\"string\""
        },
        {
         "metadata": "{}",
         "name": "Price per product",
         "type": "\"double\""
        }
       ],
       "type": "table"
      }
     },
     "output_type": "display_data"
    }
   ],
   "source": [
    "%sql\n",
    "\n",
    "select *\n",
    "from product_t\n",
    "where `Product ID` = \"FUR-FU-10002878\""
   ]
  },
  {
   "cell_type": "markdown",
   "metadata": {
    "application/vnd.databricks.v1+cell": {
     "cellMetadata": {
      "byteLimit": 2048000,
      "rowLimit": 10000
     },
     "inputWidgets": {},
     "nuid": "405af67c-5412-4ea4-aca4-0e8382770b9e",
     "showTitle": false,
     "title": ""
    }
   },
   "source": [
    "#2: Create an enriched table for customers and products "
   ]
  },
  {
   "cell_type": "markdown",
   "metadata": {
    "application/vnd.databricks.v1+cell": {
     "cellMetadata": {
      "byteLimit": 2048000,
      "rowLimit": 10000
     },
     "inputWidgets": {},
     "nuid": "1352b1b2-5b4f-4c24-9ef3-368ad07b4cb1",
     "showTitle": false,
     "title": ""
    }
   },
   "source": [
    "no enrichment needed in customer table<br/>\n",
    "all the fields are having correct representation<br/>\n",
    "PII data -- we can do the masking, but as this is just a Demo I'm skiping that part<br/>"
   ]
  },
  {
   "cell_type": "markdown",
   "metadata": {
    "application/vnd.databricks.v1+cell": {
     "cellMetadata": {
      "byteLimit": 2048000,
      "rowLimit": 10000
     },
     "inputWidgets": {},
     "nuid": "97005595-9831-4d34-8da5-7ff0401dc7cf",
     "showTitle": false,
     "title": ""
    }
   },
   "source": [
    "In product table also there is no enrichment need, but just to showcase how it is done, wrting a simple case of creating the category_hierarchy of products"
   ]
  },
  {
   "cell_type": "code",
   "execution_count": 0,
   "metadata": {
    "application/vnd.databricks.v1+cell": {
     "cellMetadata": {
      "byteLimit": 2048000,
      "rowLimit": 10000
     },
     "inputWidgets": {},
     "nuid": "a716ee8a-b181-4003-9d8f-8267fe46e0c2",
     "showTitle": false,
     "title": ""
    }
   },
   "outputs": [
    {
     "output_type": "display_data",
     "data": {
      "text/html": [
       "<style scoped>\n",
       "  .ansiout {\n",
       "    display: block;\n",
       "    unicode-bidi: embed;\n",
       "    white-space: pre-wrap;\n",
       "    word-wrap: break-word;\n",
       "    word-break: break-all;\n",
       "    font-family: \"Menlo\", \"Monaco\", \"Consolas\", \"Ubuntu Mono\", \"Source Code Pro\", monospace;\n",
       "    font-size: 13px;\n",
       "    color: #555;\n",
       "    margin-left: 4px;\n",
       "    line-height: 19px;\n",
       "  }\n",
       "</style>\n",
       "<div class=\"ansiout\">Enriched product table test passed!\n",
       "+---------------+---------------+------------+--------------------+--------+-----------------+--------------------+\n",
       "     Product ID|       Category|Sub-Category|        Product Name|   State|Price per product|  category_hierarchy|\n",
       "+---------------+---------------+------------+--------------------+--------+-----------------+--------------------+\n",
       "OFF-BI-10002824|Office Supplies|     Binders|Recycled Easel Ri...|Colorado|             4.25|Office Supplies &gt;...|\n",
       "FUR-CH-10002961|      Furniture|      Chairs|Leather Task Chai...|New York|           81.882|  Furniture &gt; Chairs|\n",
       "+---------------+---------------+------------+--------------------+--------+-----------------+--------------------+\n",
       "only showing top 2 rows\n",
       "\n",
       "</div>"
      ]
     },
     "metadata": {
      "application/vnd.databricks.v1+output": {
       "addedWidgets": {},
       "arguments": {},
       "data": "<div class=\"ansiout\">Enriched product table test passed!\n+---------------+---------------+------------+--------------------+--------+-----------------+--------------------+\n|     Product ID|       Category|Sub-Category|        Product Name|   State|Price per product|  category_hierarchy|\n+---------------+---------------+------------+--------------------+--------+-----------------+--------------------+\n|OFF-BI-10002824|Office Supplies|     Binders|Recycled Easel Ri...|Colorado|             4.25|Office Supplies &gt;...|\n|FUR-CH-10002961|      Furniture|      Chairs|Leather Task Chai...|New York|           81.882|  Furniture &gt; Chairs|\n+---------------+---------------+------------+--------------------+--------+-----------------+--------------------+\nonly showing top 2 rows\n\n</div>",
       "datasetInfos": [],
       "metadata": {},
       "removedWidgets": [],
       "type": "html"
      }
     },
     "output_type": "display_data"
    }
   ],
   "source": [
    "\n",
    "#TDD test case\n",
    "def test_enriched_product():\n",
    "  assert \"category_hierarchy\" in product_df.columns  # Check for derived column\n",
    "  assert product_df.filter(product_df.Category.isNull() ).count() == 0  # Handle null values\n",
    "\n",
    "\n",
    "\n",
    "#Transformation function\n",
    "def enrich_product(product_df):\n",
    "  product_df = product_df.withColumn(\"category_hierarchy\", concat_ws(\" > \", col(\"Category\"), col(\"Sub-Category\")))\n",
    "  return product_df\n",
    "\n",
    "\n",
    "try:\n",
    "  product_df = enrich_product(product_df)  \n",
    "  test_enriched_product()\n",
    "  print(\"Enriched product table test passed!\")\n",
    "except AssertionError as e:\n",
    "  print(\"Enriched product table test failed:\", e)\n",
    "\n",
    "product_df.show(2)"
   ]
  },
  {
   "cell_type": "markdown",
   "metadata": {
    "application/vnd.databricks.v1+cell": {
     "cellMetadata": {
      "byteLimit": 2048000,
      "rowLimit": 10000
     },
     "inputWidgets": {},
     "nuid": "23f2756a-e61b-4b3f-b689-2abd5ac93e1d",
     "showTitle": false,
     "title": ""
    }
   },
   "source": [
    "#3:Create an enriched table which has<br/>\n",
    "->order information \n",
    "      <t/><br/>Profit rounded to 2 decimal places<br/>\n",
    "->Customer name and country<br/>\n",
    "->Product category and sub category\n"
   ]
  },
  {
   "cell_type": "code",
   "execution_count": 0,
   "metadata": {
    "application/vnd.databricks.v1+cell": {
     "cellMetadata": {
      "byteLimit": 2048000,
      "rowLimit": 10000
     },
     "inputWidgets": {},
     "nuid": "223464b8-66b0-49c8-9552-ffdd4e2b994e",
     "showTitle": false,
     "title": ""
    }
   },
   "outputs": [
    {
     "output_type": "display_data",
     "data": {
      "text/html": [
       "<style scoped>\n",
       "  .ansiout {\n",
       "    display: block;\n",
       "    unicode-bidi: embed;\n",
       "    white-space: pre-wrap;\n",
       "    word-wrap: break-word;\n",
       "    word-break: break-all;\n",
       "    font-family: \"Menlo\", \"Monaco\", \"Consolas\", \"Ubuntu Mono\", \"Source Code Pro\", monospace;\n",
       "    font-size: 13px;\n",
       "    color: #555;\n",
       "    margin-left: 4px;\n",
       "    line-height: 19px;\n",
       "  }\n",
       "</style>\n",
       "<div class=\"ansiout\">Enriched table test passed!\n",
       "+--------------+------------------+-------------+---------------+------------+-------+\n",
       "      Order ID|     Customer Name|      Country|       category|sub-category| Profit|\n",
       "+--------------+------------------+-------------+---------------+------------+-------+\n",
       "CA-2017-133256|     Tracy Hopkins|United States|     Technology|      Phones| 135.98|\n",
       "CA-2016-140634|      Hunter Lopez|United States|Office Supplies|   Envelopes|   5.09|\n",
       "CA-2016-125087|     Thea Hudgings|United States|Office Supplies|     Storage|  77.75|\n",
       "US-2016-114013|Stewart Carmichael|United States|     Technology|      Phones|-116.98|\n",
       "CA-2015-119627| Steven Cartwright|United States|Office Supplies|       Paper|   12.7|\n",
       "+--------------+------------------+-------------+---------------+------------+-------+\n",
       "only showing top 5 rows\n",
       "\n",
       "</div>"
      ]
     },
     "metadata": {
      "application/vnd.databricks.v1+output": {
       "addedWidgets": {},
       "arguments": {},
       "data": "<div class=\"ansiout\">Enriched table test passed!\n+--------------+------------------+-------------+---------------+------------+-------+\n|      Order ID|     Customer Name|      Country|       category|sub-category| Profit|\n+--------------+------------------+-------------+---------------+------------+-------+\n|CA-2017-133256|     Tracy Hopkins|United States|     Technology|      Phones| 135.98|\n|CA-2016-140634|      Hunter Lopez|United States|Office Supplies|   Envelopes|   5.09|\n|CA-2016-125087|     Thea Hudgings|United States|Office Supplies|     Storage|  77.75|\n|US-2016-114013|Stewart Carmichael|United States|     Technology|      Phones|-116.98|\n|CA-2015-119627| Steven Cartwright|United States|Office Supplies|       Paper|   12.7|\n+--------------+------------------+-------------+---------------+------------+-------+\nonly showing top 5 rows\n\n</div>",
       "datasetInfos": [],
       "metadata": {},
       "removedWidgets": [],
       "type": "html"
      }
     },
     "output_type": "display_data"
    }
   ],
   "source": [
    "\n",
    "def round_to_two_decimals(col_name):\n",
    "  \"\"\"Rounds a column to two decimal places.\"\"\"\n",
    "  return round((col_name), 2)\n",
    "\n",
    "\n",
    "\n",
    "def test_enriched_table():\n",
    "  assert \"Order ID\" in enriched_df.columns  # Check for Order ID\n",
    "  assert \"Customer Name\" in enriched_df.columns # Check for customer name\n",
    "  assert \"Country\" in enriched_df.columns  # Check for Customer Country\n",
    "  assert \"category\" in enriched_df.columns  # Check for Product Category\n",
    "  assert \"sub-category\" in enriched_df.columns  # Check for Product Sub Category\n",
    "  assert \"Profit\" in enriched_df.columns  # Check for Profit\n",
    "\n",
    "def enrich_data(order_df, customer_df, product_df):\n",
    "  \n",
    "  # Remove duplicates from product_df ( duplicates on ProductID)\n",
    "  product_df = product_df.dropDuplicates([\"Product ID\"])  \n",
    "\n",
    "\n",
    "  # Join orders and customers on Order ID (foreign key relationship)\n",
    "  enriched_df = order_df.join(customer_df, order_df[\"Customer ID\"]== customer_df[\"Customer ID\"], how='inner')\n",
    "\n",
    "  # Join enriched table with products on Product ID (assuming foreign key relationship)\n",
    "  enriched_df = enriched_df.join(product_df, enriched_df[\"Product ID\"] == product_df[\"Product ID\"], how='inner')\n",
    "\n",
    "  # Select desired columns and round profit  \n",
    "  enriched_df = enriched_df.select(\n",
    "      order_df[\"Order ID\"],\n",
    "      customer_df[\"Customer Name\"],  \n",
    "      customer_df[\"Country\"],\n",
    "      product_df[\"category\"],\n",
    "      product_df[\"sub-category\"],\n",
    "      round_to_two_decimals(order_df[\"Profit\"]).alias(\"Profit\")  # Use helper function or directly round\n",
    "  )\n",
    "\n",
    "  return enriched_df\n",
    "  \n",
    "\n",
    "try:\n",
    "  enriched_df = enrich_data(order_df, customer_df, product_df) \n",
    "  test_enriched_table()\n",
    "  print(\"Enriched table test passed!\")\n",
    "except AssertionError as e:\n",
    "  print(\"Enriched table test failed:\", e)\n",
    "\n",
    "\n",
    "enriched_df.show(5)"
   ]
  },
  {
   "cell_type": "code",
   "execution_count": 0,
   "metadata": {
    "application/vnd.databricks.v1+cell": {
     "cellMetadata": {
      "byteLimit": 2048000,
      "implicitDf": true,
      "rowLimit": 10000
     },
     "inputWidgets": {},
     "nuid": "d103bb46-e187-41d5-bda0-a0e4445a53b3",
     "showTitle": false,
     "title": ""
    }
   },
   "outputs": [
    {
     "output_type": "display_data",
     "data": {
      "text/html": [
       "<style scoped>\n",
       "  .table-result-container {\n",
       "    max-height: 300px;\n",
       "    overflow: auto;\n",
       "  }\n",
       "  table, th, td {\n",
       "    border: 1px solid black;\n",
       "    border-collapse: collapse;\n",
       "  }\n",
       "  th, td {\n",
       "    padding: 5px;\n",
       "  }\n",
       "  th {\n",
       "    text-align: left;\n",
       "  }\n",
       "</style><div class='table-result-container'><table class='table-result'><thead style='background-color: white'><tr><th>product id</th><th>count(product id)</th></tr></thead><tbody><tr><td>OFF-PA-10000477</td><td>2</td></tr><tr><td>FUR-FU-10004270</td><td>2</td></tr><tr><td>TEC-MA-10001148</td><td>2</td></tr><tr><td>OFF-BI-10004654</td><td>2</td></tr><tr><td>FUR-FU-10004017</td><td>2</td></tr><tr><td>OFF-PA-10001166</td><td>2</td></tr><tr><td>OFF-PA-10002195</td><td>2</td></tr><tr><td>OFF-AR-10001149</td><td>2</td></tr><tr><td>FUR-BO-10002213</td><td>2</td></tr><tr><td>TEC-PH-10004531</td><td>2</td></tr><tr><td>TEC-PH-10002310</td><td>2</td></tr><tr><td>TEC-AC-10002550</td><td>2</td></tr><tr><td>FUR-FU-10004848</td><td>2</td></tr><tr><td>OFF-ST-10001228</td><td>2</td></tr><tr><td>TEC-PH-10001795</td><td>2</td></tr><tr><td>OFF-BI-10004632</td><td>2</td></tr><tr><td>TEC-AC-10002049</td><td>2</td></tr><tr><td>OFF-AP-10000576</td><td>2</td></tr><tr><td>OFF-PA-10000659</td><td>2</td></tr><tr><td>FUR-FU-10001473</td><td>2</td></tr><tr><td>FUR-CH-10002961</td><td>2</td></tr><tr><td>TEC-PH-10001530</td><td>2</td></tr><tr><td>OFF-PA-10001970</td><td>2</td></tr><tr><td>OFF-PA-10000357</td><td>2</td></tr><tr><td>OFF-PA-10002377</td><td>2</td></tr><tr><td>FUR-FU-10004864</td><td>2</td></tr><tr><td>TEC-AC-10003832</td><td>2</td></tr><tr><td>FUR-FU-10004091</td><td>2</td></tr><tr><td>OFF-BI-10002026</td><td>2</td></tr><tr><td>OFF-ST-10004950</td><td>2</td></tr><tr><td>FUR-CH-10001146</td><td>2</td></tr><tr><td>OFF-PA-10003022</td><td>2</td></tr><tr><td>TEC-PH-10002200</td><td>2</td></tr></tbody></table></div>"
      ]
     },
     "metadata": {
      "application/vnd.databricks.v1+output": {
       "addedWidgets": {},
       "aggData": [],
       "aggError": "",
       "aggOverflow": false,
       "aggSchema": [],
       "aggSeriesLimitReached": false,
       "aggType": "",
       "arguments": {},
       "columnCustomDisplayInfos": {},
       "data": [
        [
         "OFF-PA-10000477",
         2
        ],
        [
         "FUR-FU-10004270",
         2
        ],
        [
         "TEC-MA-10001148",
         2
        ],
        [
         "OFF-BI-10004654",
         2
        ],
        [
         "FUR-FU-10004017",
         2
        ],
        [
         "OFF-PA-10001166",
         2
        ],
        [
         "OFF-PA-10002195",
         2
        ],
        [
         "OFF-AR-10001149",
         2
        ],
        [
         "FUR-BO-10002213",
         2
        ],
        [
         "TEC-PH-10004531",
         2
        ],
        [
         "TEC-PH-10002310",
         2
        ],
        [
         "TEC-AC-10002550",
         2
        ],
        [
         "FUR-FU-10004848",
         2
        ],
        [
         "OFF-ST-10001228",
         2
        ],
        [
         "TEC-PH-10001795",
         2
        ],
        [
         "OFF-BI-10004632",
         2
        ],
        [
         "TEC-AC-10002049",
         2
        ],
        [
         "OFF-AP-10000576",
         2
        ],
        [
         "OFF-PA-10000659",
         2
        ],
        [
         "FUR-FU-10001473",
         2
        ],
        [
         "FUR-CH-10002961",
         2
        ],
        [
         "TEC-PH-10001530",
         2
        ],
        [
         "OFF-PA-10001970",
         2
        ],
        [
         "OFF-PA-10000357",
         2
        ],
        [
         "OFF-PA-10002377",
         2
        ],
        [
         "FUR-FU-10004864",
         2
        ],
        [
         "TEC-AC-10003832",
         2
        ],
        [
         "FUR-FU-10004091",
         2
        ],
        [
         "OFF-BI-10002026",
         2
        ],
        [
         "OFF-ST-10004950",
         2
        ],
        [
         "FUR-CH-10001146",
         2
        ],
        [
         "OFF-PA-10003022",
         2
        ],
        [
         "TEC-PH-10002200",
         2
        ]
       ],
       "datasetInfos": [],
       "dbfsResultPath": null,
       "isJsonSchema": true,
       "metadata": {},
       "overflow": false,
       "plotOptions": {
        "customPlotOptions": {},
        "displayType": "table",
        "pivotAggregation": null,
        "pivotColumns": null,
        "xColumns": null,
        "yColumns": null
       },
       "removedWidgets": [],
       "schema": [
        {
         "metadata": "{}",
         "name": "product id",
         "type": "\"string\""
        },
        {
         "metadata": "{\"__autoGeneratedAlias\":\"true\"}",
         "name": "count(product id)",
         "type": "\"long\""
        }
       ],
       "type": "table"
      }
     },
     "output_type": "display_data"
    }
   ],
   "source": [
    "%sql\n",
    "select `product id`, count(`product id`)\n",
    "from product_t\n",
    "group by `product id`\n",
    "having count(`product id`)>1"
   ]
  },
  {
   "cell_type": "markdown",
   "metadata": {
    "application/vnd.databricks.v1+cell": {
     "cellMetadata": {
      "byteLimit": 2048000,
      "rowLimit": 10000
     },
     "inputWidgets": {},
     "nuid": "105cacc2-c25a-4852-acb8-ea28f48c368a",
     "showTitle": false,
     "title": ""
    }
   },
   "source": [
    "There are mutiple entry for same product id in table, and thats the resons you see multiple entry for same order ID <br/>\n",
    "duplicate rows indicates the product in diffrent states, without having more information about the data, its difficult to make any assumnstion.<br/>\n",
    "Their are many thing we can do to address these kind of isse:<br/>\n",
    "-> Remove duplicate from Product table so that each product have only one row i.e more reliable data\n",
    "-> If combination of product_id and state is going to act as primary key then more specific information in needed like does state represent <br/>the state of product manufacture or its associated with customer state who is buying the product\n",
    "\n",
    "-> I've added dropduplicate for product table for now, once we have more info we can make more relevent transformation."
   ]
  },
  {
   "cell_type": "markdown",
   "metadata": {
    "application/vnd.databricks.v1+cell": {
     "cellMetadata": {
      "byteLimit": 2048000,
      "rowLimit": 10000
     },
     "inputWidgets": {},
     "nuid": "a83a20a3-9a52-4618-982e-fcf0c3217ac0",
     "showTitle": false,
     "title": ""
    }
   },
   "source": [
    "#4:Create an aggregate table that shows profit by \n",
    "<br/>->Year\n",
    "<br/>->Product Category\n",
    "<br/>->Product Sub Category\n",
    "<br/>->Customer\n"
   ]
  },
  {
   "cell_type": "code",
   "execution_count": 0,
   "metadata": {
    "application/vnd.databricks.v1+cell": {
     "cellMetadata": {
      "byteLimit": 2048000,
      "rowLimit": 10000
     },
     "inputWidgets": {},
     "nuid": "77ed7dc5-aca3-4826-89a8-932bac3eb41c",
     "showTitle": false,
     "title": ""
    }
   },
   "outputs": [
    {
     "output_type": "display_data",
     "data": {
      "text/html": [
       "<style scoped>\n",
       "  .ansiout {\n",
       "    display: block;\n",
       "    unicode-bidi: embed;\n",
       "    white-space: pre-wrap;\n",
       "    word-wrap: break-word;\n",
       "    word-break: break-all;\n",
       "    font-family: \"Menlo\", \"Monaco\", \"Consolas\", \"Ubuntu Mono\", \"Source Code Pro\", monospace;\n",
       "    font-size: 13px;\n",
       "    color: #555;\n",
       "    margin-left: 4px;\n",
       "    line-height: 19px;\n",
       "  }\n",
       "</style>\n",
       "<div class=\"ansiout\">Enriched table test failed: \n",
       "+----------+--------------+-----------+-------------+---------------+------------+-------+\n",
       "order date|      Order ID|Customer ID|      Country|       category|sub-category| Profit|\n",
       "+----------+--------------+-----------+-------------+---------------+------------+-------+\n",
       "2017-06-26|CA-2017-133256|   TH-21550|United States|     Technology|      Phones| 135.98|\n",
       "2016-10-03|CA-2016-140634|   HL-15040|United States|Office Supplies|   Envelopes|   5.09|\n",
       "2016-04-18|CA-2016-125087|   TH-21115|United States|Office Supplies|     Storage|  77.75|\n",
       "2016-03-13|US-2016-114013|   SC-20770|United States|     Technology|      Phones|-116.98|\n",
       "2015-08-17|CA-2015-119627|   SC-20725|United States|Office Supplies|       Paper|   12.7|\n",
       "+----------+--------------+-----------+-------------+---------------+------------+-------+\n",
       "only showing top 5 rows\n",
       "\n",
       "</div>"
      ]
     },
     "metadata": {
      "application/vnd.databricks.v1+output": {
       "addedWidgets": {},
       "arguments": {},
       "data": "<div class=\"ansiout\">Enriched table test failed: \n+----------+--------------+-----------+-------------+---------------+------------+-------+\n|order date|      Order ID|Customer ID|      Country|       category|sub-category| Profit|\n+----------+--------------+-----------+-------------+---------------+------------+-------+\n|2017-06-26|CA-2017-133256|   TH-21550|United States|     Technology|      Phones| 135.98|\n|2016-10-03|CA-2016-140634|   HL-15040|United States|Office Supplies|   Envelopes|   5.09|\n|2016-04-18|CA-2016-125087|   TH-21115|United States|Office Supplies|     Storage|  77.75|\n|2016-03-13|US-2016-114013|   SC-20770|United States|     Technology|      Phones|-116.98|\n|2015-08-17|CA-2015-119627|   SC-20725|United States|Office Supplies|       Paper|   12.7|\n+----------+--------------+-----------+-------------+---------------+------------+-------+\nonly showing top 5 rows\n\n</div>",
       "datasetInfos": [],
       "metadata": {},
       "removedWidgets": [],
       "type": "html"
      }
     },
     "output_type": "display_data"
    }
   ],
   "source": [
    "#adding date, customer id in enrichment df  -- improvment \n",
    "\n",
    "\n",
    "def round_to_two_decimals(col_name):\n",
    "  \"\"\"Rounds a column to two decimal places.\"\"\"\n",
    "  return round((col_name), 2)\n",
    "\n",
    "\n",
    "\n",
    "def test_enriched_table():\n",
    "  assert \"Order date\" in enriched_df.columns  # Check for Order ID\n",
    "  assert \"Order ID\" in enriched_df.columns  # Check for Order ID\n",
    "  assert \"Customer Name\" in enriched_df.columns # Check for customer name\n",
    "  assert \"Country\" in enriched_df.columns  # Check for Customer Country\n",
    "  assert \"category\" in enriched_df.columns  # Check for Product Category\n",
    "  assert \"sub-category\" in enriched_df.columns  # Check for Product Sub Category\n",
    "  assert \"Profit\" in enriched_df.columns  # Check for Profit\n",
    "\n",
    "def enrich_data(order_df, customer_df, product_df):\n",
    "  \n",
    "  # Remove duplicates from product_df ( duplicates on ProductID)\n",
    "  product_df = product_df.dropDuplicates([\"Product ID\"])  \n",
    "\n",
    "\n",
    "  # Join orders and customers on Order ID (foreign key relationship)\n",
    "  enriched_df = order_df.join(customer_df, order_df[\"Customer ID\"]== customer_df[\"Customer ID\"], how='inner')\n",
    "\n",
    "  # Join enriched table with products on Product ID (assuming foreign key relationship)\n",
    "  enriched_df = enriched_df.join(product_df, enriched_df[\"Product ID\"] == product_df[\"Product ID\"], how='inner')\n",
    "\n",
    "  # Select desired columns and round profit  \n",
    "  enriched_df_im = enriched_df.select(\n",
    "      order_df[\"order date\"],\n",
    "      order_df[\"Order ID\"],\n",
    "      customer_df[\"Customer ID\"],  \n",
    "      customer_df[\"Country\"],\n",
    "      product_df[\"category\"],\n",
    "      product_df[\"sub-category\"],\n",
    "      round_to_two_decimals(order_df[\"Profit\"]).alias(\"Profit\")  # Use helper function or directly round\n",
    "  )\n",
    "\n",
    "  return enriched_df_im\n",
    "  \n",
    "\n",
    "try:\n",
    "  enriched_df_im = enrich_data(order_df, customer_df, product_df) \n",
    "  test_enriched_table()\n",
    "  print(\"Enriched table test passed!\")\n",
    "except AssertionError as e:\n",
    "  print(\"Enriched table test failed:\", e)\n",
    "\n",
    "\n",
    "enriched_df_im.show(5)\n",
    "enriched_df_im.createOrReplaceTempView('enriched_im_t')"
   ]
  },
  {
   "cell_type": "code",
   "execution_count": 0,
   "metadata": {
    "application/vnd.databricks.v1+cell": {
     "cellMetadata": {
      "byteLimit": 2048000,
      "rowLimit": 10000
     },
     "inputWidgets": {},
     "nuid": "961eb47d-8648-485b-a11a-3accfb774676",
     "showTitle": false,
     "title": ""
    }
   },
   "outputs": [
    {
     "output_type": "display_data",
     "data": {
      "text/html": [
       "<style scoped>\n",
       "  .ansiout {\n",
       "    display: block;\n",
       "    unicode-bidi: embed;\n",
       "    white-space: pre-wrap;\n",
       "    word-wrap: break-word;\n",
       "    word-break: break-all;\n",
       "    font-family: \"Menlo\", \"Monaco\", \"Consolas\", \"Ubuntu Mono\", \"Source Code Pro\", monospace;\n",
       "    font-size: 13px;\n",
       "    color: #555;\n",
       "    margin-left: 4px;\n",
       "    line-height: 19px;\n",
       "  }\n",
       "</style>\n",
       "<div class=\"ansiout\">aggregate table test passed!\n",
       "</div>"
      ]
     },
     "metadata": {
      "application/vnd.databricks.v1+output": {
       "addedWidgets": {},
       "arguments": {},
       "data": "<div class=\"ansiout\">aggregate table test passed!\n</div>",
       "datasetInfos": [],
       "metadata": {},
       "removedWidgets": [],
       "type": "html"
      }
     },
     "output_type": "display_data"
    }
   ],
   "source": [
    "def test_aggregate_profit(aggregated_df, expected_year=None, expected_category=None, expected_sub_category=None, expected_customer=None):\n",
    "  \"\"\"\n",
    "  Test function for aggregate_profit. Checks presence of columns, data types,\n",
    "  and optionally verifies specific values for Year, Category, Sub Category,\n",
    "  Customer ID, and Total Profit.\n",
    "  \"\"\"\n",
    "  assert \"Year\" in aggregated_df.columns  # Check for Year column\n",
    "  assert \"Product_Category\" in aggregated_df.columns  # Check for Product Category\n",
    "  assert \"Product_Sub_Category\" in aggregated_df.columns  # Check for Product Sub Category\n",
    "  assert \"Customer\" in aggregated_df.columns  # Check for Customer ID\n",
    "  assert \"Total_Profit\" in aggregated_df.columns  # Check for aggregated profit\n",
    "  \n",
    "  # Optional assertions for specific values (modify as needed)\n",
    "  if expected_year:\n",
    "    assert aggregated_df.filter(col(\"Year\") == expected_year).count() > 0  # Check for expected year\n",
    "  if expected_category:\n",
    "    assert aggregated_df.filter(col(\"Product_Category\") == expected_category).count() > 0  # Check for expected category\n",
    "  if expected_sub_category:\n",
    "    assert aggregated_df.filter(col(\"Product_Sub_Category\") == expected_sub_category).count() > 0  # Check for expected sub category\n",
    "  if expected_sub_category:\n",
    "    assert aggregated_df.filter(col(\"Customer\") == expected_customer).count() > 0  # Check for expected sub category\n",
    "  \n",
    "\n",
    "\n",
    "\n",
    "\n",
    "def aggregate_profit(enriched_im_t):  \n",
    "  aggregate_df = spark.sql(\"\"\"\n",
    "      SELECT \n",
    "          YEAR(`Order Date`) AS Year,\n",
    "          `Category` AS Product_Category,\n",
    "          `Sub-Category` AS Product_Sub_Category,\n",
    "          `Customer ID` AS Customer,\n",
    "          ROUND(SUM(profit), 2) AS Total_Profit\n",
    "      FROM \n",
    "          enriched_im_t\n",
    "      GROUP BY \n",
    "          YEAR(`Order Date`), \n",
    "          `Category`, \n",
    "          `Sub-Category`, \n",
    "          `Customer ID`\n",
    "  \"\"\")\n",
    "  return aggregate_df\n",
    "# Show the aggregate table\n",
    "#aggregate_table.show()\n",
    "\n",
    "\n",
    "try:\n",
    "  aggregate_df = aggregate_profit('enriched_im_t') \n",
    "  test_aggregate_profit(aggregate_df)\n",
    "  print(\"aggregate table test passed!\")\n",
    "except AssertionError as e:\n",
    "  print(\"aggregate table test failed:\", e)\n"
   ]
  },
  {
   "cell_type": "markdown",
   "metadata": {
    "application/vnd.databricks.v1+cell": {
     "cellMetadata": {
      "byteLimit": 2048000,
      "rowLimit": 10000
     },
     "inputWidgets": {},
     "nuid": "d254ab41-4071-48b5-9b56-386d29d727d7",
     "showTitle": false,
     "title": ""
    }
   },
   "source": [
    "#4:Using SQL output the following aggregates<br/>\n",
    "->Profit by Year<br/>\n",
    "->Profit by Year + Product Category\n",
    "<br/>->Profit by Customer\n",
    "<br/>->Profit by Customer + Year\n"
   ]
  },
  {
   "cell_type": "code",
   "execution_count": 0,
   "metadata": {
    "application/vnd.databricks.v1+cell": {
     "cellMetadata": {
      "byteLimit": 2048000,
      "rowLimit": 10000
     },
     "inputWidgets": {},
     "nuid": "198f11c6-e7e8-40bf-b063-c33386bfcdb4",
     "showTitle": false,
     "title": ""
    }
   },
   "outputs": [
    {
     "output_type": "display_data",
     "data": {
      "text/html": [
       "<style scoped>\n",
       "  .ansiout {\n",
       "    display: block;\n",
       "    unicode-bidi: embed;\n",
       "    white-space: pre-wrap;\n",
       "    word-wrap: break-word;\n",
       "    word-break: break-all;\n",
       "    font-family: \"Menlo\", \"Monaco\", \"Consolas\", \"Ubuntu Mono\", \"Source Code Pro\", monospace;\n",
       "    font-size: 13px;\n",
       "    color: #555;\n",
       "    margin-left: 4px;\n",
       "    line-height: 19px;\n",
       "  }\n",
       "</style>\n",
       "<div class=\"ansiout\"></div>"
      ]
     },
     "metadata": {
      "application/vnd.databricks.v1+output": {
       "addedWidgets": {},
       "arguments": {},
       "data": "<div class=\"ansiout\"></div>",
       "datasetInfos": [],
       "metadata": {},
       "removedWidgets": [],
       "type": "html"
      }
     },
     "output_type": "display_data"
    }
   ],
   "source": [
    "\n",
    "def test_profit_by_year(aggregated_df):\n",
    "  \"\"\"Test for profit by year.\"\"\"\n",
    "  assert \"Year\" in aggregated_df.columns  # Check for Year column\n",
    "  assert \"Total_Profit\" in aggregated_df.columns  # Check for Total Profit\n",
    "\n",
    "def aggregate_profit_by_year(enriched_im_t):  \n",
    "  aggregate_df = spark.sql(\"\"\"\n",
    "      SELECT \n",
    "          YEAR(`Order Date`) AS Year,\n",
    "          ROUND(SUM(profit), 2) AS Total_Profit\n",
    "      FROM \n",
    "          enriched_im_t\n",
    "      GROUP BY \n",
    "          YEAR(`Order Date`)\n",
    "  \"\"\")\n",
    "  return aggregate_df\n",
    "  \n",
    "def test_profit_by_year_category(aggregated_df):\n",
    "  \"\"\"Test for profit by year and product category.\"\"\"\n",
    "  assert \"Year\" in aggregated_df.columns  # Check for Year column\n",
    "  assert \"Product_Category\" in aggregated_df.columns  # Check for Product Category\n",
    "  assert \"Total_Profit\" in aggregated_df.columns  # Check for Total Profit\n",
    "\n",
    "def aggregate_profit_by_year_category(enriched_im_t):  \n",
    "  aggregate_df = spark.sql(\"\"\"\n",
    "      SELECT \n",
    "          YEAR(`Order Date`) AS Year,\n",
    "          `Category` AS Product_Category,\n",
    "          ROUND(SUM(profit), 2) AS Total_Profit\n",
    "      FROM \n",
    "          enriched_im_t\n",
    "      GROUP BY \n",
    "          YEAR(`Order Date`), \n",
    "          `Category`\n",
    "  \"\"\")\n",
    "  return aggregate_df\n",
    "  \n",
    "def test_profit_by_customer(aggregated_df):\n",
    "  \"\"\"Test for profit by customer.\"\"\"\n",
    "  assert \"Customer\" in aggregated_df.columns  # Check for Customer\n",
    "  assert \"Total_Profit\" in aggregated_df.columns  # Check for Total Profit\n",
    "\n",
    "def aggregate_profit_by_customer(enriched_im_t):  \n",
    "  aggregate_df = spark.sql(\"\"\"\n",
    "      SELECT \n",
    "          `Customer ID` AS Customer,\n",
    "          ROUND(SUM(profit), 2) AS Total_Profit\n",
    "      FROM \n",
    "          enriched_im_t\n",
    "      GROUP BY \n",
    "          `Customer ID`\n",
    "  \"\"\")\n",
    "  return aggregate_df\n",
    "  \n",
    "def test_profit_by_customer_year(aggregated_df):\n",
    "  \"\"\"Test for profit by customer and year.\"\"\"\n",
    "  assert \"Customer\" in aggregated_df.columns  # Check for Customer\n",
    "  assert \"Year\" in aggregated_df.columns  # Check for Year column\n",
    "  assert \"Total_Profit\" in aggregated_df.columns  # Check for Total Profit\n",
    "\n",
    "def aggregate_profit_customer_by_year(enriched_im_t):  \n",
    "  aggregate_df = spark.sql(\"\"\"\n",
    "      SELECT \n",
    "          YEAR(`Order Date`) AS Year,\n",
    "          `Customer ID` AS Customer,\n",
    "          ROUND(SUM(profit), 2) AS Total_Profit\n",
    "      FROM \n",
    "          enriched_im_t\n",
    "      GROUP BY \n",
    "          YEAR(`Order Date`), \n",
    "          `Customer ID`\n",
    "  \"\"\")\n",
    "  return aggregate_df\n",
    "  "
   ]
  },
  {
   "cell_type": "code",
   "execution_count": 0,
   "metadata": {
    "application/vnd.databricks.v1+cell": {
     "cellMetadata": {
      "byteLimit": 2048000,
      "rowLimit": 10000
     },
     "inputWidgets": {},
     "nuid": "0e185360-b21a-48e1-82aa-050351a6b1ae",
     "showTitle": false,
     "title": ""
    }
   },
   "outputs": [
    {
     "output_type": "display_data",
     "data": {
      "text/html": [
       "<style scoped>\n",
       "  .ansiout {\n",
       "    display: block;\n",
       "    unicode-bidi: embed;\n",
       "    white-space: pre-wrap;\n",
       "    word-wrap: break-word;\n",
       "    word-break: break-all;\n",
       "    font-family: \"Menlo\", \"Monaco\", \"Consolas\", \"Ubuntu Mono\", \"Source Code Pro\", monospace;\n",
       "    font-size: 13px;\n",
       "    color: #555;\n",
       "    margin-left: 4px;\n",
       "    line-height: 19px;\n",
       "  }\n",
       "</style>\n",
       "<div class=\"ansiout\">-------Profit by Year-----\n",
       "+----+------------+\n",
       "Year|Total_Profit|\n",
       "+----+------------+\n",
       "2015|    62490.14|\n",
       "2014|    38662.76|\n",
       "2016|    64669.14|\n",
       "2017|    110596.8|\n",
       "+----+------------+\n",
       "\n",
       "year aggregate table test passed!\n",
       "-------Profit by Year + Category-----\n",
       "+----+----------------+------------+\n",
       "Year|Product_Category|Total_Profit|\n",
       "+----+----------------+------------+\n",
       "2017| Office Supplies|    44273.35|\n",
       "2015| Office Supplies|    24519.51|\n",
       "2016|      Technology|    23223.84|\n",
       "2014|      Technology|    21493.38|\n",
       "2015|       Furniture|      3027.2|\n",
       "2014|       Furniture|    -5331.05|\n",
       "2017|      Technology|    63281.91|\n",
       "2017|       Furniture|     3041.54|\n",
       "2015|      Technology|    34943.43|\n",
       "2014| Office Supplies|    22500.43|\n",
       "2016|       Furniture|     6889.56|\n",
       "2016| Office Supplies|    34555.74|\n",
       "+----+----------------+------------+\n",
       "\n",
       "year + category aggregate table test passed!\n",
       "</div>"
      ]
     },
     "metadata": {
      "application/vnd.databricks.v1+output": {
       "addedWidgets": {},
       "arguments": {},
       "data": "<div class=\"ansiout\">-------Profit by Year-----\n+----+------------+\n|Year|Total_Profit|\n+----+------------+\n|2015|    62490.14|\n|2014|    38662.76|\n|2016|    64669.14|\n|2017|    110596.8|\n+----+------------+\n\nyear aggregate table test passed!\n-------Profit by Year + Category-----\n+----+----------------+------------+\n|Year|Product_Category|Total_Profit|\n+----+----------------+------------+\n|2017| Office Supplies|    44273.35|\n|2015| Office Supplies|    24519.51|\n|2016|      Technology|    23223.84|\n|2014|      Technology|    21493.38|\n|2015|       Furniture|      3027.2|\n|2014|       Furniture|    -5331.05|\n|2017|      Technology|    63281.91|\n|2017|       Furniture|     3041.54|\n|2015|      Technology|    34943.43|\n|2014| Office Supplies|    22500.43|\n|2016|       Furniture|     6889.56|\n|2016| Office Supplies|    34555.74|\n+----+----------------+------------+\n\nyear + category aggregate table test passed!\n</div>",
       "datasetInfos": [],
       "metadata": {},
       "removedWidgets": [],
       "type": "html"
      }
     },
     "output_type": "display_data"
    }
   ],
   "source": [
    "try:\n",
    "  aggregate_df = aggregate_profit_by_year('enriched_im_t') \n",
    "  test_profit_by_year(aggregate_df)\n",
    "  print(\"-------Profit by Year-----\")\n",
    "  aggregate_df.show()\n",
    "  print(\"year aggregate table test passed!\")\n",
    "except AssertionError as e:\n",
    "  print(\"aggregate table test failed:\", e)\n",
    "\n",
    "\n",
    "try:\n",
    "  aggregate_df = aggregate_profit_by_year_category('enriched_im_t') \n",
    "  test_profit_by_year_category(aggregate_df)\n",
    "  print(\"-------Profit by Year + Category-----\")\n",
    "  aggregate_df.show()\n",
    "  print(\"year + category aggregate table test passed!\")\n",
    "except AssertionError as e:\n",
    "  print(\"year + category aggregate table test failed:\", e)"
   ]
  },
  {
   "cell_type": "code",
   "execution_count": 0,
   "metadata": {
    "application/vnd.databricks.v1+cell": {
     "cellMetadata": {
      "byteLimit": 2048000,
      "rowLimit": 10000
     },
     "inputWidgets": {},
     "nuid": "f8221e28-4bbf-4492-ab2b-f059de24a920",
     "showTitle": false,
     "title": ""
    }
   },
   "outputs": [
    {
     "output_type": "display_data",
     "data": {
      "text/html": [
       "<style scoped>\n",
       "  .ansiout {\n",
       "    display: block;\n",
       "    unicode-bidi: embed;\n",
       "    white-space: pre-wrap;\n",
       "    word-wrap: break-word;\n",
       "    word-break: break-all;\n",
       "    font-family: \"Menlo\", \"Monaco\", \"Consolas\", \"Ubuntu Mono\", \"Source Code Pro\", monospace;\n",
       "    font-size: 13px;\n",
       "    color: #555;\n",
       "    margin-left: 4px;\n",
       "    line-height: 19px;\n",
       "  }\n",
       "</style>\n",
       "<div class=\"ansiout\">-------Profit by Customer-----\n",
       "+--------+------------+\n",
       "Customer|Total_Profit|\n",
       "+--------+------------+\n",
       "VW-21775|     -874.66|\n",
       "PB-19210|        21.9|\n",
       "RR-19315|      -73.83|\n",
       "MY-17380|      294.82|\n",
       "EM-13960|       102.3|\n",
       "MS-17530|       81.77|\n",
       "KH-16630|       726.1|\n",
       "SW-20275|      332.76|\n",
       "AH-10690|     1239.86|\n",
       "BD-11500|     1127.49|\n",
       "PH-18790|       47.89|\n",
       "JF-15490|      -18.05|\n",
       "JF-15415|      624.41|\n",
       "IM-15070|       514.2|\n",
       "PW-19240|     1283.37|\n",
       "NW-18400|     1002.41|\n",
       "KF-16285|     1660.41|\n",
       "OT-18730|     -925.56|\n",
       "KD-16615|      539.72|\n",
       "JH-15985|     -644.48|\n",
       "+--------+------------+\n",
       "only showing top 20 rows\n",
       "\n",
       "Custoemr aggregate table test passed!\n",
       "</div>"
      ]
     },
     "metadata": {
      "application/vnd.databricks.v1+output": {
       "addedWidgets": {},
       "arguments": {},
       "data": "<div class=\"ansiout\">-------Profit by Customer-----\n+--------+------------+\n|Customer|Total_Profit|\n+--------+------------+\n|VW-21775|     -874.66|\n|PB-19210|        21.9|\n|RR-19315|      -73.83|\n|MY-17380|      294.82|\n|EM-13960|       102.3|\n|MS-17530|       81.77|\n|KH-16630|       726.1|\n|SW-20275|      332.76|\n|AH-10690|     1239.86|\n|BD-11500|     1127.49|\n|PH-18790|       47.89|\n|JF-15490|      -18.05|\n|JF-15415|      624.41|\n|IM-15070|       514.2|\n|PW-19240|     1283.37|\n|NW-18400|     1002.41|\n|KF-16285|     1660.41|\n|OT-18730|     -925.56|\n|KD-16615|      539.72|\n|JH-15985|     -644.48|\n+--------+------------+\nonly showing top 20 rows\n\nCustoemr aggregate table test passed!\n</div>",
       "datasetInfos": [],
       "metadata": {},
       "removedWidgets": [],
       "type": "html"
      }
     },
     "output_type": "display_data"
    }
   ],
   "source": [
    "try:\n",
    "  aggregate_df = aggregate_profit_by_customer('enriched_im_t') \n",
    "  def test_profit_by_customer(aggregated_df):\n",
    "    aggregated_df.show()\n",
    "  print(\"-------Profit by Customer-----\")\n",
    "  aggregate_df.show()\n",
    "  print(\"Custoemr aggregate table test passed!\")\n",
    "except AssertionError as e:\n",
    "  print(\"Customer aggregate table test failed:\", e)"
   ]
  },
  {
   "cell_type": "code",
   "execution_count": 0,
   "metadata": {
    "application/vnd.databricks.v1+cell": {
     "cellMetadata": {
      "byteLimit": 2048000,
      "rowLimit": 10000
     },
     "inputWidgets": {},
     "nuid": "3d5209fd-a91a-4977-a555-7c1ff893bb41",
     "showTitle": false,
     "title": ""
    }
   },
   "outputs": [
    {
     "output_type": "display_data",
     "data": {
      "text/html": [
       "<style scoped>\n",
       "  .ansiout {\n",
       "    display: block;\n",
       "    unicode-bidi: embed;\n",
       "    white-space: pre-wrap;\n",
       "    word-wrap: break-word;\n",
       "    word-break: break-all;\n",
       "    font-family: \"Menlo\", \"Monaco\", \"Consolas\", \"Ubuntu Mono\", \"Source Code Pro\", monospace;\n",
       "    font-size: 13px;\n",
       "    color: #555;\n",
       "    margin-left: 4px;\n",
       "    line-height: 19px;\n",
       "  }\n",
       "</style>\n",
       "<div class=\"ansiout\">-------Profit by Year + customer-----\n",
       "+----+--------+------------+\n",
       "Year|Customer|Total_Profit|\n",
       "+----+--------+------------+\n",
       "2014|ZD-21925|       25.49|\n",
       "2015|PW-19240|     1370.23|\n",
       "2017|MF-18250|      287.24|\n",
       "2015|LO-17170|       34.45|\n",
       "2017|TB-21250|      -31.68|\n",
       "2015|SU-20665|        76.4|\n",
       "2014|TZ-21580|       132.3|\n",
       "2017|ML-17395|        11.1|\n",
       "2017|JM-15580|        -0.6|\n",
       "2015|BS-11590|       103.1|\n",
       "2015|RM-19375|       19.97|\n",
       "2017|DS-13180|      -29.56|\n",
       "2017|HM-14980|       41.23|\n",
       "2014|BP-11095|      131.71|\n",
       "2015|JW-15955|     -201.65|\n",
       "2015|SO-20335|     -282.31|\n",
       "2015|BP-11230|     -255.74|\n",
       "2016|GB-14575|       73.22|\n",
       "2016|TW-21025|       33.01|\n",
       "2016|TT-21070|        2.69|\n",
       "+----+--------+------------+\n",
       "only showing top 20 rows\n",
       "\n",
       "year + customer aggregate table test passed!\n",
       "</div>"
      ]
     },
     "metadata": {
      "application/vnd.databricks.v1+output": {
       "addedWidgets": {},
       "arguments": {},
       "data": "<div class=\"ansiout\">-------Profit by Year + customer-----\n+----+--------+------------+\n|Year|Customer|Total_Profit|\n+----+--------+------------+\n|2014|ZD-21925|       25.49|\n|2015|PW-19240|     1370.23|\n|2017|MF-18250|      287.24|\n|2015|LO-17170|       34.45|\n|2017|TB-21250|      -31.68|\n|2015|SU-20665|        76.4|\n|2014|TZ-21580|       132.3|\n|2017|ML-17395|        11.1|\n|2017|JM-15580|        -0.6|\n|2015|BS-11590|       103.1|\n|2015|RM-19375|       19.97|\n|2017|DS-13180|      -29.56|\n|2017|HM-14980|       41.23|\n|2014|BP-11095|      131.71|\n|2015|JW-15955|     -201.65|\n|2015|SO-20335|     -282.31|\n|2015|BP-11230|     -255.74|\n|2016|GB-14575|       73.22|\n|2016|TW-21025|       33.01|\n|2016|TT-21070|        2.69|\n+----+--------+------------+\nonly showing top 20 rows\n\nyear + customer aggregate table test passed!\n</div>",
       "datasetInfos": [],
       "metadata": {},
       "removedWidgets": [],
       "type": "html"
      }
     },
     "output_type": "display_data"
    }
   ],
   "source": [
    "try:\n",
    "  aggregate_df = aggregate_profit_customer_by_year('enriched_im_t') \n",
    "  test_profit_by_customer_year(aggregate_df)\n",
    "  print(\"-------Profit by Year + customer-----\")\n",
    "  aggregate_df.show()\n",
    "  print(\"year + customer aggregate table test passed!\")\n",
    "except AssertionError as e:\n",
    "  print(\"year + customer aggregate table test failed:\", e)"
   ]
  }
 ],
 "metadata": {
  "application/vnd.databricks.v1+notebook": {
   "dashboards": [],
   "language": "python",
   "notebookMetadata": {
    "mostRecentlyExecutedCommandWithImplicitDF": {
     "commandId": 3236195818615080,
     "dataframes": [
      "_sqldf"
     ]
    },
    "pythonIndentUnit": 2
   },
   "notebookName": "PEI_2",
   "widgets": {}
  }
 },
 "nbformat": 4,
 "nbformat_minor": 0
}
