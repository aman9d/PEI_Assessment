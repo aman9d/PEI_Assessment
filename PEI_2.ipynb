{
 "cells": [
  {
   "cell_type": "markdown",
   "metadata": {
    "application/vnd.databricks.v1+cell": {
     "cellMetadata": {},
     "inputWidgets": {},
     "nuid": "526ffbd8-effc-4963-8a2a-ea641a9417ee",
     "showTitle": false,
     "title": ""
    }
   },
   "source": [
    "#Loding libraries,  Modelue etc"
   ]
  },
  {
   "cell_type": "code",
   "execution_count": 0,
   "metadata": {
    "application/vnd.databricks.v1+cell": {
     "cellMetadata": {
      "byteLimit": 2048000,
      "rowLimit": 10000
     },
     "inputWidgets": {},
     "nuid": "6be3e2e3-0afb-4054-9848-992e4ebf9d67",
     "showTitle": false,
     "title": ""
    }
   },
   "outputs": [
    {
     "output_type": "display_data",
     "data": {
      "text/html": [
       "<style scoped>\n",
       "  .ansiout {\n",
       "    display: block;\n",
       "    unicode-bidi: embed;\n",
       "    white-space: pre-wrap;\n",
       "    word-wrap: break-word;\n",
       "    word-break: break-all;\n",
       "    font-family: \"Menlo\", \"Monaco\", \"Consolas\", \"Ubuntu Mono\", \"Source Code Pro\", monospace;\n",
       "    font-size: 13px;\n",
       "    color: #555;\n",
       "    margin-left: 4px;\n",
       "    line-height: 19px;\n",
       "  }\n",
       "</style>\n",
       "<div class=\"ansiout\"></div>"
      ]
     },
     "metadata": {
      "application/vnd.databricks.v1+output": {
       "addedWidgets": {},
       "arguments": {},
       "data": "<div class=\"ansiout\"></div>",
       "datasetInfos": [],
       "metadata": {},
       "removedWidgets": [],
       "type": "html"
      }
     },
     "output_type": "display_data"
    }
   ],
   "source": [
    "from pyspark.sql.types import StructType,StructField, StringType,IntegerType\n",
    "from pyspark.sql.functions import to_date, col, split, explode, trim,concat_ws, round,year\n",
    "import pandas as pd"
   ]
  },
  {
   "cell_type": "markdown",
   "metadata": {
    "application/vnd.databricks.v1+cell": {
     "cellMetadata": {
      "byteLimit": 2048000,
      "rowLimit": 10000
     },
     "inputWidgets": {},
     "nuid": "339a444e-d4f9-4cda-a3fb-4e4d3abd4367",
     "showTitle": false,
     "title": ""
    }
   },
   "source": [
    "#1: Create raw tables for each source dataset </b>\n",
    "Data Ingestion"
   ]
  },
  {
   "cell_type": "markdown",
   "metadata": {
    "application/vnd.databricks.v1+cell": {
     "cellMetadata": {},
     "inputWidgets": {},
     "nuid": "c1ac7321-48a2-47fc-acaa-28a137818176",
     "showTitle": false,
     "title": ""
    }
   },
   "source": [
    "Creating TDD for order table to check <br/>\n",
    " -> File data Schema <br/>\n",
    " -> File is not empty <br/>\n",
    "<br/>\n",
    "Repeat for customer and product data with appropriate format and options"
   ]
  },
  {
   "cell_type": "code",
   "execution_count": 0,
   "metadata": {
    "application/vnd.databricks.v1+cell": {
     "cellMetadata": {
      "byteLimit": 2048000,
      "rowLimit": 10000
     },
     "inputWidgets": {},
     "nuid": "f093a2e6-1e4f-408a-a7d7-746a988aecd2",
     "showTitle": false,
     "title": ""
    }
   },
   "outputs": [
    {
     "output_type": "display_data",
     "data": {
      "text/html": [
       "<style scoped>\n",
       "  .ansiout {\n",
       "    display: block;\n",
       "    unicode-bidi: embed;\n",
       "    white-space: pre-wrap;\n",
       "    word-wrap: break-word;\n",
       "    word-break: break-all;\n",
       "    font-family: \"Menlo\", \"Monaco\", \"Consolas\", \"Ubuntu Mono\", \"Source Code Pro\", monospace;\n",
       "    font-size: 13px;\n",
       "    color: #555;\n",
       "    margin-left: 4px;\n",
       "    line-height: 19px;\n",
       "  }\n",
       "</style>\n",
       "<div class=\"ansiout\">Order schema test passed!\n",
       "Product schema test passed!\n",
       "/databricks/spark/python/pyspark/sql/pandas/conversion.py:340: UserWarning: createDataFrame attempted Arrow optimization because &#39;spark.sql.execution.arrow.pyspark.enabled&#39; is set to true; however, failed by the reason below:\n",
       "  Expected bytes, got a &#39;int&#39; object\n",
       "Attempting non-optimization as &#39;spark.sql.execution.arrow.pyspark.fallback.enabled&#39; is set to true.\n",
       "  warnings.warn(msg)\n",
       "Customer schema test passed!\n",
       "</div>"
      ]
     },
     "metadata": {
      "application/vnd.databricks.v1+output": {
       "addedWidgets": {},
       "arguments": {},
       "data": "<div class=\"ansiout\">Order schema test passed!\nProduct schema test passed!\n/databricks/spark/python/pyspark/sql/pandas/conversion.py:340: UserWarning: createDataFrame attempted Arrow optimization because &#39;spark.sql.execution.arrow.pyspark.enabled&#39; is set to true; however, failed by the reason below:\n  Expected bytes, got a &#39;int&#39; object\nAttempting non-optimization as &#39;spark.sql.execution.arrow.pyspark.fallback.enabled&#39; is set to true.\n  warnings.warn(msg)\nCustomer schema test passed!\n</div>",
       "datasetInfos": [],
       "metadata": {},
       "removedWidgets": [],
       "type": "html"
      }
     },
     "output_type": "display_data"
    }
   ],
   "source": [
    "def test_order_schema():\n",
    "  assert order_df.schema.fields[0].name == \"Customer ID\"  # Replace with actual column names based on data\n",
    "  assert order_df.schema.fields[0].dataType == StringType()  # Replace with data types based on data\n",
    "\n",
    "  assert product_df.schema.fields[0].name == \"Product ID\"  # Replace with actual column names based on data\n",
    "  assert product_df.schema.fields[0].dataType == StringType()  # Replace with data types based on data\n",
    "\n",
    "  assert customer_df.schema.fields[0].name == \"Customer ID\"  # Replace with actual column names based on data\n",
    "  assert customer_df.schema.fields[0].dataType == StringType()  # Replace with data types based on data\n",
    "\n",
    "\n",
    "# Replace \"/path/to/Order.json\" with the actual location of your data\n",
    "def read_data_with_schema_check(filepath, format=\"json\", multiLine=True,header=True):\n",
    "  try:\n",
    "    df = spark.read.format(format).option(\"multiLine\", multiLine).option(\"header\",header).load(filepath)\n",
    "   # df.show(truncate=False)  # Show all data to identify potential issues\n",
    "    return df\n",
    "  except FileNotFoundError:\n",
    "    raise Exception(\"File not found: \" + filepath)\n",
    "\n",
    "\n",
    "\n",
    "#order raw data\n",
    "try:\n",
    "  order_df = read_data_with_schema_check(\"dbfs:/FileStore/shared_uploads/aman.nagariya@hm.com/Order.json\")\n",
    "  test_order_schema()\n",
    "  print(\"Order schema test passed!\")\n",
    "except Exception as e:\n",
    "  print(\"Error:\", e)\n",
    "\n",
    "\n",
    "#Product raw data\n",
    "try:\n",
    "  product_df = read_data_with_schema_check(\"dbfs:/FileStore/shared_uploads/aman.nagariya@hm.com/Product.csv\", format=\"csv\", header=True)\n",
    "  test_order_schema()\n",
    "  print(\"Product schema test passed!\")\n",
    "except Exception as e:\n",
    "  print(\"Error:\", e)\n",
    "\n",
    "\n",
    "#Customer Raw data\n",
    "try:\n",
    "  #reading excle file into Datafrme\n",
    "  #read excle file into Pandas dataframe then convert it into spark DF\n",
    "  wb = pd.read_excel('/dbfs/FileStore/shared_uploads/aman.nagariya@hm.com/Customer.xlsx')\n",
    "  # Specifing the schema for the phone column as StringType as its creating conflict due to sting and long both the datatype\n",
    "  schema = StructType([\n",
    "    StructField(\"Customer ID\", StringType(), nullable=True),\n",
    "    StructField(\"Customer Name\", StringType(), nullable=True),\n",
    "    StructField(\"email\", StringType(), nullable=True),\n",
    "    StructField(\"phone\", StringType(), nullable=True),\n",
    "    StructField(\"address\", StringType(), nullable=True),\n",
    "    StructField(\"Segment\", StringType(), nullable=True),\n",
    "    StructField(\"Country\", StringType(), nullable=True),\n",
    "    StructField(\"City\", StringType(), nullable=True),\n",
    "    StructField(\"State\", StringType(), nullable=True),\n",
    "    StructField(\"Postal Code\", StringType(), nullable=True),\n",
    "    StructField(\"Region\", StringType(), nullable=True)\n",
    "    ])\n",
    "  customer_df=spark.createDataFrame(wb,schema)\n",
    "  \n",
    "  test_order_schema()\n",
    "  print(\"Customer schema test passed!\")\n",
    "except Exception as e:\n",
    "  print(\"Error:\", e)"
   ]
  },
  {
   "cell_type": "markdown",
   "metadata": {
    "application/vnd.databricks.v1+cell": {
     "cellMetadata": {},
     "inputWidgets": {},
     "nuid": "e9cc25ae-0aac-4034-be6d-7a26d05e9982",
     "showTitle": false,
     "title": ""
    }
   },
   "source": [
    "\n",
    "data undertanding and cleaning/pre-processing"
   ]
  },
  {
   "cell_type": "code",
   "execution_count": 0,
   "metadata": {
    "application/vnd.databricks.v1+cell": {
     "cellMetadata": {
      "byteLimit": 2048000,
      "rowLimit": 10000
     },
     "inputWidgets": {},
     "nuid": "688d64d5-dc02-4e7b-aec0-183f8841634d",
     "showTitle": false,
     "title": ""
    }
   },
   "outputs": [
    {
     "output_type": "display_data",
     "data": {
      "text/html": [
       "<style scoped>\n",
       "  .ansiout {\n",
       "    display: block;\n",
       "    unicode-bidi: embed;\n",
       "    white-space: pre-wrap;\n",
       "    word-wrap: break-word;\n",
       "    word-break: break-all;\n",
       "    font-family: \"Menlo\", \"Monaco\", \"Consolas\", \"Ubuntu Mono\", \"Source Code Pro\", monospace;\n",
       "    font-size: 13px;\n",
       "    color: #555;\n",
       "    margin-left: 4px;\n",
       "    line-height: 19px;\n",
       "  }\n",
       "</style>\n",
       "<div class=\"ansiout\">custoemr_df : row : 793\n",
       "order_df : row : 9994\n",
       "product_df : row : 1851\n",
       "</div>"
      ]
     },
     "metadata": {
      "application/vnd.databricks.v1+output": {
       "addedWidgets": {},
       "arguments": {},
       "data": "<div class=\"ansiout\">custoemr_df : row : 793\norder_df : row : 9994\nproduct_df : row : 1851\n</div>",
       "datasetInfos": [],
       "metadata": {},
       "removedWidgets": [],
       "type": "html"
      }
     },
     "output_type": "display_data"
    }
   ],
   "source": [
    "print(\"custoemr_df : row :\", customer_df.count() )\n",
    "print(\"order_df : row :\", order_df.count() )\n",
    "print(\"product_df : row :\", product_df.count() )"
   ]
  },
  {
   "cell_type": "code",
   "execution_count": 0,
   "metadata": {
    "application/vnd.databricks.v1+cell": {
     "cellMetadata": {
      "byteLimit": 2048000,
      "rowLimit": 10000
     },
     "inputWidgets": {},
     "nuid": "d026700c-a01d-4f74-a362-9a482f361e90",
     "showTitle": false,
     "title": ""
    }
   },
   "outputs": [
    {
     "output_type": "display_data",
     "data": {
      "text/html": [
       "<style scoped>\n",
       "  .ansiout {\n",
       "    display: block;\n",
       "    unicode-bidi: embed;\n",
       "    white-space: pre-wrap;\n",
       "    word-wrap: break-word;\n",
       "    word-break: break-all;\n",
       "    font-family: \"Menlo\", \"Monaco\", \"Consolas\", \"Ubuntu Mono\", \"Source Code Pro\", monospace;\n",
       "    font-size: 13px;\n",
       "    color: #555;\n",
       "    margin-left: 4px;\n",
       "    line-height: 19px;\n",
       "  }\n",
       "</style>\n",
       "<div class=\"ansiout\"></div>"
      ]
     },
     "metadata": {
      "application/vnd.databricks.v1+output": {
       "addedWidgets": {},
       "arguments": {},
       "data": "<div class=\"ansiout\"></div>",
       "datasetInfos": [],
       "metadata": {},
       "removedWidgets": [],
       "type": "html"
      }
     },
     "output_type": "display_data"
    }
   ],
   "source": [
    "#droping duplicate if any\n",
    "customer_df=customer_df.dropDuplicates()\n",
    "order_df=order_df.dropDuplicates()\n",
    "product_df=product_df.dropDuplicates()"
   ]
  },
  {
   "cell_type": "code",
   "execution_count": 0,
   "metadata": {
    "application/vnd.databricks.v1+cell": {
     "cellMetadata": {
      "byteLimit": 2048000,
      "rowLimit": 10000
     },
     "inputWidgets": {},
     "nuid": "06255912-268c-4f99-b29d-2620ce8dd7e4",
     "showTitle": false,
     "title": ""
    }
   },
   "outputs": [
    {
     "output_type": "display_data",
     "data": {
      "text/html": [
       "<style scoped>\n",
       "  .ansiout {\n",
       "    display: block;\n",
       "    unicode-bidi: embed;\n",
       "    white-space: pre-wrap;\n",
       "    word-wrap: break-word;\n",
       "    word-break: break-all;\n",
       "    font-family: \"Menlo\", \"Monaco\", \"Consolas\", \"Ubuntu Mono\", \"Source Code Pro\", monospace;\n",
       "    font-size: 13px;\n",
       "    color: #555;\n",
       "    margin-left: 4px;\n",
       "    line-height: 19px;\n",
       "  }\n",
       "</style>\n",
       "<div class=\"ansiout\">custoemr_df : row : 793\n",
       "order_df : row : 9994\n",
       "product_df : row : 1851\n",
       "</div>"
      ]
     },
     "metadata": {
      "application/vnd.databricks.v1+output": {
       "addedWidgets": {},
       "arguments": {},
       "data": "<div class=\"ansiout\">custoemr_df : row : 793\norder_df : row : 9994\nproduct_df : row : 1851\n</div>",
       "datasetInfos": [],
       "metadata": {},
       "removedWidgets": [],
       "type": "html"
      }
     },
     "output_type": "display_data"
    }
   ],
   "source": [
    "print(\"custoemr_df : row :\", customer_df.count() )\n",
    "print(\"order_df : row :\", order_df.count() )\n",
    "print(\"product_df : row :\", product_df.count() )"
   ]
  },
  {
   "cell_type": "code",
   "execution_count": 0,
   "metadata": {
    "application/vnd.databricks.v1+cell": {
     "cellMetadata": {
      "byteLimit": 2048000,
      "rowLimit": 10000
     },
     "inputWidgets": {},
     "nuid": "6698f912-12d2-4ab4-ac9b-8be6bc4b071a",
     "showTitle": false,
     "title": ""
    }
   },
   "outputs": [
    {
     "output_type": "display_data",
     "data": {
      "text/html": [
       "<style scoped>\n",
       "  .ansiout {\n",
       "    display: block;\n",
       "    unicode-bidi: embed;\n",
       "    white-space: pre-wrap;\n",
       "    word-wrap: break-word;\n",
       "    word-break: break-all;\n",
       "    font-family: \"Menlo\", \"Monaco\", \"Consolas\", \"Ubuntu Mono\", \"Source Code Pro\", monospace;\n",
       "    font-size: 13px;\n",
       "    color: #555;\n",
       "    margin-left: 4px;\n",
       "    line-height: 19px;\n",
       "  }\n",
       "</style>\n",
       "<div class=\"ansiout\"></div>"
      ]
     },
     "metadata": {
      "application/vnd.databricks.v1+output": {
       "addedWidgets": {},
       "arguments": {},
       "data": "<div class=\"ansiout\"></div>",
       "datasetInfos": [],
       "metadata": {},
       "removedWidgets": [],
       "type": "html"
      }
     },
     "output_type": "display_data"
    }
   ],
   "source": [
    "# Convert 'order_date' column to date type\n",
    "order_df = order_df.withColumn('Order Date', to_date(order_df['Order Date'], 'd/M/yyyy'))\n",
    "order_df = order_df.withColumn('Ship Date', to_date(order_df['Ship Date'], 'd/M/yyyy'))\n",
    "# Convert 'price per product' column to double\n",
    "product_df = product_df.withColumn('Price per product', product_df['Price per product'].cast('double'))"
   ]
  },
  {
   "cell_type": "markdown",
   "metadata": {
    "application/vnd.databricks.v1+cell": {
     "cellMetadata": {},
     "inputWidgets": {},
     "nuid": "254a72aa-1e15-46b2-a19f-fb90abfaf63f",
     "showTitle": false,
     "title": ""
    }
   },
   "source": [
    "lets analyse the data for one customer for better undertanding\n",
    "<br/>  CustoemrID = SG-20605"
   ]
  },
  {
   "cell_type": "code",
   "execution_count": 0,
   "metadata": {
    "application/vnd.databricks.v1+cell": {
     "cellMetadata": {
      "byteLimit": 2048000,
      "rowLimit": 10000
     },
     "inputWidgets": {},
     "nuid": "0811515a-4d3a-4022-bf4d-4b05e19fe0db",
     "showTitle": false,
     "title": ""
    }
   },
   "outputs": [
    {
     "output_type": "display_data",
     "data": {
      "text/html": [
       "<style scoped>\n",
       "  .ansiout {\n",
       "    display: block;\n",
       "    unicode-bidi: embed;\n",
       "    white-space: pre-wrap;\n",
       "    word-wrap: break-word;\n",
       "    word-break: break-all;\n",
       "    font-family: \"Menlo\", \"Monaco\", \"Consolas\", \"Ubuntu Mono\", \"Source Code Pro\", monospace;\n",
       "    font-size: 13px;\n",
       "    color: #555;\n",
       "    margin-left: 4px;\n",
       "    line-height: 19px;\n",
       "  }\n",
       "</style>\n",
       "<div class=\"ansiout\"></div>"
      ]
     },
     "metadata": {
      "application/vnd.databricks.v1+output": {
       "addedWidgets": {},
       "arguments": {},
       "data": "<div class=\"ansiout\"></div>",
       "datasetInfos": [],
       "metadata": {},
       "removedWidgets": [],
       "type": "html"
      }
     },
     "output_type": "display_data"
    }
   ],
   "source": [
    "#creating VIew \n",
    "customer_df.createOrReplaceTempView(\"customer_t\")\n",
    "order_df.createOrReplaceTempView(\"order_t\")\n",
    "product_df.createOrReplaceTempView(\"product_t\")"
   ]
  },
  {
   "cell_type": "code",
   "execution_count": 0,
   "metadata": {
    "application/vnd.databricks.v1+cell": {
     "cellMetadata": {
      "byteLimit": 2048000,
      "implicitDf": true,
      "rowLimit": 10000
     },
     "inputWidgets": {},
     "nuid": "6a8c03b5-3571-4f49-ac6d-79281405cc2b",
     "showTitle": false,
     "title": ""
    }
   },
   "outputs": [
    {
     "output_type": "display_data",
     "data": {
      "text/html": [
       "<style scoped>\n",
       "  .table-result-container {\n",
       "    max-height: 300px;\n",
       "    overflow: auto;\n",
       "  }\n",
       "  table, th, td {\n",
       "    border: 1px solid black;\n",
       "    border-collapse: collapse;\n",
       "  }\n",
       "  th, td {\n",
       "    padding: 5px;\n",
       "  }\n",
       "  th {\n",
       "    text-align: left;\n",
       "  }\n",
       "</style><div class='table-result-container'><table class='table-result'><thead style='background-color: white'><tr><th>Customer ID</th><th>Customer Name</th><th>email</th><th>phone</th><th>address</th><th>Segment</th><th>Country</th><th>City</th><th>State</th><th>Postal Code</th><th>Region</th></tr></thead><tbody><tr><td>SG-20605</td><td>Speros Goranitis</td><td>brianjoyce110@gmail.com</td><td>3528465094</td><td>02401 Angela Loop Apt. 678\n",
       "Port John, ME 43448</td><td>Consumer</td><td>United States</td><td>Lafayette</td><td>Indiana</td><td>47905</td><td>Central</td></tr></tbody></table></div>"
      ]
     },
     "metadata": {
      "application/vnd.databricks.v1+output": {
       "addedWidgets": {},
       "aggData": [],
       "aggError": "",
       "aggOverflow": false,
       "aggSchema": [],
       "aggSeriesLimitReached": false,
       "aggType": "",
       "arguments": {},
       "columnCustomDisplayInfos": {},
       "data": [
        [
         "SG-20605",
         "Speros Goranitis",
         "brianjoyce110@gmail.com",
         "3528465094",
         "02401 Angela Loop Apt. 678\nPort John, ME 43448",
         "Consumer",
         "United States",
         "Lafayette",
         "Indiana",
         "47905",
         "Central"
        ]
       ],
       "datasetInfos": [],
       "dbfsResultPath": null,
       "isJsonSchema": true,
       "metadata": {},
       "overflow": false,
       "plotOptions": {
        "customPlotOptions": {},
        "displayType": "table",
        "pivotAggregation": null,
        "pivotColumns": null,
        "xColumns": null,
        "yColumns": null
       },
       "removedWidgets": [],
       "schema": [
        {
         "metadata": "{}",
         "name": "Customer ID",
         "type": "\"string\""
        },
        {
         "metadata": "{}",
         "name": "Customer Name",
         "type": "\"string\""
        },
        {
         "metadata": "{}",
         "name": "email",
         "type": "\"string\""
        },
        {
         "metadata": "{}",
         "name": "phone",
         "type": "\"string\""
        },
        {
         "metadata": "{}",
         "name": "address",
         "type": "\"string\""
        },
        {
         "metadata": "{}",
         "name": "Segment",
         "type": "\"string\""
        },
        {
         "metadata": "{}",
         "name": "Country",
         "type": "\"string\""
        },
        {
         "metadata": "{}",
         "name": "City",
         "type": "\"string\""
        },
        {
         "metadata": "{}",
         "name": "State",
         "type": "\"string\""
        },
        {
         "metadata": "{}",
         "name": "Postal Code",
         "type": "\"string\""
        },
        {
         "metadata": "{}",
         "name": "Region",
         "type": "\"string\""
        }
       ],
       "type": "table"
      }
     },
     "output_type": "display_data"
    }
   ],
   "source": [
    "%sql\n",
    "\n",
    "select *\n",
    "from customer_t\n",
    "where `Customer ID` = \"SG-20605\""
   ]
  },
  {
   "cell_type": "code",
   "execution_count": 0,
   "metadata": {
    "application/vnd.databricks.v1+cell": {
     "cellMetadata": {
      "byteLimit": 2048000,
      "implicitDf": true,
      "rowLimit": 10000
     },
     "inputWidgets": {},
     "nuid": "345702af-277b-4f0c-8aaa-abe898ec8f55",
     "showTitle": false,
     "title": ""
    }
   },
   "outputs": [
    {
     "output_type": "display_data",
     "data": {
      "text/html": [
       "<style scoped>\n",
       "  .table-result-container {\n",
       "    max-height: 300px;\n",
       "    overflow: auto;\n",
       "  }\n",
       "  table, th, td {\n",
       "    border: 1px solid black;\n",
       "    border-collapse: collapse;\n",
       "  }\n",
       "  th, td {\n",
       "    padding: 5px;\n",
       "  }\n",
       "  th {\n",
       "    text-align: left;\n",
       "  }\n",
       "</style><div class='table-result-container'><table class='table-result'><thead style='background-color: white'><tr><th>Customer ID</th><th>Discount</th><th>Order Date</th><th>Order ID</th><th>Price</th><th>Product ID</th><th>Profit</th><th>Quantity</th><th>Row ID</th><th>Ship Date</th><th>Ship Mode</th></tr></thead><tbody><tr><td>SG-20605</td><td>0.2</td><td>2014-12-19</td><td>CA-2014-169446</td><td>32.592</td><td>OFF-ST-10000419</td><td>-7.7406</td><td>3</td><td>3427</td><td>2014-12-25</td><td>Standard Class</td></tr><tr><td>SG-20605</td><td>0.2</td><td>2017-09-13</td><td>CA-2017-139493</td><td>15.92</td><td>OFF-AR-10003158</td><td>2.786</td><td>5</td><td>9701</td><td>2017-09-19</td><td>Standard Class</td></tr><tr><td>SG-20605</td><td>0.2</td><td>2014-12-19</td><td>CA-2014-169446</td><td>15.552</td><td>OFF-PA-10000295</td><td>5.4432</td><td>3</td><td>7431</td><td>2014-12-25</td><td>Standard Class</td></tr><tr><td>SG-20605</td><td>0.2</td><td>2014-11-03</td><td>CA-2014-121573</td><td>48.896</td><td>OFF-BI-10000666</td><td>18.336</td><td>2</td><td>6048</td><td>2014-11-07</td><td>Standard Class</td></tr><tr><td>SG-20605</td><td>0.0</td><td>2015-12-06</td><td>US-2015-127040</td><td>6.48</td><td>OFF-PA-10004255</td><td>3.1104</td><td>1</td><td>4456</td><td>2015-12-10</td><td>Standard Class</td></tr><tr><td>SG-20605</td><td>0.0</td><td>2014-01-23</td><td>CA-2014-146997</td><td>5.94</td><td>OFF-FA-10003467</td><td>0.0</td><td>3</td><td>733</td><td>2014-01-27</td><td>Standard Class</td></tr><tr><td>SG-20605</td><td>0.0</td><td>2015-12-06</td><td>US-2015-127040</td><td>41.86</td><td>OFF-PA-10001184</td><td>20.5114</td><td>7</td><td>5523</td><td>2015-12-10</td><td>Standard Class</td></tr><tr><td>SG-20605</td><td>0.2</td><td>2014-11-03</td><td>CA-2014-121573</td><td>7.856</td><td>OFF-BI-10003712</td><td>2.8478</td><td>2</td><td>5520</td><td>2014-11-07</td><td>Standard Class</td></tr><tr><td>SG-20605</td><td>0.0</td><td>2015-12-06</td><td>US-2015-127040</td><td>113.92</td><td>FUR-FU-10002878</td><td>42.1504</td><td>4</td><td>5772</td><td>2015-12-10</td><td>Standard Class</td></tr><tr><td>SG-20605</td><td>0.2</td><td>2014-12-19</td><td>CA-2014-169446</td><td>324</td><td>TEC-PH-10002817</td><td>36.4473</td><td>3</td><td>2326</td><td>2014-12-25</td><td>Standard Class</td></tr><tr><td>SG-20605</td><td>0.0</td><td>2017-04-25</td><td>CA-2017-125381</td><td>107.97</td><td>TEC-AC-10000158</td><td>22.6737</td><td>3</td><td>5423</td><td>2017-04-27</td><td>Second Class</td></tr><tr><td>SG-20605</td><td>0.0</td><td>2014-11-03</td><td>CA-2014-121573</td><td>783.96</td><td>TEC-PH-10000984</td><td>219.5088</td><td>4</td><td>969</td><td>2014-11-07</td><td>Standard Class</td></tr><tr><td>SG-20605</td><td>0.0</td><td>2015-12-06</td><td>US-2015-127040</td><td>1619.91</td><td>TEC-AC-10002637</td><td>97.1946</td><td>9</td><td>4267</td><td>2015-12-10</td><td>Standard Class</td></tr></tbody></table></div>"
      ]
     },
     "metadata": {
      "application/vnd.databricks.v1+output": {
       "addedWidgets": {},
       "aggData": [],
       "aggError": "",
       "aggOverflow": false,
       "aggSchema": [],
       "aggSeriesLimitReached": false,
       "aggType": "",
       "arguments": {},
       "columnCustomDisplayInfos": {},
       "data": [
        [
         "SG-20605",
         0.2,
         "2014-12-19",
         "CA-2014-169446",
         "32.592",
         "OFF-ST-10000419",
         -7.7406,
         3,
         3427,
         "2014-12-25",
         "Standard Class"
        ],
        [
         "SG-20605",
         0.2,
         "2017-09-13",
         "CA-2017-139493",
         "15.92",
         "OFF-AR-10003158",
         2.786,
         5,
         9701,
         "2017-09-19",
         "Standard Class"
        ],
        [
         "SG-20605",
         0.2,
         "2014-12-19",
         "CA-2014-169446",
         "15.552",
         "OFF-PA-10000295",
         5.4432,
         3,
         7431,
         "2014-12-25",
         "Standard Class"
        ],
        [
         "SG-20605",
         0.2,
         "2014-11-03",
         "CA-2014-121573",
         "48.896",
         "OFF-BI-10000666",
         18.336,
         2,
         6048,
         "2014-11-07",
         "Standard Class"
        ],
        [
         "SG-20605",
         0.0,
         "2015-12-06",
         "US-2015-127040",
         "6.48",
         "OFF-PA-10004255",
         3.1104,
         1,
         4456,
         "2015-12-10",
         "Standard Class"
        ],
        [
         "SG-20605",
         0.0,
         "2014-01-23",
         "CA-2014-146997",
         "5.94",
         "OFF-FA-10003467",
         0.0,
         3,
         733,
         "2014-01-27",
         "Standard Class"
        ],
        [
         "SG-20605",
         0.0,
         "2015-12-06",
         "US-2015-127040",
         "41.86",
         "OFF-PA-10001184",
         20.5114,
         7,
         5523,
         "2015-12-10",
         "Standard Class"
        ],
        [
         "SG-20605",
         0.2,
         "2014-11-03",
         "CA-2014-121573",
         "7.856",
         "OFF-BI-10003712",
         2.8478,
         2,
         5520,
         "2014-11-07",
         "Standard Class"
        ],
        [
         "SG-20605",
         0.0,
         "2015-12-06",
         "US-2015-127040",
         "113.92",
         "FUR-FU-10002878",
         42.1504,
         4,
         5772,
         "2015-12-10",
         "Standard Class"
        ],
        [
         "SG-20605",
         0.2,
         "2014-12-19",
         "CA-2014-169446",
         "324",
         "TEC-PH-10002817",
         36.4473,
         3,
         2326,
         "2014-12-25",
         "Standard Class"
        ],
        [
         "SG-20605",
         0.0,
         "2017-04-25",
         "CA-2017-125381",
         "107.97",
         "TEC-AC-10000158",
         22.6737,
         3,
         5423,
         "2017-04-27",
         "Second Class"
        ],
        [
         "SG-20605",
         0.0,
         "2014-11-03",
         "CA-2014-121573",
         "783.96",
         "TEC-PH-10000984",
         219.5088,
         4,
         969,
         "2014-11-07",
         "Standard Class"
        ],
        [
         "SG-20605",
         0.0,
         "2015-12-06",
         "US-2015-127040",
         "1619.91",
         "TEC-AC-10002637",
         97.1946,
         9,
         4267,
         "2015-12-10",
         "Standard Class"
        ]
       ],
       "datasetInfos": [],
       "dbfsResultPath": null,
       "isJsonSchema": true,
       "metadata": {},
       "overflow": false,
       "plotOptions": {
        "customPlotOptions": {},
        "displayType": "table",
        "pivotAggregation": null,
        "pivotColumns": null,
        "xColumns": null,
        "yColumns": null
       },
       "removedWidgets": [],
       "schema": [
        {
         "metadata": "{}",
         "name": "Customer ID",
         "type": "\"string\""
        },
        {
         "metadata": "{}",
         "name": "Discount",
         "type": "\"double\""
        },
        {
         "metadata": "{}",
         "name": "Order Date",
         "type": "\"date\""
        },
        {
         "metadata": "{}",
         "name": "Order ID",
         "type": "\"string\""
        },
        {
         "metadata": "{}",
         "name": "Price",
         "type": "\"string\""
        },
        {
         "metadata": "{}",
         "name": "Product ID",
         "type": "\"string\""
        },
        {
         "metadata": "{}",
         "name": "Profit",
         "type": "\"double\""
        },
        {
         "metadata": "{}",
         "name": "Quantity",
         "type": "\"long\""
        },
        {
         "metadata": "{}",
         "name": "Row ID",
         "type": "\"long\""
        },
        {
         "metadata": "{}",
         "name": "Ship Date",
         "type": "\"date\""
        },
        {
         "metadata": "{}",
         "name": "Ship Mode",
         "type": "\"string\""
        }
       ],
       "type": "table"
      }
     },
     "output_type": "display_data"
    }
   ],
   "source": [
    "%sql\n",
    "\n",
    "select *\n",
    "from order_t\n",
    "where `Customer ID` = \"SG-20605\""
   ]
  },
  {
   "cell_type": "code",
   "execution_count": 0,
   "metadata": {
    "application/vnd.databricks.v1+cell": {
     "cellMetadata": {
      "byteLimit": 2048000,
      "implicitDf": true,
      "rowLimit": 10000
     },
     "inputWidgets": {},
     "nuid": "9f544786-dbe0-4f23-996f-28b812e6f734",
     "showTitle": false,
     "title": ""
    }
   },
   "outputs": [
    {
     "output_type": "display_data",
     "data": {
      "text/html": [
       "<style scoped>\n",
       "  .table-result-container {\n",
       "    max-height: 300px;\n",
       "    overflow: auto;\n",
       "  }\n",
       "  table, th, td {\n",
       "    border: 1px solid black;\n",
       "    border-collapse: collapse;\n",
       "  }\n",
       "  th, td {\n",
       "    padding: 5px;\n",
       "  }\n",
       "  th {\n",
       "    text-align: left;\n",
       "  }\n",
       "</style><div class='table-result-container'><table class='table-result'><thead style='background-color: white'><tr><th>Customer ID</th><th>count(Order ID)</th></tr></thead><tbody><tr><td>VW-21775</td><td>18</td></tr><tr><td>PB-19210</td><td>2</td></tr><tr><td>RR-19315</td><td>4</td></tr><tr><td>MY-17380</td><td>13</td></tr><tr><td>EM-13960</td><td>6</td></tr><tr><td>MS-17530</td><td>7</td></tr><tr><td>KH-16630</td><td>17</td></tr><tr><td>SW-20275</td><td>7</td></tr><tr><td>AH-10690</td><td>23</td></tr><tr><td>BD-11500</td><td>10</td></tr><tr><td>PH-18790</td><td>2</td></tr><tr><td>JF-15490</td><td>15</td></tr><tr><td>JF-15415</td><td>14</td></tr><tr><td>IM-15070</td><td>21</td></tr><tr><td>PW-19240</td><td>12</td></tr><tr><td>NW-18400</td><td>22</td></tr><tr><td>KF-16285</td><td>18</td></tr><tr><td>OT-18730</td><td>10</td></tr><tr><td>KD-16615</td><td>13</td></tr><tr><td>JH-15985</td><td>14</td></tr><tr><td>KM-16225</td><td>19</td></tr><tr><td>SM-20320</td><td>15</td></tr><tr><td>MG-18145</td><td>8</td></tr><tr><td>ND-18370</td><td>18</td></tr><tr><td>BS-11380</td><td>13</td></tr><tr><td>BG-11695</td><td>8</td></tr><tr><td>PJ-18835</td><td>13</td></tr><tr><td>DN-13690</td><td>11</td></tr><tr><td>SO-20335</td><td>15</td></tr><tr><td>PP-18955</td><td>34</td></tr><tr><td>TB-21400</td><td>17</td></tr><tr><td>DG-13300</td><td>8</td></tr><tr><td>JK-15370</td><td>17</td></tr><tr><td>DJ-13420</td><td>5</td></tr><tr><td>CB-12025</td><td>26</td></tr><tr><td>NB-18655</td><td>17</td></tr><tr><td>AR-10345</td><td>5</td></tr><tr><td>MC-17575</td><td>11</td></tr><tr><td>BS-11365</td><td>9</td></tr><tr><td>DS-13030</td><td>19</td></tr><tr><td>SS-20515</td><td>6</td></tr><tr><td>GZ-14545</td><td>5</td></tr><tr><td>LL-16840</td><td>12</td></tr><tr><td>CC-12220</td><td>22</td></tr><tr><td>PO-19180</td><td>18</td></tr><tr><td>ND-18460</td><td>8</td></tr><tr><td>JA-15970</td><td>24</td></tr><tr><td>CA-12265</td><td>17</td></tr><tr><td>AB-10105</td><td>20</td></tr><tr><td>CC-12670</td><td>14</td></tr><tr><td>CS-12355</td><td>22</td></tr><tr><td>TP-21130</td><td>16</td></tr><tr><td>PF-19225</td><td>10</td></tr><tr><td>DB-13360</td><td>6</td></tr><tr><td>RE-19405</td><td>1</td></tr><tr><td>JK-15325</td><td>4</td></tr><tr><td>TC-20980</td><td>12</td></tr><tr><td>ME-17320</td><td>22</td></tr><tr><td>AB-10015</td><td>6</td></tr><tr><td>CL-12565</td><td>28</td></tr><tr><td>EM-14065</td><td>6</td></tr><tr><td>VF-21715</td><td>11</td></tr><tr><td>DK-12895</td><td>15</td></tr><tr><td>RH-19555</td><td>3</td></tr><tr><td>ML-17755</td><td>13</td></tr><tr><td>RB-19645</td><td>7</td></tr><tr><td>GK-14620</td><td>14</td></tr><tr><td>BF-11170</td><td>27</td></tr><tr><td>RS-19870</td><td>3</td></tr><tr><td>NK-18490</td><td>11</td></tr><tr><td>KH-16510</td><td>23</td></tr><tr><td>BO-11425</td><td>2</td></tr><tr><td>TS-21340</td><td>12</td></tr><tr><td>SH-19975</td><td>29</td></tr><tr><td>KT-16465</td><td>14</td></tr><tr><td>EH-14005</td><td>11</td></tr><tr><td>DB-12970</td><td>14</td></tr><tr><td>FH-14365</td><td>13</td></tr><tr><td>CP-12340</td><td>15</td></tr><tr><td>TB-21250</td><td>19</td></tr><tr><td>PM-18940</td><td>4</td></tr><tr><td>AW-10840</td><td>8</td></tr><tr><td>HM-14980</td><td>7</td></tr><tr><td>CK-12595</td><td>25</td></tr><tr><td>SC-20680</td><td>8</td></tr><tr><td>GT-14755</td><td>7</td></tr><tr><td>KB-16405</td><td>9</td></tr><tr><td>SC-20260</td><td>18</td></tr><tr><td>RD-19720</td><td>20</td></tr><tr><td>SW-20455</td><td>9</td></tr><tr><td>NM-18445</td><td>14</td></tr><tr><td>JW-15220</td><td>14</td></tr><tr><td>MB-17305</td><td>19</td></tr><tr><td>NS-18505</td><td>15</td></tr><tr><td>CD-12790</td><td>15</td></tr><tr><td>GH-14425</td><td>10</td></tr><tr><td>CS-12400</td><td>14</td></tr><tr><td>GM-14695</td><td>11</td></tr><tr><td>ST-20530</td><td>12</td></tr><tr><td>HK-14890</td><td>15</td></tr><tr><td>FA-14230</td><td>17</td></tr><tr><td>BS-11800</td><td>8</td></tr><tr><td>SV-20815</td><td>6</td></tr><tr><td>PT-19090</td><td>7</td></tr><tr><td>SC-20845</td><td>4</td></tr><tr><td>CC-12550</td><td>4</td></tr><tr><td>NC-18535</td><td>15</td></tr><tr><td>LM-17065</td><td>7</td></tr><tr><td>JE-16165</td><td>7</td></tr><tr><td>JS-15940</td><td>8</td></tr><tr><td>BD-11725</td><td>10</td></tr><tr><td>DB-12910</td><td>12</td></tr><tr><td>MO-17800</td><td>11</td></tr><tr><td>AS-10135</td><td>3</td></tr><tr><td>MK-17905</td><td>17</td></tr><tr><td>AS-10045</td><td>10</td></tr><tr><td>JM-15580</td><td>7</td></tr><tr><td>VP-21760</td><td>14</td></tr><tr><td>SC-20695</td><td>14</td></tr><tr><td>SW-20245</td><td>10</td></tr><tr><td>SC-20725</td><td>26</td></tr><tr><td>JF-15565</td><td>16</td></tr><tr><td>BH-11710</td><td>24</td></tr><tr><td>AI-10855</td><td>18</td></tr><tr><td>AS-10090</td><td>25</td></tr><tr><td>MG-17875</td><td>7</td></tr><tr><td>RD-19660</td><td>5</td></tr><tr><td>SM-20905</td><td>6</td></tr><tr><td>XP-21865</td><td>28</td></tr><tr><td>RB-19360</td><td>18</td></tr><tr><td>MC-17845</td><td>14</td></tr><tr><td>BF-11020</td><td>21</td></tr><tr><td>BT-11530</td><td>10</td></tr><tr><td>GZ-14470</td><td>14</td></tr><tr><td>LD-17005</td><td>7</td></tr><tr><td>BW-11065</td><td>3</td></tr><tr><td>SP-20545</td><td>10</td></tr><tr><td>JM-15865</td><td>13</td></tr><tr><td>SP-20860</td><td>24</td></tr><tr><td>MJ-17740</td><td>15</td></tr><tr><td>RB-19330</td><td>6</td></tr><tr><td>MY-18295</td><td>21</td></tr><tr><td>MP-18175</td><td>19</td></tr><tr><td>KC-16255</td><td>10</td></tr><tr><td>CS-12130</td><td>7</td></tr><tr><td>TH-21115</td><td>9</td></tr><tr><td>EA-14035</td><td>25</td></tr><tr><td>LC-16870</td><td>30</td></tr><tr><td>BT-11305</td><td>9</td></tr><tr><td>JL-15850</td><td>11</td></tr><tr><td>HR-14830</td><td>14</td></tr><tr><td>TP-21415</td><td>10</td></tr><tr><td>SV-20935</td><td>13</td></tr><tr><td>BB-10990</td><td>8</td></tr><tr><td>DB-13120</td><td>14</td></tr><tr><td>JH-15430</td><td>7</td></tr><tr><td>SC-20230</td><td>11</td></tr><tr><td>JK-16120</td><td>17</td></tr><tr><td>AH-10210</td><td>13</td></tr><tr><td>BK-11260</td><td>16</td></tr><tr><td>MF-17665</td><td>8</td></tr><tr><td>TZ-21580</td><td>9</td></tr><tr><td>EM-14200</td><td>4</td></tr><tr><td>SP-20650</td><td>15</td></tr><tr><td>DK-13090</td><td>13</td></tr><tr><td>DO-13645</td><td>11</td></tr><tr><td>AG-10765</td><td>5</td></tr><tr><td>ED-13885</td><td>14</td></tr><tr><td>AJ-10795</td><td>21</td></tr><tr><td>BW-11110</td><td>17</td></tr><tr><td>LS-17200</td><td>14</td></tr><tr><td>AS-10240</td><td>13</td></tr><tr><td>CS-12490</td><td>9</td></tr><tr><td>KN-16390</td><td>17</td></tr><tr><td>JO-15550</td><td>11</td></tr><tr><td>ER-13855</td><td>5</td></tr><tr><td>DJ-13510</td><td>13</td></tr><tr><td>NC-18340</td><td>17</td></tr><tr><td>AH-10465</td><td>8</td></tr><tr><td>SD-20485</td><td>21</td></tr><tr><td>TH-21550</td><td>13</td></tr><tr><td>DO-13435</td><td>13</td></tr><tr><td>CK-12205</td><td>32</td></tr><tr><td>TM-21490</td><td>4</td></tr><tr><td>LF-17185</td><td>16</td></tr><tr><td>SC-20380</td><td>20</td></tr><tr><td>EM-13810</td><td>7</td></tr><tr><td>MD-17860</td><td>8</td></tr><tr><td>IM-15055</td><td>4</td></tr><tr><td>PK-18910</td><td>3</td></tr><tr><td>BS-11755</td><td>14</td></tr><tr><td>JB-16000</td><td>7</td></tr><tr><td>AO-10810</td><td>1</td></tr><tr><td>AG-10900</td><td>21</td></tr><tr><td>SH-20395</td><td>15</td></tr><tr><td>KD-16345</td><td>10</td></tr><tr><td>PK-19075</td><td>25</td></tr><tr><td>RA-19915</td><td>22</td></tr><tr><td>JB-16045</td><td>9</td></tr><tr><td>CM-12655</td><td>10</td></tr><tr><td>SC-20800</td><td>5</td></tr><tr><td>DS-13180</td><td>20</td></tr><tr><td>CC-12145</td><td>11</td></tr><tr><td>DK-12985</td><td>8</td></tr><tr><td>CS-12505</td><td>9</td></tr><tr><td>GW-14605</td><td>9</td></tr><tr><td>JK-16090</td><td>9</td></tr><tr><td>BN-11515</td><td>17</td></tr><tr><td>VM-21685</td><td>12</td></tr><tr><td>PW-19030</td><td>13</td></tr><tr><td>AA-10645</td><td>18</td></tr><tr><td>EG-13900</td><td>9</td></tr><tr><td>RM-19375</td><td>9</td></tr><tr><td>TR-21325</td><td>7</td></tr><tr><td>LP-17080</td><td>9</td></tr><tr><td>CS-11860</td><td>7</td></tr><tr><td>BD-11605</td><td>20</td></tr><tr><td>JE-15610</td><td>20</td></tr><tr><td>SC-20440</td><td>10</td></tr><tr><td>RR-19525</td><td>10</td></tr><tr><td>FC-14245</td><td>14</td></tr><tr><td>SG-20470</td><td>14</td></tr><tr><td>AR-10405</td><td>7</td></tr><tr><td>TN-21040</td><td>12</td></tr><tr><td>JH-16180</td><td>5</td></tr><tr><td>SA-20830</td><td>21</td></tr><tr><td>TC-21145</td><td>4</td></tr><tr><td>AC-10660</td><td>6</td></tr><tr><td>DM-12955</td><td>9</td></tr><tr><td>JW-15955</td><td>11</td></tr><tr><td>CM-11815</td><td>10</td></tr><tr><td>JL-15835</td><td>34</td></tr><tr><td>RD-19900</td><td>21</td></tr><tr><td>EH-13945</td><td>17</td></tr><tr><td>RD-19480</td><td>15</td></tr><tr><td>AD-10180</td><td>12</td></tr><tr><td>EM-14095</td><td>10</td></tr><tr><td>SV-20365</td><td>32</td></tr><tr><td>AH-10030</td><td>11</td></tr><tr><td>HA-14905</td><td>10</td></tr><tr><td>HG-14845</td><td>10</td></tr><tr><td>FC-14335</td><td>10</td></tr><tr><td>ES-14020</td><td>8</td></tr><tr><td>DE-13255</td><td>9</td></tr><tr><td>IL-15100</td><td>14</td></tr><tr><td>MO-17950</td><td>4</td></tr><tr><td>TW-21025</td><td>12</td></tr><tr><td>DD-13570</td><td>9</td></tr><tr><td>SB-20185</td><td>12</td></tr><tr><td>TA-21385</td><td>10</td></tr><tr><td>JL-15505</td><td>17</td></tr><tr><td>DW-13540</td><td>9</td></tr><tr><td>MV-17485</td><td>15</td></tr><tr><td>MF-18250</td><td>12</td></tr><tr><td>HA-14920</td><td>18</td></tr><tr><td>DB-13270</td><td>13</td></tr><tr><td>KB-16240</td><td>10</td></tr><tr><td>JF-15295</td><td>14</td></tr><tr><td>JK-15625</td><td>12</td></tr><tr><td>Dl-13600</td><td>6</td></tr><tr><td>WB-21850</td><td>37</td></tr><tr><td>JF-15190</td><td>19</td></tr><tr><td>PO-19195</td><td>10</td></tr><tr><td>DJ-13630</td><td>8</td></tr><tr><td>BD-11635</td><td>5</td></tr><tr><td>MC-17275</td><td>13</td></tr><tr><td>ES-14080</td><td>20</td></tr><tr><td>MH-18025</td><td>10</td></tr><tr><td>CK-12325</td><td>12</td></tr><tr><td>DB-13660</td><td>10</td></tr><tr><td>JH-15820</td><td>8</td></tr><tr><td>SE-20110</td><td>19</td></tr><tr><td>MW-18235</td><td>3</td></tr><tr><td>CC-12610</td><td>12</td></tr><tr><td>DW-13195</td><td>9</td></tr><tr><td>LH-17020</td><td>6</td></tr><tr><td>EJ-13720</td><td>8</td></tr><tr><td>CL-11890</td><td>7</td></tr><tr><td>SK-19990</td><td>5</td></tr><tr><td>BG-11035</td><td>12</td></tr><tr><td>SJ-20125</td><td>24</td></tr><tr><td>EJ-14155</td><td>8</td></tr><tr><td>RA-19885</td><td>15</td></tr><tr><td>TB-21355</td><td>13</td></tr><tr><td>NF-18385</td><td>14</td></tr><tr><td>EB-13975</td><td>6</td></tr><tr><td>ON-18715</td><td>15</td></tr><tr><td>GT-14635</td><td>6</td></tr><tr><td>BD-11560</td><td>4</td></tr><tr><td>NP-18700</td><td>13</td></tr><tr><td>DV-13465</td><td>15</td></tr><tr><td>GM-14440</td><td>11</td></tr><tr><td>BT-11395</td><td>10</td></tr><tr><td>CB-12535</td><td>19</td></tr><tr><td>AR-10825</td><td>13</td></tr><tr><td>AH-10075</td><td>20</td></tr><tr><td>DP-13165</td><td>4</td></tr><tr><td>BP-11290</td><td>16</td></tr><tr><td>BM-11575</td><td>10</td></tr><tr><td>DB-13555</td><td>14</td></tr><tr><td>KS-16300</td><td>4</td></tr><tr><td>PC-18745</td><td>5</td></tr><tr><td>JL-15130</td><td>12</td></tr><tr><td>HG-14965</td><td>17</td></tr><tr><td>JJ-15760</td><td>3</td></tr><tr><td>MH-17440</td><td>9</td></tr><tr><td>AB-10600</td><td>8</td></tr><tr><td>RE-19450</td><td>9</td></tr><tr><td>AH-10195</td><td>8</td></tr><tr><td>FW-14395</td><td>3</td></tr><tr><td>JC-16105</td><td>9</td></tr><tr><td>LC-17140</td><td>19</td></tr><tr><td>TD-20995</td><td>16</td></tr><tr><td>VP-21730</td><td>5</td></tr><tr><td>FM-14215</td><td>15</td></tr><tr><td>BW-11200</td><td>10</td></tr><tr><td>HL-15040</td><td>11</td></tr><tr><td>NS-18640</td><td>26</td></tr><tr><td>TS-21205</td><td>19</td></tr><tr><td>AG-10330</td><td>9</td></tr><tr><td>SR-20425</td><td>9</td></tr><tr><td>SB-20290</td><td>17</td></tr><tr><td>EN-13780</td><td>9</td></tr><tr><td>TT-21220</td><td>15</td></tr><tr><td>MS-17980</td><td>11</td></tr><tr><td>MG-17650</td><td>14</td></tr><tr><td>QJ-19255</td><td>13</td></tr><tr><td>Dp-13240</td><td>29</td></tr><tr><td>KC-16675</td><td>7</td></tr><tr><td>BT-11485</td><td>3</td></tr><tr><td>TB-21520</td><td>20</td></tr><tr><td>MA-17560</td><td>34</td></tr><tr><td>EB-14110</td><td>11</td></tr><tr><td>TC-21295</td><td>16</td></tr><tr><td>GM-14680</td><td>11</td></tr><tr><td>KL-16555</td><td>22</td></tr><tr><td>BD-11770</td><td>10</td></tr><tr><td>MH-17620</td><td>6</td></tr><tr><td>NR-18550</td><td>13</td></tr><tr><td>CM-12385</td><td>10</td></tr><tr><td>HW-14935</td><td>20</td></tr><tr><td>MS-17770</td><td>19</td></tr><tr><td>DL-12865</td><td>14</td></tr><tr><td>BM-11785</td><td>14</td></tr><tr><td>BG-11740</td><td>7</td></tr><tr><td>MT-18070</td><td>11</td></tr><tr><td>ZD-21925</td><td>9</td></tr><tr><td>LR-17035</td><td>12</td></tr><tr><td>LT-16765</td><td>3</td></tr><tr><td>LH-16900</td><td>15</td></tr><tr><td>CG-12040</td><td>9</td></tr><tr><td>RA-19285</td><td>17</td></tr><tr><td>SN-20710</td><td>19</td></tr><tr><td>SS-20875</td><td>15</td></tr><tr><td>PS-18760</td><td>21</td></tr><tr><td>MM-17260</td><td>6</td></tr><tr><td>RS-19765</td><td>14</td></tr><tr><td>CM-12235</td><td>8</td></tr><tr><td>CV-12805</td><td>19</td></tr><tr><td>JB-15400</td><td>16</td></tr><tr><td>MH-18115</td><td>22</td></tr><tr><td>KB-16315</td><td>22</td></tr><tr><td>JG-15115</td><td>7</td></tr><tr><td>KH-16360</td><td>14</td></tr><tr><td>FH-14275</td><td>21</td></tr><tr><td>DH-13675</td><td>11</td></tr><tr><td>DB-13060</td><td>13</td></tr><tr><td>FP-14320</td><td>14</td></tr><tr><td>RW-19540</td><td>23</td></tr><tr><td>PR-18880</td><td>12</td></tr><tr><td>AG-10270</td><td>14</td></tr><tr><td>CS-11950</td><td>22</td></tr><tr><td>SM-20950</td><td>22</td></tr><tr><td>RC-19825</td><td>10</td></tr><tr><td>BB-11545</td><td>20</td></tr><tr><td>TB-21625</td><td>15</td></tr><tr><td>BS-11590</td><td>10</td></tr><tr><td>EB-14170</td><td>7</td></tr><tr><td>GR-14560</td><td>5</td></tr><tr><td>LR-16915</td><td>16</td></tr><tr><td>GA-14725</td><td>22</td></tr><tr><td>AM-10705</td><td>22</td></tr><tr><td>MM-18280</td><td>12</td></tr><tr><td>MN-17935</td><td>10</td></tr><tr><td>AT-10435</td><td>9</td></tr><tr><td>NF-18595</td><td>12</td></tr><tr><td>DK-12835</td><td>27</td></tr><tr><td>TH-21100</td><td>7</td></tr><tr><td>AM-10360</td><td>12</td></tr><tr><td>JR-16210</td><td>10</td></tr><tr><td>MG-17890</td><td>13</td></tr><tr><td>SC-20305</td><td>12</td></tr><tr><td>EB-13870</td><td>11</td></tr><tr><td>JG-15160</td><td>18</td></tr><tr><td>VG-21790</td><td>8</td></tr><tr><td>SF-20200</td><td>15</td></tr><tr><td>KB-16600</td><td>9</td></tr><tr><td>KC-16540</td><td>5</td></tr><tr><td>BD-11620</td><td>8</td></tr><tr><td>KD-16270</td><td>16</td></tr><tr><td>AP-10915</td><td>31</td></tr><tr><td>CM-12160</td><td>7</td></tr><tr><td>DC-12850</td><td>18</td></tr><tr><td>SV-20785</td><td>25</td></tr><tr><td>BP-11095</td><td>20</td></tr><tr><td>JC-15775</td><td>16</td></tr><tr><td>BN-11470</td><td>6</td></tr><tr><td>EB-13705</td><td>12</td></tr><tr><td>LH-16750</td><td>3</td></tr><tr><td>PB-19150</td><td>11</td></tr><tr><td>JS-16030</td><td>18</td></tr><tr><td>SW-20755</td><td>8</td></tr><tr><td>LB-16795</td><td>24</td></tr><tr><td>LO-17170</td><td>9</td></tr><tr><td>DB-13615</td><td>11</td></tr><tr><td>SS-20140</td><td>21</td></tr><tr><td>JR-15670</td><td>3</td></tr><tr><td>FM-14380</td><td>14</td></tr><tr><td>AJ-10945</td><td>10</td></tr><tr><td>JW-16075</td><td>7</td></tr><tr><td>CR-12625</td><td>4</td></tr><tr><td>RF-19735</td><td>14</td></tr><tr><td>CA-11965</td><td>10</td></tr><tr><td>HR-14770</td><td>13</td></tr><tr><td>NC-18415</td><td>14</td></tr><tr><td>DK-13375</td><td>23</td></tr><tr><td>SW-20350</td><td>6</td></tr><tr><td>BO-11350</td><td>12</td></tr><tr><td>JC-15385</td><td>4</td></tr><tr><td>SJ-20215</td><td>10</td></tr><tr><td>VG-21805</td><td>6</td></tr><tr><td>TS-21370</td><td>15</td></tr><tr><td>RM-19675</td><td>11</td></tr><tr><td>TB-21190</td><td>4</td></tr><tr><td>RB-19705</td><td>7</td></tr><tr><td>RB-19435</td><td>16</td></tr><tr><td>KT-16480</td><td>13</td></tr><tr><td>TH-21235</td><td>13</td></tr><tr><td>AH-10120</td><td>16</td></tr><tr><td>MH-17785</td><td>11</td></tr><tr><td>MC-17605</td><td>18</td></tr><tr><td>AG-10300</td><td>5</td></tr><tr><td>JP-15520</td><td>16</td></tr><tr><td>MS-17710</td><td>15</td></tr><tr><td>KE-16420</td><td>15</td></tr><tr><td>AP-10720</td><td>19</td></tr><tr><td>TS-21505</td><td>14</td></tr><tr><td>RK-19300</td><td>8</td></tr><tr><td>SS-20410</td><td>12</td></tr><tr><td>CS-12175</td><td>8</td></tr><tr><td>NG-18430</td><td>9</td></tr><tr><td>CA-12775</td><td>17</td></tr><tr><td>FG-14260</td><td>11</td></tr><tr><td>AH-10585</td><td>5</td></tr><tr><td>HH-15010</td><td>6</td></tr><tr><td>BV-11245</td><td>14</td></tr><tr><td>EB-13750</td><td>20</td></tr><tr><td>PV-18985</td><td>13</td></tr><tr><td>JM-16195</td><td>19</td></tr><tr><td>AZ-10750</td><td>12</td></tr><tr><td>DW-13585</td><td>10</td></tr><tr><td>MG-17680</td><td>10</td></tr><tr><td>SG-20080</td><td>11</td></tr><tr><td>DM-13345</td><td>13</td></tr><tr><td>SM-20005</td><td>6</td></tr><tr><td>PC-19000</td><td>3</td></tr><tr><td>VS-21820</td><td>8</td></tr><tr><td>CC-12475</td><td>13</td></tr><tr><td>CY-12745</td><td>11</td></tr><tr><td>MM-18055</td><td>19</td></tr><tr><td>TT-21070</td><td>14</td></tr><tr><td>KW-16570</td><td>5</td></tr><tr><td>SC-20575</td><td>7</td></tr><tr><td>SC-20770</td><td>21</td></tr><tr><td>KA-16525</td><td>11</td></tr><tr><td>NM-18520</td><td>15</td></tr><tr><td>DM-13525</td><td>10</td></tr><tr><td>FH-14350</td><td>14</td></tr><tr><td>AR-10570</td><td>2</td></tr><tr><td>BE-11410</td><td>5</td></tr><tr><td>MG-17695</td><td>7</td></tr><tr><td>RH-19495</td><td>8</td></tr><tr><td>SF-20065</td><td>9</td></tr><tr><td>AR-10510</td><td>7</td></tr><tr><td>SG-20890</td><td>5</td></tr><tr><td>JH-15910</td><td>9</td></tr><tr><td>PF-19165</td><td>10</td></tr><tr><td>KM-16375</td><td>20</td></tr><tr><td>CB-12415</td><td>12</td></tr><tr><td>MP-17470</td><td>14</td></tr><tr><td>PS-18970</td><td>13</td></tr><tr><td>ML-18265</td><td>3</td></tr><tr><td>MP-17965</td><td>20</td></tr><tr><td>DR-12880</td><td>24</td></tr><tr><td>SB-20170</td><td>7</td></tr><tr><td>KH-16690</td><td>15</td></tr><tr><td>MA-17995</td><td>12</td></tr><tr><td>AC-10615</td><td>18</td></tr><tr><td>JC-15340</td><td>4</td></tr><tr><td>PO-18865</td><td>13</td></tr><tr><td>LS-16975</td><td>22</td></tr><tr><td>AA-10375</td><td>15</td></tr><tr><td>AA-10315</td><td>11</td></tr><tr><td>MH-17290</td><td>13</td></tr><tr><td>MS-17365</td><td>24</td></tr><tr><td>BF-10975</td><td>13</td></tr><tr><td>JK-15205</td><td>13</td></tr><tr><td>PO-18850</td><td>22</td></tr><tr><td>PG-18820</td><td>26</td></tr><tr><td>AS-10225</td><td>13</td></tr><tr><td>LC-16885</td><td>23</td></tr><tr><td>RD-19810</td><td>16</td></tr><tr><td>SJ-20500</td><td>7</td></tr><tr><td>DR-12940</td><td>13</td></tr><tr><td>MT-17815</td><td>10</td></tr><tr><td>RB-19570</td><td>9</td></tr><tr><td>RB-19465</td><td>23</td></tr><tr><td>HP-14815</td><td>10</td></tr><tr><td>MV-18190</td><td>11</td></tr><tr><td>MD-17350</td><td>17</td></tr><tr><td>HE-14800</td><td>11</td></tr><tr><td>GT-14710</td><td>29</td></tr><tr><td>KB-16585</td><td>23</td></tr><tr><td>SH-20635</td><td>2</td></tr><tr><td>DC-13285</td><td>7</td></tr><tr><td>NB-18580</td><td>2</td></tr><tr><td>BD-11320</td><td>19</td></tr><tr><td>JD-15895</td><td>32</td></tr><tr><td>FM-14290</td><td>20</td></tr><tr><td>VD-21670</td><td>16</td></tr><tr><td>LW-16990</td><td>11</td></tr><tr><td>JF-15355</td><td>16</td></tr><tr><td>JD-16150</td><td>17</td></tr><tr><td>EP-13915</td><td>31</td></tr><tr><td>MZ-17515</td><td>10</td></tr><tr><td>CW-11905</td><td>11</td></tr><tr><td>MB-18085</td><td>10</td></tr><tr><td>PB-18805</td><td>10</td></tr><tr><td>LB-16735</td><td>3</td></tr><tr><td>EL-13735</td><td>2</td></tr><tr><td>JP-16135</td><td>13</td></tr><tr><td>AA-10480</td><td>12</td></tr><tr><td>CK-12760</td><td>14</td></tr><tr><td>GH-14410</td><td>17</td></tr><tr><td>NC-18625</td><td>9</td></tr><tr><td>AR-10540</td><td>9</td></tr><tr><td>JS-15595</td><td>8</td></tr><tr><td>SG-20605</td><td>13</td></tr><tr><td>GM-14500</td><td>13</td></tr><tr><td>NZ-18565</td><td>20</td></tr><tr><td>BM-11140</td><td>16</td></tr><tr><td>KM-16660</td><td>9</td></tr><tr><td>NP-18670</td><td>10</td></tr><tr><td>GG-14650</td><td>24</td></tr><tr><td>SZ-20035</td><td>20</td></tr><tr><td>DL-13330</td><td>8</td></tr><tr><td>RH-19510</td><td>12</td></tr><tr><td>MK-18160</td><td>11</td></tr><tr><td>ME-18010</td><td>6</td></tr><tr><td>HZ-14950</td><td>6</td></tr><tr><td>EH-13990</td><td>8</td></tr><tr><td>TT-21460</td><td>14</td></tr><tr><td>JO-15145</td><td>13</td></tr><tr><td>RC-19960</td><td>11</td></tr><tr><td>CR-12730</td><td>6</td></tr><tr><td>CT-11995</td><td>18</td></tr><tr><td>TT-21265</td><td>3</td></tr><tr><td>LH-17155</td><td>19</td></tr><tr><td>CV-12295</td><td>13</td></tr><tr><td>JD-16015</td><td>11</td></tr><tr><td>RP-19270</td><td>12</td></tr><tr><td>LC-17050</td><td>9</td></tr><tr><td>NP-18685</td><td>7</td></tr><tr><td>TS-21610</td><td>11</td></tr><tr><td>AB-10150</td><td>12</td></tr><tr><td>SN-20560</td><td>15</td></tr><tr><td>DK-13150</td><td>5</td></tr><tr><td>RA-19945</td><td>9</td></tr><tr><td>LC-16960</td><td>7</td></tr><tr><td>DL-13315</td><td>17</td></tr><tr><td>PL-18925</td><td>8</td></tr><tr><td>VT-21700</td><td>9</td></tr><tr><td>EH-13765</td><td>32</td></tr><tr><td>AB-10165</td><td>14</td></tr><tr><td>RP-19855</td><td>15</td></tr><tr><td>TS-21085</td><td>2</td></tr><tr><td>CM-12715</td><td>13</td></tr><tr><td>RW-19690</td><td>15</td></tr><tr><td>JG-15310</td><td>11</td></tr><tr><td>KM-16720</td><td>28</td></tr><tr><td>LP-17095</td><td>15</td></tr><tr><td>LS-17230</td><td>6</td></tr><tr><td>DP-13105</td><td>14</td></tr><tr><td>DW-13480</td><td>11</td></tr><tr><td>JJ-15445</td><td>6</td></tr><tr><td>CP-12085</td><td>14</td></tr><tr><td>DH-13075</td><td>23</td></tr><tr><td>CC-12370</td><td>11</td></tr><tr><td>TP-21565</td><td>10</td></tr><tr><td>MH-17455</td><td>11</td></tr><tr><td>DM-13015</td><td>20</td></tr><tr><td>Co-12640</td><td>8</td></tr><tr><td>DP-13000</td><td>17</td></tr><tr><td>BF-11005</td><td>10</td></tr><tr><td>TS-21430</td><td>7</td></tr><tr><td>DA-13450</td><td>8</td></tr><tr><td>MM-17920</td><td>16</td></tr><tr><td>TC-21475</td><td>11</td></tr><tr><td>RF-19840</td><td>11</td></tr><tr><td>CR-12580</td><td>6</td></tr><tr><td>DF-13135</td><td>6</td></tr><tr><td>JS-15685</td><td>11</td></tr><tr><td>MW-18220</td><td>14</td></tr><tr><td>AG-10495</td><td>21</td></tr><tr><td>AF-10870</td><td>16</td></tr><tr><td>RB-19795</td><td>18</td></tr><tr><td>SC-20020</td><td>17</td></tr><tr><td>AS-10630</td><td>12</td></tr><tr><td>EK-13795</td><td>4</td></tr><tr><td>IG-15085</td><td>7</td></tr><tr><td>PS-19045</td><td>13</td></tr><tr><td>NL-18310</td><td>10</td></tr><tr><td>BP-11185</td><td>18</td></tr><tr><td>PM-19135</td><td>7</td></tr><tr><td>BM-11650</td><td>29</td></tr><tr><td>TG-21640</td><td>10</td></tr><tr><td>GB-14530</td><td>20</td></tr><tr><td>HG-15025</td><td>11</td></tr><tr><td>GB-14575</td><td>16</td></tr><tr><td>JR-15700</td><td>1</td></tr><tr><td>NG-18355</td><td>16</td></tr><tr><td>CA-12055</td><td>10</td></tr><tr><td>TM-21010</td><td>19</td></tr><tr><td>JL-15235</td><td>10</td></tr><tr><td>JD-16060</td><td>6</td></tr><tr><td>TB-21280</td><td>11</td></tr><tr><td>CR-12820</td><td>7</td></tr><tr><td>DB-13210</td><td>21</td></tr><tr><td>AT-10735</td><td>16</td></tr><tr><td>AW-10930</td><td>16</td></tr><tr><td>BP-11155</td><td>11</td></tr><tr><td>MR-17545</td><td>6</td></tr><tr><td>JL-15175</td><td>7</td></tr><tr><td>DV-13045</td><td>9</td></tr><tr><td>RM-19750</td><td>2</td></tr><tr><td>MC-18130</td><td>11</td></tr><tr><td>KN-16450</td><td>8</td></tr><tr><td>AG-10525</td><td>9</td></tr><tr><td>MC-17425</td><td>10</td></tr><tr><td>GP-14740</td><td>5</td></tr><tr><td>KN-16705</td><td>15</td></tr><tr><td>AS-10285</td><td>8</td></tr><tr><td>RO-19780</td><td>12</td></tr><tr><td>VB-21745</td><td>10</td></tr><tr><td>AG-10675</td><td>15</td></tr><tr><td>CM-12190</td><td>7</td></tr><tr><td>TB-21595</td><td>7</td></tr><tr><td>PG-18895</td><td>17</td></tr><tr><td>SC-20050</td><td>15</td></tr><tr><td>KW-16435</td><td>10</td></tr><tr><td>KD-16495</td><td>28</td></tr><tr><td>LS-17245</td><td>12</td></tr><tr><td>PF-19120</td><td>19</td></tr><tr><td>CJ-12010</td><td>20</td></tr><tr><td>YC-21895</td><td>8</td></tr><tr><td>CD-12280</td><td>13</td></tr><tr><td>JD-15790</td><td>7</td></tr><tr><td>ML-17395</td><td>20</td></tr><tr><td>EH-14125</td><td>18</td></tr><tr><td>PA-19060</td><td>7</td></tr><tr><td>MO-17500</td><td>5</td></tr><tr><td>BT-11440</td><td>7</td></tr><tr><td>NF-18475</td><td>4</td></tr><tr><td>DB-13405</td><td>14</td></tr><tr><td>EM-14140</td><td>21</td></tr><tr><td>TC-21535</td><td>10</td></tr><tr><td>JB-15925</td><td>8</td></tr><tr><td>BS-11665</td><td>11</td></tr><tr><td>MG-18205</td><td>2</td></tr><tr><td>JS-15880</td><td>9</td></tr><tr><td>ML-18040</td><td>4</td></tr><tr><td>GH-14665</td><td>3</td></tr><tr><td>JO-15280</td><td>11</td></tr><tr><td>BE-11455</td><td>13</td></tr><tr><td>FO-14305</td><td>15</td></tr><tr><td>JM-15250</td><td>19</td></tr><tr><td>GM-14455</td><td>12</td></tr><tr><td>KH-16330</td><td>18</td></tr><tr><td>NH-18610</td><td>11</td></tr><tr><td>AC-10450</td><td>9</td></tr><tr><td>NP-18325</td><td>21</td></tr><tr><td>JK-15640</td><td>12</td></tr><tr><td>CJ-11875</td><td>1</td></tr><tr><td>PJ-19015</td><td>10</td></tr><tr><td>SR-20740</td><td>12</td></tr><tr><td>AB-10060</td><td>18</td></tr><tr><td>CA-12310</td><td>11</td></tr><tr><td>CD-11980</td><td>6</td></tr><tr><td>AJ-10960</td><td>5</td></tr><tr><td>JK-15730</td><td>20</td></tr><tr><td>GH-14485</td><td>3</td></tr><tr><td>SP-20920</td><td>14</td></tr><tr><td>EM-13825</td><td>16</td></tr><tr><td>EH-14185</td><td>8</td></tr><tr><td>GD-14590</td><td>6</td></tr><tr><td>PN-18775</td><td>13</td></tr><tr><td>HF-14995</td><td>19</td></tr><tr><td>TG-21310</td><td>9</td></tr><tr><td>YS-21880</td><td>12</td></tr><tr><td>RF-19345</td><td>16</td></tr><tr><td>BP-11230</td><td>6</td></tr><tr><td>BE-11335</td><td>9</td></tr><tr><td>EC-14050</td><td>7</td></tr><tr><td>HJ-14875</td><td>6</td></tr><tr><td>JM-15655</td><td>12</td></tr><tr><td>JM-15265</td><td>13</td></tr><tr><td>CM-11935</td><td>4</td></tr><tr><td>LD-16855</td><td>1</td></tr><tr><td>CH-12070</td><td>4</td></tr><tr><td>DL-12925</td><td>14</td></tr><tr><td>CC-12430</td><td>19</td></tr><tr><td>SP-20620</td><td>24</td></tr><tr><td>MC-17635</td><td>8</td></tr><tr><td>MC-17590</td><td>17</td></tr><tr><td>TS-21655</td><td>14</td></tr><tr><td>SF-20965</td><td>17</td></tr><tr><td>JP-15460</td><td>15</td></tr><tr><td>LW-17215</td><td>15</td></tr><tr><td>AY-10555</td><td>10</td></tr><tr><td>CG-12520</td><td>5</td></tr><tr><td>KL-16645</td><td>29</td></tr><tr><td>EB-13930</td><td>7</td></tr><tr><td>MC-18100</td><td>19</td></tr><tr><td>BP-11050</td><td>7</td></tr><tr><td>AJ-10780</td><td>15</td></tr><tr><td>CS-11845</td><td>8</td></tr><tr><td>LE-16810</td><td>9</td></tr><tr><td>JM-15535</td><td>10</td></tr><tr><td>CL-12700</td><td>8</td></tr><tr><td>CM-12445</td><td>9</td></tr><tr><td>DL-13495</td><td>12</td></tr><tr><td>MS-17830</td><td>5</td></tr><tr><td>RP-19390</td><td>25</td></tr><tr><td>TB-21175</td><td>11</td></tr><tr><td>LA-16780</td><td>26</td></tr><tr><td>LW-17125</td><td>5</td></tr><tr><td>HD-14785</td><td>7</td></tr><tr><td>EB-13840</td><td>8</td></tr><tr><td>DK-13225</td><td>19</td></tr><tr><td>RH-19600</td><td>11</td></tr><tr><td>BF-11215</td><td>8</td></tr><tr><td>ZC-21910</td><td>31</td></tr><tr><td>PB-19105</td><td>5</td></tr><tr><td>BT-11680</td><td>20</td></tr><tr><td>SL-20155</td><td>9</td></tr><tr><td>SS-20590</td><td>9</td></tr><tr><td>AF-10885</td><td>7</td></tr><tr><td>RW-19630</td><td>16</td></tr><tr><td>JG-15805</td><td>9</td></tr><tr><td>BC-11125</td><td>18</td></tr><tr><td>RD-19930</td><td>10</td></tr><tr><td>AC-10420</td><td>5</td></tr><tr><td>LW-16825</td><td>15</td></tr><tr><td>RS-19420</td><td>9</td></tr><tr><td>CD-11920</td><td>9</td></tr><tr><td>JE-15715</td><td>22</td></tr><tr><td>JE-15475</td><td>13</td></tr><tr><td>JE-15745</td><td>23</td></tr><tr><td>TS-21160</td><td>17</td></tr><tr><td>CC-12685</td><td>12</td></tr><tr><td>BF-11275</td><td>4</td></tr><tr><td>RL-19615</td><td>24</td></tr><tr><td>MZ-17335</td><td>6</td></tr><tr><td>LS-16945</td><td>14</td></tr><tr><td>CM-12115</td><td>7</td></tr><tr><td>DP-13390</td><td>14</td></tr><tr><td>SU-20665</td><td>18</td></tr><tr><td>RD-19585</td><td>19</td></tr><tr><td>HM-14860</td><td>20</td></tr><tr><td>AG-10390</td><td>8</td></tr><tr><td>SC-20095</td><td>22</td></tr><tr><td>LC-16930</td><td>14</td></tr><tr><td>GA-14515</td><td>14</td></tr><tr><td>ML-17410</td><td>15</td></tr><tr><td>TB-21055</td><td>18</td></tr><tr><td>LT-17110</td><td>14</td></tr><tr><td>BF-11080</td><td>6</td></tr><tr><td>CS-12460</td><td>6</td></tr><tr><td>AB-10255</td><td>14</td></tr><tr><td>CC-12100</td><td>13</td></tr><tr><td>ME-17725</td><td>13</td></tr><tr><td>VM-21835</td><td>8</td></tr><tr><td>CS-12250</td><td>28</td></tr></tbody></table></div>"
      ]
     },
     "metadata": {
      "application/vnd.databricks.v1+output": {
       "addedWidgets": {},
       "aggData": [],
       "aggError": "",
       "aggOverflow": false,
       "aggSchema": [],
       "aggSeriesLimitReached": false,
       "aggType": "",
       "arguments": {},
       "columnCustomDisplayInfos": {},
       "data": [
        [
         "VW-21775",
         18
        ],
        [
         "PB-19210",
         2
        ],
        [
         "RR-19315",
         4
        ],
        [
         "MY-17380",
         13
        ],
        [
         "EM-13960",
         6
        ],
        [
         "MS-17530",
         7
        ],
        [
         "KH-16630",
         17
        ],
        [
         "SW-20275",
         7
        ],
        [
         "AH-10690",
         23
        ],
        [
         "BD-11500",
         10
        ],
        [
         "PH-18790",
         2
        ],
        [
         "JF-15490",
         15
        ],
        [
         "JF-15415",
         14
        ],
        [
         "IM-15070",
         21
        ],
        [
         "PW-19240",
         12
        ],
        [
         "NW-18400",
         22
        ],
        [
         "KF-16285",
         18
        ],
        [
         "OT-18730",
         10
        ],
        [
         "KD-16615",
         13
        ],
        [
         "JH-15985",
         14
        ],
        [
         "KM-16225",
         19
        ],
        [
         "SM-20320",
         15
        ],
        [
         "MG-18145",
         8
        ],
        [
         "ND-18370",
         18
        ],
        [
         "BS-11380",
         13
        ],
        [
         "BG-11695",
         8
        ],
        [
         "PJ-18835",
         13
        ],
        [
         "DN-13690",
         11
        ],
        [
         "SO-20335",
         15
        ],
        [
         "PP-18955",
         34
        ],
        [
         "TB-21400",
         17
        ],
        [
         "DG-13300",
         8
        ],
        [
         "JK-15370",
         17
        ],
        [
         "DJ-13420",
         5
        ],
        [
         "CB-12025",
         26
        ],
        [
         "NB-18655",
         17
        ],
        [
         "AR-10345",
         5
        ],
        [
         "MC-17575",
         11
        ],
        [
         "BS-11365",
         9
        ],
        [
         "DS-13030",
         19
        ],
        [
         "SS-20515",
         6
        ],
        [
         "GZ-14545",
         5
        ],
        [
         "LL-16840",
         12
        ],
        [
         "CC-12220",
         22
        ],
        [
         "PO-19180",
         18
        ],
        [
         "ND-18460",
         8
        ],
        [
         "JA-15970",
         24
        ],
        [
         "CA-12265",
         17
        ],
        [
         "AB-10105",
         20
        ],
        [
         "CC-12670",
         14
        ],
        [
         "CS-12355",
         22
        ],
        [
         "TP-21130",
         16
        ],
        [
         "PF-19225",
         10
        ],
        [
         "DB-13360",
         6
        ],
        [
         "RE-19405",
         1
        ],
        [
         "JK-15325",
         4
        ],
        [
         "TC-20980",
         12
        ],
        [
         "ME-17320",
         22
        ],
        [
         "AB-10015",
         6
        ],
        [
         "CL-12565",
         28
        ],
        [
         "EM-14065",
         6
        ],
        [
         "VF-21715",
         11
        ],
        [
         "DK-12895",
         15
        ],
        [
         "RH-19555",
         3
        ],
        [
         "ML-17755",
         13
        ],
        [
         "RB-19645",
         7
        ],
        [
         "GK-14620",
         14
        ],
        [
         "BF-11170",
         27
        ],
        [
         "RS-19870",
         3
        ],
        [
         "NK-18490",
         11
        ],
        [
         "KH-16510",
         23
        ],
        [
         "BO-11425",
         2
        ],
        [
         "TS-21340",
         12
        ],
        [
         "SH-19975",
         29
        ],
        [
         "KT-16465",
         14
        ],
        [
         "EH-14005",
         11
        ],
        [
         "DB-12970",
         14
        ],
        [
         "FH-14365",
         13
        ],
        [
         "CP-12340",
         15
        ],
        [
         "TB-21250",
         19
        ],
        [
         "PM-18940",
         4
        ],
        [
         "AW-10840",
         8
        ],
        [
         "HM-14980",
         7
        ],
        [
         "CK-12595",
         25
        ],
        [
         "SC-20680",
         8
        ],
        [
         "GT-14755",
         7
        ],
        [
         "KB-16405",
         9
        ],
        [
         "SC-20260",
         18
        ],
        [
         "RD-19720",
         20
        ],
        [
         "SW-20455",
         9
        ],
        [
         "NM-18445",
         14
        ],
        [
         "JW-15220",
         14
        ],
        [
         "MB-17305",
         19
        ],
        [
         "NS-18505",
         15
        ],
        [
         "CD-12790",
         15
        ],
        [
         "GH-14425",
         10
        ],
        [
         "CS-12400",
         14
        ],
        [
         "GM-14695",
         11
        ],
        [
         "ST-20530",
         12
        ],
        [
         "HK-14890",
         15
        ],
        [
         "FA-14230",
         17
        ],
        [
         "BS-11800",
         8
        ],
        [
         "SV-20815",
         6
        ],
        [
         "PT-19090",
         7
        ],
        [
         "SC-20845",
         4
        ],
        [
         "CC-12550",
         4
        ],
        [
         "NC-18535",
         15
        ],
        [
         "LM-17065",
         7
        ],
        [
         "JE-16165",
         7
        ],
        [
         "JS-15940",
         8
        ],
        [
         "BD-11725",
         10
        ],
        [
         "DB-12910",
         12
        ],
        [
         "MO-17800",
         11
        ],
        [
         "AS-10135",
         3
        ],
        [
         "MK-17905",
         17
        ],
        [
         "AS-10045",
         10
        ],
        [
         "JM-15580",
         7
        ],
        [
         "VP-21760",
         14
        ],
        [
         "SC-20695",
         14
        ],
        [
         "SW-20245",
         10
        ],
        [
         "SC-20725",
         26
        ],
        [
         "JF-15565",
         16
        ],
        [
         "BH-11710",
         24
        ],
        [
         "AI-10855",
         18
        ],
        [
         "AS-10090",
         25
        ],
        [
         "MG-17875",
         7
        ],
        [
         "RD-19660",
         5
        ],
        [
         "SM-20905",
         6
        ],
        [
         "XP-21865",
         28
        ],
        [
         "RB-19360",
         18
        ],
        [
         "MC-17845",
         14
        ],
        [
         "BF-11020",
         21
        ],
        [
         "BT-11530",
         10
        ],
        [
         "GZ-14470",
         14
        ],
        [
         "LD-17005",
         7
        ],
        [
         "BW-11065",
         3
        ],
        [
         "SP-20545",
         10
        ],
        [
         "JM-15865",
         13
        ],
        [
         "SP-20860",
         24
        ],
        [
         "MJ-17740",
         15
        ],
        [
         "RB-19330",
         6
        ],
        [
         "MY-18295",
         21
        ],
        [
         "MP-18175",
         19
        ],
        [
         "KC-16255",
         10
        ],
        [
         "CS-12130",
         7
        ],
        [
         "TH-21115",
         9
        ],
        [
         "EA-14035",
         25
        ],
        [
         "LC-16870",
         30
        ],
        [
         "BT-11305",
         9
        ],
        [
         "JL-15850",
         11
        ],
        [
         "HR-14830",
         14
        ],
        [
         "TP-21415",
         10
        ],
        [
         "SV-20935",
         13
        ],
        [
         "BB-10990",
         8
        ],
        [
         "DB-13120",
         14
        ],
        [
         "JH-15430",
         7
        ],
        [
         "SC-20230",
         11
        ],
        [
         "JK-16120",
         17
        ],
        [
         "AH-10210",
         13
        ],
        [
         "BK-11260",
         16
        ],
        [
         "MF-17665",
         8
        ],
        [
         "TZ-21580",
         9
        ],
        [
         "EM-14200",
         4
        ],
        [
         "SP-20650",
         15
        ],
        [
         "DK-13090",
         13
        ],
        [
         "DO-13645",
         11
        ],
        [
         "AG-10765",
         5
        ],
        [
         "ED-13885",
         14
        ],
        [
         "AJ-10795",
         21
        ],
        [
         "BW-11110",
         17
        ],
        [
         "LS-17200",
         14
        ],
        [
         "AS-10240",
         13
        ],
        [
         "CS-12490",
         9
        ],
        [
         "KN-16390",
         17
        ],
        [
         "JO-15550",
         11
        ],
        [
         "ER-13855",
         5
        ],
        [
         "DJ-13510",
         13
        ],
        [
         "NC-18340",
         17
        ],
        [
         "AH-10465",
         8
        ],
        [
         "SD-20485",
         21
        ],
        [
         "TH-21550",
         13
        ],
        [
         "DO-13435",
         13
        ],
        [
         "CK-12205",
         32
        ],
        [
         "TM-21490",
         4
        ],
        [
         "LF-17185",
         16
        ],
        [
         "SC-20380",
         20
        ],
        [
         "EM-13810",
         7
        ],
        [
         "MD-17860",
         8
        ],
        [
         "IM-15055",
         4
        ],
        [
         "PK-18910",
         3
        ],
        [
         "BS-11755",
         14
        ],
        [
         "JB-16000",
         7
        ],
        [
         "AO-10810",
         1
        ],
        [
         "AG-10900",
         21
        ],
        [
         "SH-20395",
         15
        ],
        [
         "KD-16345",
         10
        ],
        [
         "PK-19075",
         25
        ],
        [
         "RA-19915",
         22
        ],
        [
         "JB-16045",
         9
        ],
        [
         "CM-12655",
         10
        ],
        [
         "SC-20800",
         5
        ],
        [
         "DS-13180",
         20
        ],
        [
         "CC-12145",
         11
        ],
        [
         "DK-12985",
         8
        ],
        [
         "CS-12505",
         9
        ],
        [
         "GW-14605",
         9
        ],
        [
         "JK-16090",
         9
        ],
        [
         "BN-11515",
         17
        ],
        [
         "VM-21685",
         12
        ],
        [
         "PW-19030",
         13
        ],
        [
         "AA-10645",
         18
        ],
        [
         "EG-13900",
         9
        ],
        [
         "RM-19375",
         9
        ],
        [
         "TR-21325",
         7
        ],
        [
         "LP-17080",
         9
        ],
        [
         "CS-11860",
         7
        ],
        [
         "BD-11605",
         20
        ],
        [
         "JE-15610",
         20
        ],
        [
         "SC-20440",
         10
        ],
        [
         "RR-19525",
         10
        ],
        [
         "FC-14245",
         14
        ],
        [
         "SG-20470",
         14
        ],
        [
         "AR-10405",
         7
        ],
        [
         "TN-21040",
         12
        ],
        [
         "JH-16180",
         5
        ],
        [
         "SA-20830",
         21
        ],
        [
         "TC-21145",
         4
        ],
        [
         "AC-10660",
         6
        ],
        [
         "DM-12955",
         9
        ],
        [
         "JW-15955",
         11
        ],
        [
         "CM-11815",
         10
        ],
        [
         "JL-15835",
         34
        ],
        [
         "RD-19900",
         21
        ],
        [
         "EH-13945",
         17
        ],
        [
         "RD-19480",
         15
        ],
        [
         "AD-10180",
         12
        ],
        [
         "EM-14095",
         10
        ],
        [
         "SV-20365",
         32
        ],
        [
         "AH-10030",
         11
        ],
        [
         "HA-14905",
         10
        ],
        [
         "HG-14845",
         10
        ],
        [
         "FC-14335",
         10
        ],
        [
         "ES-14020",
         8
        ],
        [
         "DE-13255",
         9
        ],
        [
         "IL-15100",
         14
        ],
        [
         "MO-17950",
         4
        ],
        [
         "TW-21025",
         12
        ],
        [
         "DD-13570",
         9
        ],
        [
         "SB-20185",
         12
        ],
        [
         "TA-21385",
         10
        ],
        [
         "JL-15505",
         17
        ],
        [
         "DW-13540",
         9
        ],
        [
         "MV-17485",
         15
        ],
        [
         "MF-18250",
         12
        ],
        [
         "HA-14920",
         18
        ],
        [
         "DB-13270",
         13
        ],
        [
         "KB-16240",
         10
        ],
        [
         "JF-15295",
         14
        ],
        [
         "JK-15625",
         12
        ],
        [
         "Dl-13600",
         6
        ],
        [
         "WB-21850",
         37
        ],
        [
         "JF-15190",
         19
        ],
        [
         "PO-19195",
         10
        ],
        [
         "DJ-13630",
         8
        ],
        [
         "BD-11635",
         5
        ],
        [
         "MC-17275",
         13
        ],
        [
         "ES-14080",
         20
        ],
        [
         "MH-18025",
         10
        ],
        [
         "CK-12325",
         12
        ],
        [
         "DB-13660",
         10
        ],
        [
         "JH-15820",
         8
        ],
        [
         "SE-20110",
         19
        ],
        [
         "MW-18235",
         3
        ],
        [
         "CC-12610",
         12
        ],
        [
         "DW-13195",
         9
        ],
        [
         "LH-17020",
         6
        ],
        [
         "EJ-13720",
         8
        ],
        [
         "CL-11890",
         7
        ],
        [
         "SK-19990",
         5
        ],
        [
         "BG-11035",
         12
        ],
        [
         "SJ-20125",
         24
        ],
        [
         "EJ-14155",
         8
        ],
        [
         "RA-19885",
         15
        ],
        [
         "TB-21355",
         13
        ],
        [
         "NF-18385",
         14
        ],
        [
         "EB-13975",
         6
        ],
        [
         "ON-18715",
         15
        ],
        [
         "GT-14635",
         6
        ],
        [
         "BD-11560",
         4
        ],
        [
         "NP-18700",
         13
        ],
        [
         "DV-13465",
         15
        ],
        [
         "GM-14440",
         11
        ],
        [
         "BT-11395",
         10
        ],
        [
         "CB-12535",
         19
        ],
        [
         "AR-10825",
         13
        ],
        [
         "AH-10075",
         20
        ],
        [
         "DP-13165",
         4
        ],
        [
         "BP-11290",
         16
        ],
        [
         "BM-11575",
         10
        ],
        [
         "DB-13555",
         14
        ],
        [
         "KS-16300",
         4
        ],
        [
         "PC-18745",
         5
        ],
        [
         "JL-15130",
         12
        ],
        [
         "HG-14965",
         17
        ],
        [
         "JJ-15760",
         3
        ],
        [
         "MH-17440",
         9
        ],
        [
         "AB-10600",
         8
        ],
        [
         "RE-19450",
         9
        ],
        [
         "AH-10195",
         8
        ],
        [
         "FW-14395",
         3
        ],
        [
         "JC-16105",
         9
        ],
        [
         "LC-17140",
         19
        ],
        [
         "TD-20995",
         16
        ],
        [
         "VP-21730",
         5
        ],
        [
         "FM-14215",
         15
        ],
        [
         "BW-11200",
         10
        ],
        [
         "HL-15040",
         11
        ],
        [
         "NS-18640",
         26
        ],
        [
         "TS-21205",
         19
        ],
        [
         "AG-10330",
         9
        ],
        [
         "SR-20425",
         9
        ],
        [
         "SB-20290",
         17
        ],
        [
         "EN-13780",
         9
        ],
        [
         "TT-21220",
         15
        ],
        [
         "MS-17980",
         11
        ],
        [
         "MG-17650",
         14
        ],
        [
         "QJ-19255",
         13
        ],
        [
         "Dp-13240",
         29
        ],
        [
         "KC-16675",
         7
        ],
        [
         "BT-11485",
         3
        ],
        [
         "TB-21520",
         20
        ],
        [
         "MA-17560",
         34
        ],
        [
         "EB-14110",
         11
        ],
        [
         "TC-21295",
         16
        ],
        [
         "GM-14680",
         11
        ],
        [
         "KL-16555",
         22
        ],
        [
         "BD-11770",
         10
        ],
        [
         "MH-17620",
         6
        ],
        [
         "NR-18550",
         13
        ],
        [
         "CM-12385",
         10
        ],
        [
         "HW-14935",
         20
        ],
        [
         "MS-17770",
         19
        ],
        [
         "DL-12865",
         14
        ],
        [
         "BM-11785",
         14
        ],
        [
         "BG-11740",
         7
        ],
        [
         "MT-18070",
         11
        ],
        [
         "ZD-21925",
         9
        ],
        [
         "LR-17035",
         12
        ],
        [
         "LT-16765",
         3
        ],
        [
         "LH-16900",
         15
        ],
        [
         "CG-12040",
         9
        ],
        [
         "RA-19285",
         17
        ],
        [
         "SN-20710",
         19
        ],
        [
         "SS-20875",
         15
        ],
        [
         "PS-18760",
         21
        ],
        [
         "MM-17260",
         6
        ],
        [
         "RS-19765",
         14
        ],
        [
         "CM-12235",
         8
        ],
        [
         "CV-12805",
         19
        ],
        [
         "JB-15400",
         16
        ],
        [
         "MH-18115",
         22
        ],
        [
         "KB-16315",
         22
        ],
        [
         "JG-15115",
         7
        ],
        [
         "KH-16360",
         14
        ],
        [
         "FH-14275",
         21
        ],
        [
         "DH-13675",
         11
        ],
        [
         "DB-13060",
         13
        ],
        [
         "FP-14320",
         14
        ],
        [
         "RW-19540",
         23
        ],
        [
         "PR-18880",
         12
        ],
        [
         "AG-10270",
         14
        ],
        [
         "CS-11950",
         22
        ],
        [
         "SM-20950",
         22
        ],
        [
         "RC-19825",
         10
        ],
        [
         "BB-11545",
         20
        ],
        [
         "TB-21625",
         15
        ],
        [
         "BS-11590",
         10
        ],
        [
         "EB-14170",
         7
        ],
        [
         "GR-14560",
         5
        ],
        [
         "LR-16915",
         16
        ],
        [
         "GA-14725",
         22
        ],
        [
         "AM-10705",
         22
        ],
        [
         "MM-18280",
         12
        ],
        [
         "MN-17935",
         10
        ],
        [
         "AT-10435",
         9
        ],
        [
         "NF-18595",
         12
        ],
        [
         "DK-12835",
         27
        ],
        [
         "TH-21100",
         7
        ],
        [
         "AM-10360",
         12
        ],
        [
         "JR-16210",
         10
        ],
        [
         "MG-17890",
         13
        ],
        [
         "SC-20305",
         12
        ],
        [
         "EB-13870",
         11
        ],
        [
         "JG-15160",
         18
        ],
        [
         "VG-21790",
         8
        ],
        [
         "SF-20200",
         15
        ],
        [
         "KB-16600",
         9
        ],
        [
         "KC-16540",
         5
        ],
        [
         "BD-11620",
         8
        ],
        [
         "KD-16270",
         16
        ],
        [
         "AP-10915",
         31
        ],
        [
         "CM-12160",
         7
        ],
        [
         "DC-12850",
         18
        ],
        [
         "SV-20785",
         25
        ],
        [
         "BP-11095",
         20
        ],
        [
         "JC-15775",
         16
        ],
        [
         "BN-11470",
         6
        ],
        [
         "EB-13705",
         12
        ],
        [
         "LH-16750",
         3
        ],
        [
         "PB-19150",
         11
        ],
        [
         "JS-16030",
         18
        ],
        [
         "SW-20755",
         8
        ],
        [
         "LB-16795",
         24
        ],
        [
         "LO-17170",
         9
        ],
        [
         "DB-13615",
         11
        ],
        [
         "SS-20140",
         21
        ],
        [
         "JR-15670",
         3
        ],
        [
         "FM-14380",
         14
        ],
        [
         "AJ-10945",
         10
        ],
        [
         "JW-16075",
         7
        ],
        [
         "CR-12625",
         4
        ],
        [
         "RF-19735",
         14
        ],
        [
         "CA-11965",
         10
        ],
        [
         "HR-14770",
         13
        ],
        [
         "NC-18415",
         14
        ],
        [
         "DK-13375",
         23
        ],
        [
         "SW-20350",
         6
        ],
        [
         "BO-11350",
         12
        ],
        [
         "JC-15385",
         4
        ],
        [
         "SJ-20215",
         10
        ],
        [
         "VG-21805",
         6
        ],
        [
         "TS-21370",
         15
        ],
        [
         "RM-19675",
         11
        ],
        [
         "TB-21190",
         4
        ],
        [
         "RB-19705",
         7
        ],
        [
         "RB-19435",
         16
        ],
        [
         "KT-16480",
         13
        ],
        [
         "TH-21235",
         13
        ],
        [
         "AH-10120",
         16
        ],
        [
         "MH-17785",
         11
        ],
        [
         "MC-17605",
         18
        ],
        [
         "AG-10300",
         5
        ],
        [
         "JP-15520",
         16
        ],
        [
         "MS-17710",
         15
        ],
        [
         "KE-16420",
         15
        ],
        [
         "AP-10720",
         19
        ],
        [
         "TS-21505",
         14
        ],
        [
         "RK-19300",
         8
        ],
        [
         "SS-20410",
         12
        ],
        [
         "CS-12175",
         8
        ],
        [
         "NG-18430",
         9
        ],
        [
         "CA-12775",
         17
        ],
        [
         "FG-14260",
         11
        ],
        [
         "AH-10585",
         5
        ],
        [
         "HH-15010",
         6
        ],
        [
         "BV-11245",
         14
        ],
        [
         "EB-13750",
         20
        ],
        [
         "PV-18985",
         13
        ],
        [
         "JM-16195",
         19
        ],
        [
         "AZ-10750",
         12
        ],
        [
         "DW-13585",
         10
        ],
        [
         "MG-17680",
         10
        ],
        [
         "SG-20080",
         11
        ],
        [
         "DM-13345",
         13
        ],
        [
         "SM-20005",
         6
        ],
        [
         "PC-19000",
         3
        ],
        [
         "VS-21820",
         8
        ],
        [
         "CC-12475",
         13
        ],
        [
         "CY-12745",
         11
        ],
        [
         "MM-18055",
         19
        ],
        [
         "TT-21070",
         14
        ],
        [
         "KW-16570",
         5
        ],
        [
         "SC-20575",
         7
        ],
        [
         "SC-20770",
         21
        ],
        [
         "KA-16525",
         11
        ],
        [
         "NM-18520",
         15
        ],
        [
         "DM-13525",
         10
        ],
        [
         "FH-14350",
         14
        ],
        [
         "AR-10570",
         2
        ],
        [
         "BE-11410",
         5
        ],
        [
         "MG-17695",
         7
        ],
        [
         "RH-19495",
         8
        ],
        [
         "SF-20065",
         9
        ],
        [
         "AR-10510",
         7
        ],
        [
         "SG-20890",
         5
        ],
        [
         "JH-15910",
         9
        ],
        [
         "PF-19165",
         10
        ],
        [
         "KM-16375",
         20
        ],
        [
         "CB-12415",
         12
        ],
        [
         "MP-17470",
         14
        ],
        [
         "PS-18970",
         13
        ],
        [
         "ML-18265",
         3
        ],
        [
         "MP-17965",
         20
        ],
        [
         "DR-12880",
         24
        ],
        [
         "SB-20170",
         7
        ],
        [
         "KH-16690",
         15
        ],
        [
         "MA-17995",
         12
        ],
        [
         "AC-10615",
         18
        ],
        [
         "JC-15340",
         4
        ],
        [
         "PO-18865",
         13
        ],
        [
         "LS-16975",
         22
        ],
        [
         "AA-10375",
         15
        ],
        [
         "AA-10315",
         11
        ],
        [
         "MH-17290",
         13
        ],
        [
         "MS-17365",
         24
        ],
        [
         "BF-10975",
         13
        ],
        [
         "JK-15205",
         13
        ],
        [
         "PO-18850",
         22
        ],
        [
         "PG-18820",
         26
        ],
        [
         "AS-10225",
         13
        ],
        [
         "LC-16885",
         23
        ],
        [
         "RD-19810",
         16
        ],
        [
         "SJ-20500",
         7
        ],
        [
         "DR-12940",
         13
        ],
        [
         "MT-17815",
         10
        ],
        [
         "RB-19570",
         9
        ],
        [
         "RB-19465",
         23
        ],
        [
         "HP-14815",
         10
        ],
        [
         "MV-18190",
         11
        ],
        [
         "MD-17350",
         17
        ],
        [
         "HE-14800",
         11
        ],
        [
         "GT-14710",
         29
        ],
        [
         "KB-16585",
         23
        ],
        [
         "SH-20635",
         2
        ],
        [
         "DC-13285",
         7
        ],
        [
         "NB-18580",
         2
        ],
        [
         "BD-11320",
         19
        ],
        [
         "JD-15895",
         32
        ],
        [
         "FM-14290",
         20
        ],
        [
         "VD-21670",
         16
        ],
        [
         "LW-16990",
         11
        ],
        [
         "JF-15355",
         16
        ],
        [
         "JD-16150",
         17
        ],
        [
         "EP-13915",
         31
        ],
        [
         "MZ-17515",
         10
        ],
        [
         "CW-11905",
         11
        ],
        [
         "MB-18085",
         10
        ],
        [
         "PB-18805",
         10
        ],
        [
         "LB-16735",
         3
        ],
        [
         "EL-13735",
         2
        ],
        [
         "JP-16135",
         13
        ],
        [
         "AA-10480",
         12
        ],
        [
         "CK-12760",
         14
        ],
        [
         "GH-14410",
         17
        ],
        [
         "NC-18625",
         9
        ],
        [
         "AR-10540",
         9
        ],
        [
         "JS-15595",
         8
        ],
        [
         "SG-20605",
         13
        ],
        [
         "GM-14500",
         13
        ],
        [
         "NZ-18565",
         20
        ],
        [
         "BM-11140",
         16
        ],
        [
         "KM-16660",
         9
        ],
        [
         "NP-18670",
         10
        ],
        [
         "GG-14650",
         24
        ],
        [
         "SZ-20035",
         20
        ],
        [
         "DL-13330",
         8
        ],
        [
         "RH-19510",
         12
        ],
        [
         "MK-18160",
         11
        ],
        [
         "ME-18010",
         6
        ],
        [
         "HZ-14950",
         6
        ],
        [
         "EH-13990",
         8
        ],
        [
         "TT-21460",
         14
        ],
        [
         "JO-15145",
         13
        ],
        [
         "RC-19960",
         11
        ],
        [
         "CR-12730",
         6
        ],
        [
         "CT-11995",
         18
        ],
        [
         "TT-21265",
         3
        ],
        [
         "LH-17155",
         19
        ],
        [
         "CV-12295",
         13
        ],
        [
         "JD-16015",
         11
        ],
        [
         "RP-19270",
         12
        ],
        [
         "LC-17050",
         9
        ],
        [
         "NP-18685",
         7
        ],
        [
         "TS-21610",
         11
        ],
        [
         "AB-10150",
         12
        ],
        [
         "SN-20560",
         15
        ],
        [
         "DK-13150",
         5
        ],
        [
         "RA-19945",
         9
        ],
        [
         "LC-16960",
         7
        ],
        [
         "DL-13315",
         17
        ],
        [
         "PL-18925",
         8
        ],
        [
         "VT-21700",
         9
        ],
        [
         "EH-13765",
         32
        ],
        [
         "AB-10165",
         14
        ],
        [
         "RP-19855",
         15
        ],
        [
         "TS-21085",
         2
        ],
        [
         "CM-12715",
         13
        ],
        [
         "RW-19690",
         15
        ],
        [
         "JG-15310",
         11
        ],
        [
         "KM-16720",
         28
        ],
        [
         "LP-17095",
         15
        ],
        [
         "LS-17230",
         6
        ],
        [
         "DP-13105",
         14
        ],
        [
         "DW-13480",
         11
        ],
        [
         "JJ-15445",
         6
        ],
        [
         "CP-12085",
         14
        ],
        [
         "DH-13075",
         23
        ],
        [
         "CC-12370",
         11
        ],
        [
         "TP-21565",
         10
        ],
        [
         "MH-17455",
         11
        ],
        [
         "DM-13015",
         20
        ],
        [
         "Co-12640",
         8
        ],
        [
         "DP-13000",
         17
        ],
        [
         "BF-11005",
         10
        ],
        [
         "TS-21430",
         7
        ],
        [
         "DA-13450",
         8
        ],
        [
         "MM-17920",
         16
        ],
        [
         "TC-21475",
         11
        ],
        [
         "RF-19840",
         11
        ],
        [
         "CR-12580",
         6
        ],
        [
         "DF-13135",
         6
        ],
        [
         "JS-15685",
         11
        ],
        [
         "MW-18220",
         14
        ],
        [
         "AG-10495",
         21
        ],
        [
         "AF-10870",
         16
        ],
        [
         "RB-19795",
         18
        ],
        [
         "SC-20020",
         17
        ],
        [
         "AS-10630",
         12
        ],
        [
         "EK-13795",
         4
        ],
        [
         "IG-15085",
         7
        ],
        [
         "PS-19045",
         13
        ],
        [
         "NL-18310",
         10
        ],
        [
         "BP-11185",
         18
        ],
        [
         "PM-19135",
         7
        ],
        [
         "BM-11650",
         29
        ],
        [
         "TG-21640",
         10
        ],
        [
         "GB-14530",
         20
        ],
        [
         "HG-15025",
         11
        ],
        [
         "GB-14575",
         16
        ],
        [
         "JR-15700",
         1
        ],
        [
         "NG-18355",
         16
        ],
        [
         "CA-12055",
         10
        ],
        [
         "TM-21010",
         19
        ],
        [
         "JL-15235",
         10
        ],
        [
         "JD-16060",
         6
        ],
        [
         "TB-21280",
         11
        ],
        [
         "CR-12820",
         7
        ],
        [
         "DB-13210",
         21
        ],
        [
         "AT-10735",
         16
        ],
        [
         "AW-10930",
         16
        ],
        [
         "BP-11155",
         11
        ],
        [
         "MR-17545",
         6
        ],
        [
         "JL-15175",
         7
        ],
        [
         "DV-13045",
         9
        ],
        [
         "RM-19750",
         2
        ],
        [
         "MC-18130",
         11
        ],
        [
         "KN-16450",
         8
        ],
        [
         "AG-10525",
         9
        ],
        [
         "MC-17425",
         10
        ],
        [
         "GP-14740",
         5
        ],
        [
         "KN-16705",
         15
        ],
        [
         "AS-10285",
         8
        ],
        [
         "RO-19780",
         12
        ],
        [
         "VB-21745",
         10
        ],
        [
         "AG-10675",
         15
        ],
        [
         "CM-12190",
         7
        ],
        [
         "TB-21595",
         7
        ],
        [
         "PG-18895",
         17
        ],
        [
         "SC-20050",
         15
        ],
        [
         "KW-16435",
         10
        ],
        [
         "KD-16495",
         28
        ],
        [
         "LS-17245",
         12
        ],
        [
         "PF-19120",
         19
        ],
        [
         "CJ-12010",
         20
        ],
        [
         "YC-21895",
         8
        ],
        [
         "CD-12280",
         13
        ],
        [
         "JD-15790",
         7
        ],
        [
         "ML-17395",
         20
        ],
        [
         "EH-14125",
         18
        ],
        [
         "PA-19060",
         7
        ],
        [
         "MO-17500",
         5
        ],
        [
         "BT-11440",
         7
        ],
        [
         "NF-18475",
         4
        ],
        [
         "DB-13405",
         14
        ],
        [
         "EM-14140",
         21
        ],
        [
         "TC-21535",
         10
        ],
        [
         "JB-15925",
         8
        ],
        [
         "BS-11665",
         11
        ],
        [
         "MG-18205",
         2
        ],
        [
         "JS-15880",
         9
        ],
        [
         "ML-18040",
         4
        ],
        [
         "GH-14665",
         3
        ],
        [
         "JO-15280",
         11
        ],
        [
         "BE-11455",
         13
        ],
        [
         "FO-14305",
         15
        ],
        [
         "JM-15250",
         19
        ],
        [
         "GM-14455",
         12
        ],
        [
         "KH-16330",
         18
        ],
        [
         "NH-18610",
         11
        ],
        [
         "AC-10450",
         9
        ],
        [
         "NP-18325",
         21
        ],
        [
         "JK-15640",
         12
        ],
        [
         "CJ-11875",
         1
        ],
        [
         "PJ-19015",
         10
        ],
        [
         "SR-20740",
         12
        ],
        [
         "AB-10060",
         18
        ],
        [
         "CA-12310",
         11
        ],
        [
         "CD-11980",
         6
        ],
        [
         "AJ-10960",
         5
        ],
        [
         "JK-15730",
         20
        ],
        [
         "GH-14485",
         3
        ],
        [
         "SP-20920",
         14
        ],
        [
         "EM-13825",
         16
        ],
        [
         "EH-14185",
         8
        ],
        [
         "GD-14590",
         6
        ],
        [
         "PN-18775",
         13
        ],
        [
         "HF-14995",
         19
        ],
        [
         "TG-21310",
         9
        ],
        [
         "YS-21880",
         12
        ],
        [
         "RF-19345",
         16
        ],
        [
         "BP-11230",
         6
        ],
        [
         "BE-11335",
         9
        ],
        [
         "EC-14050",
         7
        ],
        [
         "HJ-14875",
         6
        ],
        [
         "JM-15655",
         12
        ],
        [
         "JM-15265",
         13
        ],
        [
         "CM-11935",
         4
        ],
        [
         "LD-16855",
         1
        ],
        [
         "CH-12070",
         4
        ],
        [
         "DL-12925",
         14
        ],
        [
         "CC-12430",
         19
        ],
        [
         "SP-20620",
         24
        ],
        [
         "MC-17635",
         8
        ],
        [
         "MC-17590",
         17
        ],
        [
         "TS-21655",
         14
        ],
        [
         "SF-20965",
         17
        ],
        [
         "JP-15460",
         15
        ],
        [
         "LW-17215",
         15
        ],
        [
         "AY-10555",
         10
        ],
        [
         "CG-12520",
         5
        ],
        [
         "KL-16645",
         29
        ],
        [
         "EB-13930",
         7
        ],
        [
         "MC-18100",
         19
        ],
        [
         "BP-11050",
         7
        ],
        [
         "AJ-10780",
         15
        ],
        [
         "CS-11845",
         8
        ],
        [
         "LE-16810",
         9
        ],
        [
         "JM-15535",
         10
        ],
        [
         "CL-12700",
         8
        ],
        [
         "CM-12445",
         9
        ],
        [
         "DL-13495",
         12
        ],
        [
         "MS-17830",
         5
        ],
        [
         "RP-19390",
         25
        ],
        [
         "TB-21175",
         11
        ],
        [
         "LA-16780",
         26
        ],
        [
         "LW-17125",
         5
        ],
        [
         "HD-14785",
         7
        ],
        [
         "EB-13840",
         8
        ],
        [
         "DK-13225",
         19
        ],
        [
         "RH-19600",
         11
        ],
        [
         "BF-11215",
         8
        ],
        [
         "ZC-21910",
         31
        ],
        [
         "PB-19105",
         5
        ],
        [
         "BT-11680",
         20
        ],
        [
         "SL-20155",
         9
        ],
        [
         "SS-20590",
         9
        ],
        [
         "AF-10885",
         7
        ],
        [
         "RW-19630",
         16
        ],
        [
         "JG-15805",
         9
        ],
        [
         "BC-11125",
         18
        ],
        [
         "RD-19930",
         10
        ],
        [
         "AC-10420",
         5
        ],
        [
         "LW-16825",
         15
        ],
        [
         "RS-19420",
         9
        ],
        [
         "CD-11920",
         9
        ],
        [
         "JE-15715",
         22
        ],
        [
         "JE-15475",
         13
        ],
        [
         "JE-15745",
         23
        ],
        [
         "TS-21160",
         17
        ],
        [
         "CC-12685",
         12
        ],
        [
         "BF-11275",
         4
        ],
        [
         "RL-19615",
         24
        ],
        [
         "MZ-17335",
         6
        ],
        [
         "LS-16945",
         14
        ],
        [
         "CM-12115",
         7
        ],
        [
         "DP-13390",
         14
        ],
        [
         "SU-20665",
         18
        ],
        [
         "RD-19585",
         19
        ],
        [
         "HM-14860",
         20
        ],
        [
         "AG-10390",
         8
        ],
        [
         "SC-20095",
         22
        ],
        [
         "LC-16930",
         14
        ],
        [
         "GA-14515",
         14
        ],
        [
         "ML-17410",
         15
        ],
        [
         "TB-21055",
         18
        ],
        [
         "LT-17110",
         14
        ],
        [
         "BF-11080",
         6
        ],
        [
         "CS-12460",
         6
        ],
        [
         "AB-10255",
         14
        ],
        [
         "CC-12100",
         13
        ],
        [
         "ME-17725",
         13
        ],
        [
         "VM-21835",
         8
        ],
        [
         "CS-12250",
         28
        ]
       ],
       "datasetInfos": [],
       "dbfsResultPath": null,
       "isJsonSchema": true,
       "metadata": {},
       "overflow": false,
       "plotOptions": {
        "customPlotOptions": {},
        "displayType": "table",
        "pivotAggregation": null,
        "pivotColumns": null,
        "xColumns": null,
        "yColumns": null
       },
       "removedWidgets": [],
       "schema": [
        {
         "metadata": "{}",
         "name": "Customer ID",
         "type": "\"string\""
        },
        {
         "metadata": "{\"__autoGeneratedAlias\":\"true\"}",
         "name": "count(Order ID)",
         "type": "\"long\""
        }
       ],
       "type": "table"
      }
     },
     "output_type": "display_data"
    }
   ],
   "source": [
    "%sql\n",
    "select `Customer ID`, count(`Order ID`)\n",
    "from order_t\n",
    "group by `Customer ID`"
   ]
  },
  {
   "cell_type": "markdown",
   "metadata": {
    "application/vnd.databricks.v1+cell": {
     "cellMetadata": {},
     "inputWidgets": {},
     "nuid": "26e897bf-5c2d-4b0f-8074-2fb07ca4ea3d",
     "showTitle": false,
     "title": ""
    }
   },
   "source": [
    "There are muny customer who placced multiple orders"
   ]
  },
  {
   "cell_type": "code",
   "execution_count": 0,
   "metadata": {
    "application/vnd.databricks.v1+cell": {
     "cellMetadata": {
      "byteLimit": 2048000,
      "implicitDf": true,
      "rowLimit": 10000
     },
     "inputWidgets": {},
     "nuid": "438634a7-eca8-4817-a3d8-b6ade90a369a",
     "showTitle": false,
     "title": ""
    }
   },
   "outputs": [
    {
     "output_type": "display_data",
     "data": {
      "text/html": [
       "<style scoped>\n",
       "  .table-result-container {\n",
       "    max-height: 300px;\n",
       "    overflow: auto;\n",
       "  }\n",
       "  table, th, td {\n",
       "    border: 1px solid black;\n",
       "    border-collapse: collapse;\n",
       "  }\n",
       "  th, td {\n",
       "    padding: 5px;\n",
       "  }\n",
       "  th {\n",
       "    text-align: left;\n",
       "  }\n",
       "</style><div class='table-result-container'><table class='table-result'><thead style='background-color: white'><tr><th>Product ID</th><th>Category</th><th>Sub-Category</th><th>Product Name</th><th>State</th><th>Price per product</th></tr></thead><tbody><tr><td>FUR-FU-10002878</td><td>Furniture</td><td>Furnishings</td><td>\"Seth Thomas 14\"\" Day/Date Wall Clock\"</td><td>New York</td><td>28.48</td></tr></tbody></table></div>"
      ]
     },
     "metadata": {
      "application/vnd.databricks.v1+output": {
       "addedWidgets": {},
       "aggData": [],
       "aggError": "",
       "aggOverflow": false,
       "aggSchema": [],
       "aggSeriesLimitReached": false,
       "aggType": "",
       "arguments": {},
       "columnCustomDisplayInfos": {},
       "data": [
        [
         "FUR-FU-10002878",
         "Furniture",
         "Furnishings",
         "\"Seth Thomas 14\"\" Day/Date Wall Clock\"",
         "New York",
         28.48
        ]
       ],
       "datasetInfos": [],
       "dbfsResultPath": null,
       "isJsonSchema": true,
       "metadata": {},
       "overflow": false,
       "plotOptions": {
        "customPlotOptions": {},
        "displayType": "table",
        "pivotAggregation": null,
        "pivotColumns": null,
        "xColumns": null,
        "yColumns": null
       },
       "removedWidgets": [],
       "schema": [
        {
         "metadata": "{}",
         "name": "Product ID",
         "type": "\"string\""
        },
        {
         "metadata": "{}",
         "name": "Category",
         "type": "\"string\""
        },
        {
         "metadata": "{}",
         "name": "Sub-Category",
         "type": "\"string\""
        },
        {
         "metadata": "{}",
         "name": "Product Name",
         "type": "\"string\""
        },
        {
         "metadata": "{}",
         "name": "State",
         "type": "\"string\""
        },
        {
         "metadata": "{}",
         "name": "Price per product",
         "type": "\"double\""
        }
       ],
       "type": "table"
      }
     },
     "output_type": "display_data"
    }
   ],
   "source": [
    "%sql\n",
    "\n",
    "select *\n",
    "from product_t\n",
    "where `Product ID` = \"FUR-FU-10002878\""
   ]
  },
  {
   "cell_type": "markdown",
   "metadata": {
    "application/vnd.databricks.v1+cell": {
     "cellMetadata": {},
     "inputWidgets": {},
     "nuid": "405af67c-5412-4ea4-aca4-0e8382770b9e",
     "showTitle": false,
     "title": ""
    }
   },
   "source": [
    "#2: Create an enriched table for customers and products "
   ]
  },
  {
   "cell_type": "markdown",
   "metadata": {
    "application/vnd.databricks.v1+cell": {
     "cellMetadata": {
      "byteLimit": 2048000,
      "rowLimit": 10000
     },
     "inputWidgets": {},
     "nuid": "1352b1b2-5b4f-4c24-9ef3-368ad07b4cb1",
     "showTitle": false,
     "title": ""
    }
   },
   "source": [
    "no enrichment needed in customer table<br/>\n",
    "all the fields are having correct representation<br/>\n",
    "PII data -- we can do the masking, but as this is just a Demo I'm skiping that part<br/>"
   ]
  },
  {
   "cell_type": "markdown",
   "metadata": {
    "application/vnd.databricks.v1+cell": {
     "cellMetadata": {
      "byteLimit": 2048000,
      "rowLimit": 10000
     },
     "inputWidgets": {},
     "nuid": "97005595-9831-4d34-8da5-7ff0401dc7cf",
     "showTitle": false,
     "title": ""
    }
   },
   "source": [
    "In product table also there is no enrichment need, but just to showcase how it is done, wrting a simple case of creating the category_hierarchy of products"
   ]
  },
  {
   "cell_type": "code",
   "execution_count": 0,
   "metadata": {
    "application/vnd.databricks.v1+cell": {
     "cellMetadata": {
      "byteLimit": 2048000,
      "rowLimit": 10000
     },
     "inputWidgets": {},
     "nuid": "a716ee8a-b181-4003-9d8f-8267fe46e0c2",
     "showTitle": false,
     "title": ""
    }
   },
   "outputs": [
    {
     "output_type": "display_data",
     "data": {
      "text/html": [
       "<style scoped>\n",
       "  .ansiout {\n",
       "    display: block;\n",
       "    unicode-bidi: embed;\n",
       "    white-space: pre-wrap;\n",
       "    word-wrap: break-word;\n",
       "    word-break: break-all;\n",
       "    font-family: \"Menlo\", \"Monaco\", \"Consolas\", \"Ubuntu Mono\", \"Source Code Pro\", monospace;\n",
       "    font-size: 13px;\n",
       "    color: #555;\n",
       "    margin-left: 4px;\n",
       "    line-height: 19px;\n",
       "  }\n",
       "</style>\n",
       "<div class=\"ansiout\">Enriched product table test passed!\n",
       "+---------------+---------------+------------+--------------------+--------+-----------------+--------------------+\n",
       "     Product ID|       Category|Sub-Category|        Product Name|   State|Price per product|  category_hierarchy|\n",
       "+---------------+---------------+------------+--------------------+--------+-----------------+--------------------+\n",
       "OFF-BI-10002824|Office Supplies|     Binders|Recycled Easel Ri...|Colorado|             4.25|Office Supplies &gt;...|\n",
       "FUR-CH-10002961|      Furniture|      Chairs|Leather Task Chai...|New York|           81.882|  Furniture &gt; Chairs|\n",
       "+---------------+---------------+------------+--------------------+--------+-----------------+--------------------+\n",
       "only showing top 2 rows\n",
       "\n",
       "</div>"
      ]
     },
     "metadata": {
      "application/vnd.databricks.v1+output": {
       "addedWidgets": {},
       "arguments": {},
       "data": "<div class=\"ansiout\">Enriched product table test passed!\n+---------------+---------------+------------+--------------------+--------+-----------------+--------------------+\n|     Product ID|       Category|Sub-Category|        Product Name|   State|Price per product|  category_hierarchy|\n+---------------+---------------+------------+--------------------+--------+-----------------+--------------------+\n|OFF-BI-10002824|Office Supplies|     Binders|Recycled Easel Ri...|Colorado|             4.25|Office Supplies &gt;...|\n|FUR-CH-10002961|      Furniture|      Chairs|Leather Task Chai...|New York|           81.882|  Furniture &gt; Chairs|\n+---------------+---------------+------------+--------------------+--------+-----------------+--------------------+\nonly showing top 2 rows\n\n</div>",
       "datasetInfos": [],
       "metadata": {},
       "removedWidgets": [],
       "type": "html"
      }
     },
     "output_type": "display_data"
    }
   ],
   "source": [
    "\n",
    "#TDD test case\n",
    "def test_enriched_product():\n",
    "  assert \"category_hierarchy\" in product_df.columns  # Check for derived column\n",
    "  assert product_df.filter(product_df.Category.isNull() ).count() == 0  # Handle null values\n",
    "\n",
    "\n",
    "\n",
    "#Transformation function\n",
    "def enrich_product(product_df):\n",
    "  product_df = product_df.withColumn(\"category_hierarchy\", concat_ws(\" > \", col(\"Category\"), col(\"Sub-Category\")))\n",
    "  return product_df\n",
    "\n",
    "\n",
    "try:\n",
    "  product_df = enrich_product(product_df)  \n",
    "  test_enriched_product()\n",
    "  print(\"Enriched product table test passed!\")\n",
    "except AssertionError as e:\n",
    "  print(\"Enriched product table test failed:\", e)\n",
    "\n",
    "product_df.show(2)"
   ]
  },
  {
   "cell_type": "markdown",
   "metadata": {
    "application/vnd.databricks.v1+cell": {
     "cellMetadata": {},
     "inputWidgets": {},
     "nuid": "23f2756a-e61b-4b3f-b689-2abd5ac93e1d",
     "showTitle": false,
     "title": ""
    }
   },
   "source": [
    "#3:Create an enriched table which has<br/>\n",
    "->order information \n",
    "      <t/><br/>Profit rounded to 2 decimal places<br/>\n",
    "->Customer name and country<br/>\n",
    "->Product category and sub category\n"
   ]
  },
  {
   "cell_type": "code",
   "execution_count": 0,
   "metadata": {
    "application/vnd.databricks.v1+cell": {
     "cellMetadata": {
      "byteLimit": 2048000,
      "rowLimit": 10000
     },
     "inputWidgets": {},
     "nuid": "223464b8-66b0-49c8-9552-ffdd4e2b994e",
     "showTitle": false,
     "title": ""
    }
   },
   "outputs": [
    {
     "output_type": "display_data",
     "data": {
      "text/html": [
       "<style scoped>\n",
       "  .ansiout {\n",
       "    display: block;\n",
       "    unicode-bidi: embed;\n",
       "    white-space: pre-wrap;\n",
       "    word-wrap: break-word;\n",
       "    word-break: break-all;\n",
       "    font-family: \"Menlo\", \"Monaco\", \"Consolas\", \"Ubuntu Mono\", \"Source Code Pro\", monospace;\n",
       "    font-size: 13px;\n",
       "    color: #555;\n",
       "    margin-left: 4px;\n",
       "    line-height: 19px;\n",
       "  }\n",
       "</style>\n",
       "<div class=\"ansiout\">Enriched table test passed!\n",
       "+--------------+------------------+-------------+---------------+------------+-------+\n",
       "      Order ID|     Customer Name|      Country|       category|sub-category| Profit|\n",
       "+--------------+------------------+-------------+---------------+------------+-------+\n",
       "CA-2017-133256|     Tracy Hopkins|United States|     Technology|      Phones| 135.98|\n",
       "CA-2016-140634|      Hunter Lopez|United States|Office Supplies|   Envelopes|   5.09|\n",
       "CA-2016-125087|     Thea Hudgings|United States|Office Supplies|     Storage|  77.75|\n",
       "US-2016-114013|Stewart Carmichael|United States|     Technology|      Phones|-116.98|\n",
       "CA-2015-119627| Steven Cartwright|United States|Office Supplies|       Paper|   12.7|\n",
       "+--------------+------------------+-------------+---------------+------------+-------+\n",
       "only showing top 5 rows\n",
       "\n",
       "</div>"
      ]
     },
     "metadata": {
      "application/vnd.databricks.v1+output": {
       "addedWidgets": {},
       "arguments": {},
       "data": "<div class=\"ansiout\">Enriched table test passed!\n+--------------+------------------+-------------+---------------+------------+-------+\n|      Order ID|     Customer Name|      Country|       category|sub-category| Profit|\n+--------------+------------------+-------------+---------------+------------+-------+\n|CA-2017-133256|     Tracy Hopkins|United States|     Technology|      Phones| 135.98|\n|CA-2016-140634|      Hunter Lopez|United States|Office Supplies|   Envelopes|   5.09|\n|CA-2016-125087|     Thea Hudgings|United States|Office Supplies|     Storage|  77.75|\n|US-2016-114013|Stewart Carmichael|United States|     Technology|      Phones|-116.98|\n|CA-2015-119627| Steven Cartwright|United States|Office Supplies|       Paper|   12.7|\n+--------------+------------------+-------------+---------------+------------+-------+\nonly showing top 5 rows\n\n</div>",
       "datasetInfos": [],
       "metadata": {},
       "removedWidgets": [],
       "type": "html"
      }
     },
     "output_type": "display_data"
    }
   ],
   "source": [
    "\n",
    "def round_to_two_decimals(col_name):\n",
    "  \"\"\"Rounds a column to two decimal places.\"\"\"\n",
    "  return round((col_name), 2)\n",
    "\n",
    "\n",
    "\n",
    "def test_enriched_table():\n",
    "  assert \"Order ID\" in enriched_df.columns  # Check for Order ID\n",
    "  assert \"Customer Name\" in enriched_df.columns # Check for customer name\n",
    "  assert \"Country\" in enriched_df.columns  # Check for Customer Country\n",
    "  assert \"category\" in enriched_df.columns  # Check for Product Category\n",
    "  assert \"sub-category\" in enriched_df.columns  # Check for Product Sub Category\n",
    "  assert \"Profit\" in enriched_df.columns  # Check for Profit\n",
    "\n",
    "def enrich_data(order_df, customer_df, product_df):\n",
    "  \n",
    "  # Remove duplicates from product_df ( duplicates on ProductID)\n",
    "  product_df = product_df.dropDuplicates([\"Product ID\"])  \n",
    "\n",
    "\n",
    "  # Join orders and customers on Order ID (foreign key relationship)\n",
    "  enriched_df = order_df.join(customer_df, order_df[\"Customer ID\"]== customer_df[\"Customer ID\"], how='inner')\n",
    "\n",
    "  # Join enriched table with products on Product ID (assuming foreign key relationship)\n",
    "  enriched_df = enriched_df.join(product_df, enriched_df[\"Product ID\"] == product_df[\"Product ID\"], how='inner')\n",
    "\n",
    "  # Select desired columns and round profit  \n",
    "  enriched_df = enriched_df.select(\n",
    "      order_df[\"Order ID\"],\n",
    "      customer_df[\"Customer Name\"],  \n",
    "      customer_df[\"Country\"],\n",
    "      product_df[\"category\"],\n",
    "      product_df[\"sub-category\"],\n",
    "      round_to_two_decimals(order_df[\"Profit\"]).alias(\"Profit\")  # Use helper function or directly round\n",
    "  )\n",
    "\n",
    "  return enriched_df\n",
    "  \n",
    "\n",
    "try:\n",
    "  enriched_df = enrich_data(order_df, customer_df, product_df) \n",
    "  test_enriched_table()\n",
    "  print(\"Enriched table test passed!\")\n",
    "except AssertionError as e:\n",
    "  print(\"Enriched table test failed:\", e)\n",
    "\n",
    "\n",
    "enriched_df.show(5)"
   ]
  },
  {
   "cell_type": "code",
   "execution_count": 0,
   "metadata": {
    "application/vnd.databricks.v1+cell": {
     "cellMetadata": {
      "byteLimit": 2048000,
      "implicitDf": true,
      "rowLimit": 10000
     },
     "inputWidgets": {},
     "nuid": "d103bb46-e187-41d5-bda0-a0e4445a53b3",
     "showTitle": false,
     "title": ""
    }
   },
   "outputs": [
    {
     "output_type": "display_data",
     "data": {
      "text/html": [
       "<style scoped>\n",
       "  .ansiout {\n",
       "    display: block;\n",
       "    unicode-bidi: embed;\n",
       "    white-space: pre-wrap;\n",
       "    word-wrap: break-word;\n",
       "    word-break: break-all;\n",
       "    font-family: \"Menlo\", \"Monaco\", \"Consolas\", \"Ubuntu Mono\", \"Source Code Pro\", monospace;\n",
       "    font-size: 13px;\n",
       "    color: #555;\n",
       "    margin-left: 4px;\n",
       "    line-height: 19px;\n",
       "  }\n",
       "</style>\n",
       "<div class=\"ansiout\"></div>"
      ]
     },
     "metadata": {
      "application/vnd.databricks.v1+output": {
       "addedWidgets": {},
       "arguments": {},
       "data": "<div class=\"ansiout\"></div>",
       "datasetInfos": [],
       "metadata": {},
       "removedWidgets": [],
       "type": "html"
      }
     },
     "output_type": "display_data"
    },
    {
     "output_type": "display_data",
     "data": {
      "text/html": [
       "<style scoped>\n",
       "  .ansiout {\n",
       "    display: block;\n",
       "    unicode-bidi: embed;\n",
       "    white-space: pre-wrap;\n",
       "    word-wrap: break-word;\n",
       "    word-break: break-all;\n",
       "    font-family: \"Menlo\", \"Monaco\", \"Consolas\", \"Ubuntu Mono\", \"Source Code Pro\", monospace;\n",
       "    font-size: 13px;\n",
       "    color: #555;\n",
       "    margin-left: 4px;\n",
       "    line-height: 19px;\n",
       "  }\n",
       "</style>\n",
       "<div class=\"ansiout\"><span class=\"ansi-red-fg\">---------------------------------------------------------------------------</span>\n",
       "<span class=\"ansi-red-fg\">ParseException</span>                            Traceback (most recent call last)\n",
       "<span class=\"ansi-green-fg\">&lt;command-3236195818615080&gt;</span> in <span class=\"ansi-cyan-fg\">&lt;module&gt;</span>\n",
       "<span class=\"ansi-green-intense-fg ansi-bold\">      5</span>     display<span class=\"ansi-blue-fg\">(</span>df<span class=\"ansi-blue-fg\">)</span>\n",
       "<span class=\"ansi-green-intense-fg ansi-bold\">      6</span>     <span class=\"ansi-green-fg\">return</span> df\n",
       "<span class=\"ansi-green-fg\">----&gt; 7</span><span class=\"ansi-red-fg\">   </span>_sqldf <span class=\"ansi-blue-fg\">=</span> ____databricks_percent_sql<span class=\"ansi-blue-fg\">(</span><span class=\"ansi-blue-fg\">)</span>\n",
       "<span class=\"ansi-green-intense-fg ansi-bold\">      8</span> <span class=\"ansi-green-fg\">finally</span><span class=\"ansi-blue-fg\">:</span>\n",
       "<span class=\"ansi-green-intense-fg ansi-bold\">      9</span>   <span class=\"ansi-green-fg\">del</span> ____databricks_percent_sql\n",
       "\n",
       "<span class=\"ansi-green-fg\">&lt;command-3236195818615080&gt;</span> in <span class=\"ansi-cyan-fg\">____databricks_percent_sql</span><span class=\"ansi-blue-fg\">()</span>\n",
       "<span class=\"ansi-green-intense-fg ansi-bold\">      2</span>   <span class=\"ansi-green-fg\">def</span> ____databricks_percent_sql<span class=\"ansi-blue-fg\">(</span><span class=\"ansi-blue-fg\">)</span><span class=\"ansi-blue-fg\">:</span>\n",
       "<span class=\"ansi-green-intense-fg ansi-bold\">      3</span>     <span class=\"ansi-green-fg\">import</span> base64\n",
       "<span class=\"ansi-green-fg\">----&gt; 4</span><span class=\"ansi-red-fg\">     </span>df <span class=\"ansi-blue-fg\">=</span> spark<span class=\"ansi-blue-fg\">.</span>sql<span class=\"ansi-blue-fg\">(</span>base64<span class=\"ansi-blue-fg\">.</span>standard_b64decode<span class=\"ansi-blue-fg\">(</span><span class=\"ansi-blue-fg\">&#34;c2VsZWN0IGBwcm9kdWN0IGlkYCwgY291bnQoYHByb2R1Y3QgaWRgKQpmcm9tIHByb2R1Y3RfdApncm91cCBieSBgcHJvZHVjdCBpZGAjCmhhdmluZyBjb3VudChgcHJvZHVjdCBpZGApPjE=&#34;</span><span class=\"ansi-blue-fg\">)</span><span class=\"ansi-blue-fg\">.</span>decode<span class=\"ansi-blue-fg\">(</span><span class=\"ansi-blue-fg\">)</span><span class=\"ansi-blue-fg\">)</span>\n",
       "<span class=\"ansi-green-intense-fg ansi-bold\">      5</span>     display<span class=\"ansi-blue-fg\">(</span>df<span class=\"ansi-blue-fg\">)</span>\n",
       "<span class=\"ansi-green-intense-fg ansi-bold\">      6</span>     <span class=\"ansi-green-fg\">return</span> df\n",
       "\n",
       "<span class=\"ansi-green-fg\">/databricks/spark/python/pyspark/sql/session.py</span> in <span class=\"ansi-cyan-fg\">sql</span><span class=\"ansi-blue-fg\">(self, sqlQuery)</span>\n",
       "<span class=\"ansi-green-intense-fg ansi-bold\">    775</span>         <span class=\"ansi-blue-fg\">[</span>Row<span class=\"ansi-blue-fg\">(</span>f1<span class=\"ansi-blue-fg\">=</span><span class=\"ansi-cyan-fg\">1</span><span class=\"ansi-blue-fg\">,</span> f2<span class=\"ansi-blue-fg\">=</span><span class=\"ansi-blue-fg\">&#39;row1&#39;</span><span class=\"ansi-blue-fg\">)</span><span class=\"ansi-blue-fg\">,</span> Row<span class=\"ansi-blue-fg\">(</span>f1<span class=\"ansi-blue-fg\">=</span><span class=\"ansi-cyan-fg\">2</span><span class=\"ansi-blue-fg\">,</span> f2<span class=\"ansi-blue-fg\">=</span><span class=\"ansi-blue-fg\">&#39;row2&#39;</span><span class=\"ansi-blue-fg\">)</span><span class=\"ansi-blue-fg\">,</span> Row<span class=\"ansi-blue-fg\">(</span>f1<span class=\"ansi-blue-fg\">=</span><span class=\"ansi-cyan-fg\">3</span><span class=\"ansi-blue-fg\">,</span> f2<span class=\"ansi-blue-fg\">=</span><span class=\"ansi-blue-fg\">&#39;row3&#39;</span><span class=\"ansi-blue-fg\">)</span><span class=\"ansi-blue-fg\">]</span>\n",
       "<span class=\"ansi-green-intense-fg ansi-bold\">    776</span>         &#34;&#34;&#34;\n",
       "<span class=\"ansi-green-fg\">--&gt; 777</span><span class=\"ansi-red-fg\">         </span><span class=\"ansi-green-fg\">return</span> DataFrame<span class=\"ansi-blue-fg\">(</span>self<span class=\"ansi-blue-fg\">.</span>_jsparkSession<span class=\"ansi-blue-fg\">.</span>sql<span class=\"ansi-blue-fg\">(</span>sqlQuery<span class=\"ansi-blue-fg\">)</span><span class=\"ansi-blue-fg\">,</span> self<span class=\"ansi-blue-fg\">.</span>_wrapped<span class=\"ansi-blue-fg\">)</span>\n",
       "<span class=\"ansi-green-intense-fg ansi-bold\">    778</span> \n",
       "<span class=\"ansi-green-intense-fg ansi-bold\">    779</span>     <span class=\"ansi-green-fg\">def</span> table<span class=\"ansi-blue-fg\">(</span>self<span class=\"ansi-blue-fg\">,</span> tableName<span class=\"ansi-blue-fg\">)</span><span class=\"ansi-blue-fg\">:</span>\n",
       "\n",
       "<span class=\"ansi-green-fg\">/databricks/spark/python/lib/py4j-0.10.9.1-src.zip/py4j/java_gateway.py</span> in <span class=\"ansi-cyan-fg\">__call__</span><span class=\"ansi-blue-fg\">(self, *args)</span>\n",
       "<span class=\"ansi-green-intense-fg ansi-bold\">   1302</span> \n",
       "<span class=\"ansi-green-intense-fg ansi-bold\">   1303</span>         answer <span class=\"ansi-blue-fg\">=</span> self<span class=\"ansi-blue-fg\">.</span>gateway_client<span class=\"ansi-blue-fg\">.</span>send_command<span class=\"ansi-blue-fg\">(</span>command<span class=\"ansi-blue-fg\">)</span>\n",
       "<span class=\"ansi-green-fg\">-&gt; 1304</span><span class=\"ansi-red-fg\">         return_value = get_return_value(\n",
       "</span><span class=\"ansi-green-intense-fg ansi-bold\">   1305</span>             answer, self.gateway_client, self.target_id, self.name)\n",
       "<span class=\"ansi-green-intense-fg ansi-bold\">   1306</span> \n",
       "\n",
       "<span class=\"ansi-green-fg\">/databricks/spark/python/pyspark/sql/utils.py</span> in <span class=\"ansi-cyan-fg\">deco</span><span class=\"ansi-blue-fg\">(*a, **kw)</span>\n",
       "<span class=\"ansi-green-intense-fg ansi-bold\">    121</span>                 <span class=\"ansi-red-fg\"># Hide where the exception came from that shows a non-Pythonic</span>\n",
       "<span class=\"ansi-green-intense-fg ansi-bold\">    122</span>                 <span class=\"ansi-red-fg\"># JVM exception message.</span>\n",
       "<span class=\"ansi-green-fg\">--&gt; 123</span><span class=\"ansi-red-fg\">                 </span><span class=\"ansi-green-fg\">raise</span> converted <span class=\"ansi-green-fg\">from</span> <span class=\"ansi-green-fg\">None</span>\n",
       "<span class=\"ansi-green-intense-fg ansi-bold\">    124</span>             <span class=\"ansi-green-fg\">else</span><span class=\"ansi-blue-fg\">:</span>\n",
       "<span class=\"ansi-green-intense-fg ansi-bold\">    125</span>                 <span class=\"ansi-green-fg\">raise</span>\n",
       "\n",
       "<span class=\"ansi-red-fg\">ParseException</span>: \n",
       "mismatched input &#39;#&#39; expecting {&lt;EOF&gt;, &#39;;&#39;}(line 3, pos 21)\n",
       "\n",
       "== SQL ==\n",
       "select `product id`, count(`product id`)\n",
       "from product_t\n",
       "group by `product id`#\n",
       "---------------------^^^\n",
       "having count(`product id`)&gt;1\n",
       "</div>"
      ]
     },
     "metadata": {
      "application/vnd.databricks.v1+output": {
       "arguments": {},
       "data": "<div class=\"ansiout\"><span class=\"ansi-red-fg\">---------------------------------------------------------------------------</span>\n<span class=\"ansi-red-fg\">ParseException</span>                            Traceback (most recent call last)\n<span class=\"ansi-green-fg\">&lt;command-3236195818615080&gt;</span> in <span class=\"ansi-cyan-fg\">&lt;module&gt;</span>\n<span class=\"ansi-green-intense-fg ansi-bold\">      5</span>     display<span class=\"ansi-blue-fg\">(</span>df<span class=\"ansi-blue-fg\">)</span>\n<span class=\"ansi-green-intense-fg ansi-bold\">      6</span>     <span class=\"ansi-green-fg\">return</span> df\n<span class=\"ansi-green-fg\">----&gt; 7</span><span class=\"ansi-red-fg\">   </span>_sqldf <span class=\"ansi-blue-fg\">=</span> ____databricks_percent_sql<span class=\"ansi-blue-fg\">(</span><span class=\"ansi-blue-fg\">)</span>\n<span class=\"ansi-green-intense-fg ansi-bold\">      8</span> <span class=\"ansi-green-fg\">finally</span><span class=\"ansi-blue-fg\">:</span>\n<span class=\"ansi-green-intense-fg ansi-bold\">      9</span>   <span class=\"ansi-green-fg\">del</span> ____databricks_percent_sql\n\n<span class=\"ansi-green-fg\">&lt;command-3236195818615080&gt;</span> in <span class=\"ansi-cyan-fg\">____databricks_percent_sql</span><span class=\"ansi-blue-fg\">()</span>\n<span class=\"ansi-green-intense-fg ansi-bold\">      2</span>   <span class=\"ansi-green-fg\">def</span> ____databricks_percent_sql<span class=\"ansi-blue-fg\">(</span><span class=\"ansi-blue-fg\">)</span><span class=\"ansi-blue-fg\">:</span>\n<span class=\"ansi-green-intense-fg ansi-bold\">      3</span>     <span class=\"ansi-green-fg\">import</span> base64\n<span class=\"ansi-green-fg\">----&gt; 4</span><span class=\"ansi-red-fg\">     </span>df <span class=\"ansi-blue-fg\">=</span> spark<span class=\"ansi-blue-fg\">.</span>sql<span class=\"ansi-blue-fg\">(</span>base64<span class=\"ansi-blue-fg\">.</span>standard_b64decode<span class=\"ansi-blue-fg\">(</span><span class=\"ansi-blue-fg\">&#34;c2VsZWN0IGBwcm9kdWN0IGlkYCwgY291bnQoYHByb2R1Y3QgaWRgKQpmcm9tIHByb2R1Y3RfdApncm91cCBieSBgcHJvZHVjdCBpZGAjCmhhdmluZyBjb3VudChgcHJvZHVjdCBpZGApPjE=&#34;</span><span class=\"ansi-blue-fg\">)</span><span class=\"ansi-blue-fg\">.</span>decode<span class=\"ansi-blue-fg\">(</span><span class=\"ansi-blue-fg\">)</span><span class=\"ansi-blue-fg\">)</span>\n<span class=\"ansi-green-intense-fg ansi-bold\">      5</span>     display<span class=\"ansi-blue-fg\">(</span>df<span class=\"ansi-blue-fg\">)</span>\n<span class=\"ansi-green-intense-fg ansi-bold\">      6</span>     <span class=\"ansi-green-fg\">return</span> df\n\n<span class=\"ansi-green-fg\">/databricks/spark/python/pyspark/sql/session.py</span> in <span class=\"ansi-cyan-fg\">sql</span><span class=\"ansi-blue-fg\">(self, sqlQuery)</span>\n<span class=\"ansi-green-intense-fg ansi-bold\">    775</span>         <span class=\"ansi-blue-fg\">[</span>Row<span class=\"ansi-blue-fg\">(</span>f1<span class=\"ansi-blue-fg\">=</span><span class=\"ansi-cyan-fg\">1</span><span class=\"ansi-blue-fg\">,</span> f2<span class=\"ansi-blue-fg\">=</span><span class=\"ansi-blue-fg\">&#39;row1&#39;</span><span class=\"ansi-blue-fg\">)</span><span class=\"ansi-blue-fg\">,</span> Row<span class=\"ansi-blue-fg\">(</span>f1<span class=\"ansi-blue-fg\">=</span><span class=\"ansi-cyan-fg\">2</span><span class=\"ansi-blue-fg\">,</span> f2<span class=\"ansi-blue-fg\">=</span><span class=\"ansi-blue-fg\">&#39;row2&#39;</span><span class=\"ansi-blue-fg\">)</span><span class=\"ansi-blue-fg\">,</span> Row<span class=\"ansi-blue-fg\">(</span>f1<span class=\"ansi-blue-fg\">=</span><span class=\"ansi-cyan-fg\">3</span><span class=\"ansi-blue-fg\">,</span> f2<span class=\"ansi-blue-fg\">=</span><span class=\"ansi-blue-fg\">&#39;row3&#39;</span><span class=\"ansi-blue-fg\">)</span><span class=\"ansi-blue-fg\">]</span>\n<span class=\"ansi-green-intense-fg ansi-bold\">    776</span>         &#34;&#34;&#34;\n<span class=\"ansi-green-fg\">--&gt; 777</span><span class=\"ansi-red-fg\">         </span><span class=\"ansi-green-fg\">return</span> DataFrame<span class=\"ansi-blue-fg\">(</span>self<span class=\"ansi-blue-fg\">.</span>_jsparkSession<span class=\"ansi-blue-fg\">.</span>sql<span class=\"ansi-blue-fg\">(</span>sqlQuery<span class=\"ansi-blue-fg\">)</span><span class=\"ansi-blue-fg\">,</span> self<span class=\"ansi-blue-fg\">.</span>_wrapped<span class=\"ansi-blue-fg\">)</span>\n<span class=\"ansi-green-intense-fg ansi-bold\">    778</span> \n<span class=\"ansi-green-intense-fg ansi-bold\">    779</span>     <span class=\"ansi-green-fg\">def</span> table<span class=\"ansi-blue-fg\">(</span>self<span class=\"ansi-blue-fg\">,</span> tableName<span class=\"ansi-blue-fg\">)</span><span class=\"ansi-blue-fg\">:</span>\n\n<span class=\"ansi-green-fg\">/databricks/spark/python/lib/py4j-0.10.9.1-src.zip/py4j/java_gateway.py</span> in <span class=\"ansi-cyan-fg\">__call__</span><span class=\"ansi-blue-fg\">(self, *args)</span>\n<span class=\"ansi-green-intense-fg ansi-bold\">   1302</span> \n<span class=\"ansi-green-intense-fg ansi-bold\">   1303</span>         answer <span class=\"ansi-blue-fg\">=</span> self<span class=\"ansi-blue-fg\">.</span>gateway_client<span class=\"ansi-blue-fg\">.</span>send_command<span class=\"ansi-blue-fg\">(</span>command<span class=\"ansi-blue-fg\">)</span>\n<span class=\"ansi-green-fg\">-&gt; 1304</span><span class=\"ansi-red-fg\">         return_value = get_return_value(\n</span><span class=\"ansi-green-intense-fg ansi-bold\">   1305</span>             answer, self.gateway_client, self.target_id, self.name)\n<span class=\"ansi-green-intense-fg ansi-bold\">   1306</span> \n\n<span class=\"ansi-green-fg\">/databricks/spark/python/pyspark/sql/utils.py</span> in <span class=\"ansi-cyan-fg\">deco</span><span class=\"ansi-blue-fg\">(*a, **kw)</span>\n<span class=\"ansi-green-intense-fg ansi-bold\">    121</span>                 <span class=\"ansi-red-fg\"># Hide where the exception came from that shows a non-Pythonic</span>\n<span class=\"ansi-green-intense-fg ansi-bold\">    122</span>                 <span class=\"ansi-red-fg\"># JVM exception message.</span>\n<span class=\"ansi-green-fg\">--&gt; 123</span><span class=\"ansi-red-fg\">                 </span><span class=\"ansi-green-fg\">raise</span> converted <span class=\"ansi-green-fg\">from</span> <span class=\"ansi-green-fg\">None</span>\n<span class=\"ansi-green-intense-fg ansi-bold\">    124</span>             <span class=\"ansi-green-fg\">else</span><span class=\"ansi-blue-fg\">:</span>\n<span class=\"ansi-green-intense-fg ansi-bold\">    125</span>                 <span class=\"ansi-green-fg\">raise</span>\n\n<span class=\"ansi-red-fg\">ParseException</span>: \nmismatched input &#39;#&#39; expecting {&lt;EOF&gt;, &#39;;&#39;}(line 3, pos 21)\n\n== SQL ==\nselect `product id`, count(`product id`)\nfrom product_t\ngroup by `product id`#\n---------------------^^^\nhaving count(`product id`)&gt;1\n</div>",
       "errorSummary": "<span class=\"ansi-red-fg\">ParseException</span>: ",
       "errorTraceType": "html",
       "metadata": {},
       "type": "ipynbError"
      }
     },
     "output_type": "display_data"
    }
   ],
   "source": [
    "%sql\n",
    "select `product id`, count(`product id`)\n",
    "from product_t\n",
    "group by `product id`#\n",
    "having count(`product id`)>1"
   ]
  },
  {
   "cell_type": "markdown",
   "metadata": {
    "application/vnd.databricks.v1+cell": {
     "cellMetadata": {},
     "inputWidgets": {},
     "nuid": "105cacc2-c25a-4852-acb8-ea28f48c368a",
     "showTitle": false,
     "title": ""
    }
   },
   "source": [
    "There are mutiple entry for same product id in table, and thats the resons you see multiple entry for same order ID <br/>\n",
    "duplicate rows indicates the product in diffrent states, without having more information about the data, its difficult to make any assumnstion.<br/>\n",
    "Their are many thing we can do to address these kind of isse:<br/>\n",
    "-> Remove duplicate from Product table so that each product have only one row i.e more reliable data\n",
    "-> If combination of product_id and state is going to act as primary key then more specific information in needed like does state represent <br/>the state of product manufacture or its associated with customer state who is buying the product\n",
    "\n",
    "-> I've added dropduplicate for product table for now, once we have more info we can make more relevent transformation."
   ]
  },
  {
   "cell_type": "markdown",
   "metadata": {
    "application/vnd.databricks.v1+cell": {
     "cellMetadata": {
      "byteLimit": 2048000,
      "rowLimit": 10000
     },
     "inputWidgets": {},
     "nuid": "a83a20a3-9a52-4618-982e-fcf0c3217ac0",
     "showTitle": false,
     "title": ""
    }
   },
   "source": [
    "#4:Create an aggregate table that shows profit by \n",
    "<br/>->Year\n",
    "<br/>->Product Category\n",
    "<br/>->Product Sub Category\n",
    "<br/>->Customer\n"
   ]
  },
  {
   "cell_type": "code",
   "execution_count": 0,
   "metadata": {
    "application/vnd.databricks.v1+cell": {
     "cellMetadata": {
      "byteLimit": 2048000,
      "rowLimit": 10000
     },
     "inputWidgets": {},
     "nuid": "77ed7dc5-aca3-4826-89a8-932bac3eb41c",
     "showTitle": false,
     "title": ""
    }
   },
   "outputs": [
    {
     "output_type": "display_data",
     "data": {
      "text/html": [
       "<style scoped>\n",
       "  .ansiout {\n",
       "    display: block;\n",
       "    unicode-bidi: embed;\n",
       "    white-space: pre-wrap;\n",
       "    word-wrap: break-word;\n",
       "    word-break: break-all;\n",
       "    font-family: \"Menlo\", \"Monaco\", \"Consolas\", \"Ubuntu Mono\", \"Source Code Pro\", monospace;\n",
       "    font-size: 13px;\n",
       "    color: #555;\n",
       "    margin-left: 4px;\n",
       "    line-height: 19px;\n",
       "  }\n",
       "</style>\n",
       "<div class=\"ansiout\">Enriched table test failed: \n",
       "+----------+--------------+-----------+-------------+---------------+------------+-------+\n",
       "order date|      Order ID|Customer ID|      Country|       category|sub-category| Profit|\n",
       "+----------+--------------+-----------+-------------+---------------+------------+-------+\n",
       "2017-06-26|CA-2017-133256|   TH-21550|United States|     Technology|      Phones| 135.98|\n",
       "2016-10-03|CA-2016-140634|   HL-15040|United States|Office Supplies|   Envelopes|   5.09|\n",
       "2016-04-18|CA-2016-125087|   TH-21115|United States|Office Supplies|     Storage|  77.75|\n",
       "2016-03-13|US-2016-114013|   SC-20770|United States|     Technology|      Phones|-116.98|\n",
       "2015-08-17|CA-2015-119627|   SC-20725|United States|Office Supplies|       Paper|   12.7|\n",
       "+----------+--------------+-----------+-------------+---------------+------------+-------+\n",
       "only showing top 5 rows\n",
       "\n",
       "</div>"
      ]
     },
     "metadata": {
      "application/vnd.databricks.v1+output": {
       "addedWidgets": {},
       "arguments": {},
       "data": "<div class=\"ansiout\">Enriched table test failed: \n+----------+--------------+-----------+-------------+---------------+------------+-------+\n|order date|      Order ID|Customer ID|      Country|       category|sub-category| Profit|\n+----------+--------------+-----------+-------------+---------------+------------+-------+\n|2017-06-26|CA-2017-133256|   TH-21550|United States|     Technology|      Phones| 135.98|\n|2016-10-03|CA-2016-140634|   HL-15040|United States|Office Supplies|   Envelopes|   5.09|\n|2016-04-18|CA-2016-125087|   TH-21115|United States|Office Supplies|     Storage|  77.75|\n|2016-03-13|US-2016-114013|   SC-20770|United States|     Technology|      Phones|-116.98|\n|2015-08-17|CA-2015-119627|   SC-20725|United States|Office Supplies|       Paper|   12.7|\n+----------+--------------+-----------+-------------+---------------+------------+-------+\nonly showing top 5 rows\n\n</div>",
       "datasetInfos": [],
       "metadata": {},
       "removedWidgets": [],
       "type": "html"
      }
     },
     "output_type": "display_data"
    }
   ],
   "source": [
    "#adding date, customer id in enrichment df  -- improvment \n",
    "\n",
    "\n",
    "def round_to_two_decimals(col_name):\n",
    "  \"\"\"Rounds a column to two decimal places.\"\"\"\n",
    "  return round((col_name), 2)\n",
    "\n",
    "\n",
    "\n",
    "def test_enriched_table():\n",
    "  assert \"Order date\" in enriched_df.columns  # Check for Order ID\n",
    "  assert \"Order ID\" in enriched_df.columns  # Check for Order ID\n",
    "  assert \"Customer Name\" in enriched_df.columns # Check for customer name\n",
    "  assert \"Country\" in enriched_df.columns  # Check for Customer Country\n",
    "  assert \"category\" in enriched_df.columns  # Check for Product Category\n",
    "  assert \"sub-category\" in enriched_df.columns  # Check for Product Sub Category\n",
    "  assert \"Profit\" in enriched_df.columns  # Check for Profit\n",
    "\n",
    "def enrich_data(order_df, customer_df, product_df):\n",
    "  \n",
    "  # Remove duplicates from product_df ( duplicates on ProductID)\n",
    "  product_df = product_df.dropDuplicates([\"Product ID\"])  \n",
    "\n",
    "\n",
    "  # Join orders and customers on Order ID (foreign key relationship)\n",
    "  enriched_df = order_df.join(customer_df, order_df[\"Customer ID\"]== customer_df[\"Customer ID\"], how='inner')\n",
    "\n",
    "  # Join enriched table with products on Product ID (assuming foreign key relationship)\n",
    "  enriched_df = enriched_df.join(product_df, enriched_df[\"Product ID\"] == product_df[\"Product ID\"], how='inner')\n",
    "\n",
    "  # Select desired columns and round profit  \n",
    "  enriched_df_im = enriched_df.select(\n",
    "      order_df[\"order date\"],\n",
    "      order_df[\"Order ID\"],\n",
    "      customer_df[\"Customer ID\"],  \n",
    "      customer_df[\"Country\"],\n",
    "      product_df[\"category\"],\n",
    "      product_df[\"sub-category\"],\n",
    "      round_to_two_decimals(order_df[\"Profit\"]).alias(\"Profit\")  # Use helper function or directly round\n",
    "  )\n",
    "\n",
    "  return enriched_df_im\n",
    "  \n",
    "\n",
    "try:\n",
    "  enriched_df_im = enrich_data(order_df, customer_df, product_df) \n",
    "  test_enriched_table()\n",
    "  print(\"Enriched table test passed!\")\n",
    "except AssertionError as e:\n",
    "  print(\"Enriched table test failed:\", e)\n",
    "\n",
    "\n",
    "enriched_df_im.show(5)\n",
    "enriched_df_im.createOrReplaceTempView('enriched_im_t')"
   ]
  },
  {
   "cell_type": "code",
   "execution_count": 0,
   "metadata": {
    "application/vnd.databricks.v1+cell": {
     "cellMetadata": {
      "byteLimit": 2048000,
      "rowLimit": 10000
     },
     "inputWidgets": {},
     "nuid": "961eb47d-8648-485b-a11a-3accfb774676",
     "showTitle": false,
     "title": ""
    }
   },
   "outputs": [
    {
     "output_type": "display_data",
     "data": {
      "text/html": [
       "<style scoped>\n",
       "  .ansiout {\n",
       "    display: block;\n",
       "    unicode-bidi: embed;\n",
       "    white-space: pre-wrap;\n",
       "    word-wrap: break-word;\n",
       "    word-break: break-all;\n",
       "    font-family: \"Menlo\", \"Monaco\", \"Consolas\", \"Ubuntu Mono\", \"Source Code Pro\", monospace;\n",
       "    font-size: 13px;\n",
       "    color: #555;\n",
       "    margin-left: 4px;\n",
       "    line-height: 19px;\n",
       "  }\n",
       "</style>\n",
       "<div class=\"ansiout\">aggregate table test passed!\n",
       "</div>"
      ]
     },
     "metadata": {
      "application/vnd.databricks.v1+output": {
       "addedWidgets": {},
       "arguments": {},
       "data": "<div class=\"ansiout\">aggregate table test passed!\n</div>",
       "datasetInfos": [],
       "metadata": {},
       "removedWidgets": [],
       "type": "html"
      }
     },
     "output_type": "display_data"
    }
   ],
   "source": [
    "def test_aggregate_profit(aggregated_df, expected_year=None, expected_category=None, expected_sub_category=None, expected_customer=None):\n",
    "  \"\"\"\n",
    "  Test function for aggregate_profit. Checks presence of columns, data types,\n",
    "  and optionally verifies specific values for Year, Category, Sub Category,\n",
    "  Customer ID, and Total Profit.\n",
    "  \"\"\"\n",
    "  assert \"Year\" in aggregated_df.columns  # Check for Year column\n",
    "  assert \"Product_Category\" in aggregated_df.columns  # Check for Product Category\n",
    "  assert \"Product_Sub_Category\" in aggregated_df.columns  # Check for Product Sub Category\n",
    "  assert \"Customer\" in aggregated_df.columns  # Check for Customer ID\n",
    "  assert \"Total_Profit\" in aggregated_df.columns  # Check for aggregated profit\n",
    "  \n",
    "  # Optional assertions for specific values (modify as needed)\n",
    "  if expected_year:\n",
    "    assert aggregated_df.filter(col(\"Year\") == expected_year).count() > 0  # Check for expected year\n",
    "  if expected_category:\n",
    "    assert aggregated_df.filter(col(\"Product_Category\") == expected_category).count() > 0  # Check for expected category\n",
    "  if expected_sub_category:\n",
    "    assert aggregated_df.filter(col(\"Product_Sub_Category\") == expected_sub_category).count() > 0  # Check for expected sub category\n",
    "  if expected_sub_category:\n",
    "    assert aggregated_df.filter(col(\"Customer\") == expected_customer).count() > 0  # Check for expected sub category\n",
    "  \n",
    "\n",
    "\n",
    "\n",
    "\n",
    "def aggregate_profit(enriched_im_t):  \n",
    "  aggregate_df = spark.sql(\"\"\"\n",
    "      SELECT \n",
    "          YEAR(`Order Date`) AS Year,\n",
    "          `Category` AS Product_Category,\n",
    "          `Sub-Category` AS Product_Sub_Category,\n",
    "          `Customer ID` AS Customer,\n",
    "          ROUND(SUM(profit), 2) AS Total_Profit\n",
    "      FROM \n",
    "          enriched_im_t\n",
    "      GROUP BY \n",
    "          YEAR(`Order Date`), \n",
    "          `Category`, \n",
    "          `Sub-Category`, \n",
    "          `Customer ID`\n",
    "  \"\"\")\n",
    "  return aggregate_df\n",
    "# Show the aggregate table\n",
    "#aggregate_table.show()\n",
    "\n",
    "\n",
    "try:\n",
    "  aggregate_df = aggregate_profit('enriched_im_t') \n",
    "  test_aggregate_profit(aggregate_df)\n",
    "  print(\"aggregate table test passed!\")\n",
    "except AssertionError as e:\n",
    "  print(\"aggregate table test failed:\", e)\n"
   ]
  },
  {
   "cell_type": "markdown",
   "metadata": {
    "application/vnd.databricks.v1+cell": {
     "cellMetadata": {},
     "inputWidgets": {},
     "nuid": "d254ab41-4071-48b5-9b56-386d29d727d7",
     "showTitle": false,
     "title": ""
    }
   },
   "source": [
    "#4:Using SQL output the following aggregates<br/>\n",
    "->Profit by Year<br/>\n",
    "->Profit by Year + Product Category\n",
    "<br/>->Profit by Customer\n",
    "<br/>->Profit by Customer + Year\n"
   ]
  },
  {
   "cell_type": "code",
   "execution_count": 0,
   "metadata": {
    "application/vnd.databricks.v1+cell": {
     "cellMetadata": {
      "byteLimit": 2048000,
      "rowLimit": 10000
     },
     "inputWidgets": {},
     "nuid": "198f11c6-e7e8-40bf-b063-c33386bfcdb4",
     "showTitle": false,
     "title": ""
    }
   },
   "outputs": [
    {
     "output_type": "display_data",
     "data": {
      "text/html": [
       "<style scoped>\n",
       "  .ansiout {\n",
       "    display: block;\n",
       "    unicode-bidi: embed;\n",
       "    white-space: pre-wrap;\n",
       "    word-wrap: break-word;\n",
       "    word-break: break-all;\n",
       "    font-family: \"Menlo\", \"Monaco\", \"Consolas\", \"Ubuntu Mono\", \"Source Code Pro\", monospace;\n",
       "    font-size: 13px;\n",
       "    color: #555;\n",
       "    margin-left: 4px;\n",
       "    line-height: 19px;\n",
       "  }\n",
       "</style>\n",
       "<div class=\"ansiout\"></div>"
      ]
     },
     "metadata": {
      "application/vnd.databricks.v1+output": {
       "addedWidgets": {},
       "arguments": {},
       "data": "<div class=\"ansiout\"></div>",
       "datasetInfos": [],
       "metadata": {},
       "removedWidgets": [],
       "type": "html"
      }
     },
     "output_type": "display_data"
    }
   ],
   "source": [
    "\n",
    "def test_profit_by_year(aggregated_df):\n",
    "  \"\"\"Test for profit by year.\"\"\"\n",
    "  assert \"Year\" in aggregated_df.columns  # Check for Year column\n",
    "  assert \"Total_Profit\" in aggregated_df.columns  # Check for Total Profit\n",
    "\n",
    "def aggregate_profit_by_year(enriched_im_t):  \n",
    "  aggregate_df = spark.sql(\"\"\"\n",
    "      SELECT \n",
    "          YEAR(`Order Date`) AS Year,\n",
    "          ROUND(SUM(profit), 2) AS Total_Profit\n",
    "      FROM \n",
    "          enriched_im_t\n",
    "      GROUP BY \n",
    "          YEAR(`Order Date`)\n",
    "  \"\"\")\n",
    "  return aggregate_df\n",
    "  \n",
    "def test_profit_by_year_category(aggregated_df):\n",
    "  \"\"\"Test for profit by year and product category.\"\"\"\n",
    "  assert \"Year\" in aggregated_df.columns  # Check for Year column\n",
    "  assert \"Product_Category\" in aggregated_df.columns  # Check for Product Category\n",
    "  assert \"Total_Profit\" in aggregated_df.columns  # Check for Total Profit\n",
    "\n",
    "def aggregate_profit_by_year_category(enriched_im_t):  \n",
    "  aggregate_df = spark.sql(\"\"\"\n",
    "      SELECT \n",
    "          YEAR(`Order Date`) AS Year,\n",
    "          `Category` AS Product_Category,\n",
    "          ROUND(SUM(profit), 2) AS Total_Profit\n",
    "      FROM \n",
    "          enriched_im_t\n",
    "      GROUP BY \n",
    "          YEAR(`Order Date`), \n",
    "          `Category`\n",
    "  \"\"\")\n",
    "  return aggregate_df\n",
    "  \n",
    "def test_profit_by_customer(aggregated_df):\n",
    "  \"\"\"Test for profit by customer.\"\"\"\n",
    "  assert \"Customer\" in aggregated_df.columns  # Check for Customer\n",
    "  assert \"Total_Profit\" in aggregated_df.columns  # Check for Total Profit\n",
    "\n",
    "def aggregate_profit_by_customer(enriched_im_t):  \n",
    "  aggregate_df = spark.sql(\"\"\"\n",
    "      SELECT \n",
    "          `Customer ID` AS Customer,\n",
    "          ROUND(SUM(profit), 2) AS Total_Profit\n",
    "      FROM \n",
    "          enriched_im_t\n",
    "      GROUP BY \n",
    "          `Customer ID`\n",
    "  \"\"\")\n",
    "  return aggregate_df\n",
    "  \n",
    "def test_profit_by_customer_year(aggregated_df):\n",
    "  \"\"\"Test for profit by customer and year.\"\"\"\n",
    "  assert \"Customer\" in aggregated_df.columns  # Check for Customer\n",
    "  assert \"Year\" in aggregated_df.columns  # Check for Year column\n",
    "  assert \"Total_Profit\" in aggregated_df.columns  # Check for Total Profit\n",
    "\n",
    "def aggregate_profit_customer_by_year(enriched_im_t):  \n",
    "  aggregate_df = spark.sql(\"\"\"\n",
    "      SELECT \n",
    "          YEAR(`Order Date`) AS Year,\n",
    "          `Customer ID` AS Customer,\n",
    "          ROUND(SUM(profit), 2) AS Total_Profit\n",
    "      FROM \n",
    "          enriched_im_t\n",
    "      GROUP BY \n",
    "          YEAR(`Order Date`), \n",
    "          `Customer ID`\n",
    "  \"\"\")\n",
    "  return aggregate_df\n",
    "  "
   ]
  },
  {
   "cell_type": "code",
   "execution_count": 0,
   "metadata": {
    "application/vnd.databricks.v1+cell": {
     "cellMetadata": {
      "byteLimit": 2048000,
      "rowLimit": 10000
     },
     "inputWidgets": {},
     "nuid": "0e185360-b21a-48e1-82aa-050351a6b1ae",
     "showTitle": false,
     "title": ""
    }
   },
   "outputs": [
    {
     "output_type": "display_data",
     "data": {
      "text/html": [
       "<style scoped>\n",
       "  .ansiout {\n",
       "    display: block;\n",
       "    unicode-bidi: embed;\n",
       "    white-space: pre-wrap;\n",
       "    word-wrap: break-word;\n",
       "    word-break: break-all;\n",
       "    font-family: \"Menlo\", \"Monaco\", \"Consolas\", \"Ubuntu Mono\", \"Source Code Pro\", monospace;\n",
       "    font-size: 13px;\n",
       "    color: #555;\n",
       "    margin-left: 4px;\n",
       "    line-height: 19px;\n",
       "  }\n",
       "</style>\n",
       "<div class=\"ansiout\">-------Profit by Year-----\n",
       "+----+------------+\n",
       "Year|Total_Profit|\n",
       "+----+------------+\n",
       "2015|    62490.14|\n",
       "2014|    38662.76|\n",
       "2016|    64669.14|\n",
       "2017|    110596.8|\n",
       "+----+------------+\n",
       "\n",
       "year aggregate table test passed!\n",
       "-------Profit by Year + Category-----\n",
       "+----+----------------+------------+\n",
       "Year|Product_Category|Total_Profit|\n",
       "+----+----------------+------------+\n",
       "2017| Office Supplies|    44273.35|\n",
       "2015| Office Supplies|    24519.51|\n",
       "2016|      Technology|    23223.84|\n",
       "2014|      Technology|    21493.38|\n",
       "2015|       Furniture|      3027.2|\n",
       "2014|       Furniture|    -5331.05|\n",
       "2017|      Technology|    63281.91|\n",
       "2017|       Furniture|     3041.54|\n",
       "2015|      Technology|    34943.43|\n",
       "2014| Office Supplies|    22500.43|\n",
       "2016|       Furniture|     6889.56|\n",
       "2016| Office Supplies|    34555.74|\n",
       "+----+----------------+------------+\n",
       "\n",
       "year + category aggregate table test passed!\n",
       "</div>"
      ]
     },
     "metadata": {
      "application/vnd.databricks.v1+output": {
       "addedWidgets": {},
       "arguments": {},
       "data": "<div class=\"ansiout\">-------Profit by Year-----\n+----+------------+\n|Year|Total_Profit|\n+----+------------+\n|2015|    62490.14|\n|2014|    38662.76|\n|2016|    64669.14|\n|2017|    110596.8|\n+----+------------+\n\nyear aggregate table test passed!\n-------Profit by Year + Category-----\n+----+----------------+------------+\n|Year|Product_Category|Total_Profit|\n+----+----------------+------------+\n|2017| Office Supplies|    44273.35|\n|2015| Office Supplies|    24519.51|\n|2016|      Technology|    23223.84|\n|2014|      Technology|    21493.38|\n|2015|       Furniture|      3027.2|\n|2014|       Furniture|    -5331.05|\n|2017|      Technology|    63281.91|\n|2017|       Furniture|     3041.54|\n|2015|      Technology|    34943.43|\n|2014| Office Supplies|    22500.43|\n|2016|       Furniture|     6889.56|\n|2016| Office Supplies|    34555.74|\n+----+----------------+------------+\n\nyear + category aggregate table test passed!\n</div>",
       "datasetInfos": [],
       "metadata": {},
       "removedWidgets": [],
       "type": "html"
      }
     },
     "output_type": "display_data"
    }
   ],
   "source": [
    "try:\n",
    "  aggregate_df = aggregate_profit_by_year('enriched_im_t') \n",
    "  test_profit_by_year(aggregate_df)\n",
    "  print(\"-------Profit by Year-----\")\n",
    "  aggregate_df.show()\n",
    "  print(\"year aggregate table test passed!\")\n",
    "except AssertionError as e:\n",
    "  print(\"aggregate table test failed:\", e)\n",
    "\n",
    "\n",
    "try:\n",
    "  aggregate_df = aggregate_profit_by_year_category('enriched_im_t') \n",
    "  test_profit_by_year_category(aggregate_df)\n",
    "  print(\"-------Profit by Year + Category-----\")\n",
    "  aggregate_df.show()\n",
    "  print(\"year + category aggregate table test passed!\")\n",
    "except AssertionError as e:\n",
    "  print(\"year + category aggregate table test failed:\", e)"
   ]
  },
  {
   "cell_type": "code",
   "execution_count": 0,
   "metadata": {
    "application/vnd.databricks.v1+cell": {
     "cellMetadata": {
      "byteLimit": 2048000,
      "rowLimit": 10000
     },
     "inputWidgets": {},
     "nuid": "f8221e28-4bbf-4492-ab2b-f059de24a920",
     "showTitle": false,
     "title": ""
    }
   },
   "outputs": [
    {
     "output_type": "display_data",
     "data": {
      "text/html": [
       "<style scoped>\n",
       "  .ansiout {\n",
       "    display: block;\n",
       "    unicode-bidi: embed;\n",
       "    white-space: pre-wrap;\n",
       "    word-wrap: break-word;\n",
       "    word-break: break-all;\n",
       "    font-family: \"Menlo\", \"Monaco\", \"Consolas\", \"Ubuntu Mono\", \"Source Code Pro\", monospace;\n",
       "    font-size: 13px;\n",
       "    color: #555;\n",
       "    margin-left: 4px;\n",
       "    line-height: 19px;\n",
       "  }\n",
       "</style>\n",
       "<div class=\"ansiout\">-------Profit by Customer-----\n",
       "+--------+------------+\n",
       "Customer|Total_Profit|\n",
       "+--------+------------+\n",
       "VW-21775|     -874.66|\n",
       "PB-19210|        21.9|\n",
       "RR-19315|      -73.83|\n",
       "MY-17380|      294.82|\n",
       "EM-13960|       102.3|\n",
       "MS-17530|       81.77|\n",
       "KH-16630|       726.1|\n",
       "SW-20275|      332.76|\n",
       "AH-10690|     1239.86|\n",
       "BD-11500|     1127.49|\n",
       "PH-18790|       47.89|\n",
       "JF-15490|      -18.05|\n",
       "JF-15415|      624.41|\n",
       "IM-15070|       514.2|\n",
       "PW-19240|     1283.37|\n",
       "NW-18400|     1002.41|\n",
       "KF-16285|     1660.41|\n",
       "OT-18730|     -925.56|\n",
       "KD-16615|      539.72|\n",
       "JH-15985|     -644.48|\n",
       "+--------+------------+\n",
       "only showing top 20 rows\n",
       "\n",
       "Custoemr aggregate table test passed!\n",
       "</div>"
      ]
     },
     "metadata": {
      "application/vnd.databricks.v1+output": {
       "addedWidgets": {},
       "arguments": {},
       "data": "<div class=\"ansiout\">-------Profit by Customer-----\n+--------+------------+\n|Customer|Total_Profit|\n+--------+------------+\n|VW-21775|     -874.66|\n|PB-19210|        21.9|\n|RR-19315|      -73.83|\n|MY-17380|      294.82|\n|EM-13960|       102.3|\n|MS-17530|       81.77|\n|KH-16630|       726.1|\n|SW-20275|      332.76|\n|AH-10690|     1239.86|\n|BD-11500|     1127.49|\n|PH-18790|       47.89|\n|JF-15490|      -18.05|\n|JF-15415|      624.41|\n|IM-15070|       514.2|\n|PW-19240|     1283.37|\n|NW-18400|     1002.41|\n|KF-16285|     1660.41|\n|OT-18730|     -925.56|\n|KD-16615|      539.72|\n|JH-15985|     -644.48|\n+--------+------------+\nonly showing top 20 rows\n\nCustoemr aggregate table test passed!\n</div>",
       "datasetInfos": [],
       "metadata": {},
       "removedWidgets": [],
       "type": "html"
      }
     },
     "output_type": "display_data"
    }
   ],
   "source": [
    "try:\n",
    "  aggregate_df = aggregate_profit_by_customer('enriched_im_t') \n",
    "  def test_profit_by_customer(aggregated_df):\n",
    "    aggregated_df.show()\n",
    "  print(\"-------Profit by Customer-----\")\n",
    "  aggregate_df.show()\n",
    "  print(\"Custoemr aggregate table test passed!\")\n",
    "except AssertionError as e:\n",
    "  print(\"Customer aggregate table test failed:\", e)"
   ]
  },
  {
   "cell_type": "code",
   "execution_count": 0,
   "metadata": {
    "application/vnd.databricks.v1+cell": {
     "cellMetadata": {
      "byteLimit": 2048000,
      "rowLimit": 10000
     },
     "inputWidgets": {},
     "nuid": "3d5209fd-a91a-4977-a555-7c1ff893bb41",
     "showTitle": false,
     "title": ""
    }
   },
   "outputs": [
    {
     "output_type": "display_data",
     "data": {
      "text/html": [
       "<style scoped>\n",
       "  .ansiout {\n",
       "    display: block;\n",
       "    unicode-bidi: embed;\n",
       "    white-space: pre-wrap;\n",
       "    word-wrap: break-word;\n",
       "    word-break: break-all;\n",
       "    font-family: \"Menlo\", \"Monaco\", \"Consolas\", \"Ubuntu Mono\", \"Source Code Pro\", monospace;\n",
       "    font-size: 13px;\n",
       "    color: #555;\n",
       "    margin-left: 4px;\n",
       "    line-height: 19px;\n",
       "  }\n",
       "</style>\n",
       "<div class=\"ansiout\">-------Profit by Year + customer-----\n",
       "+----+--------+------------+\n",
       "Year|Customer|Total_Profit|\n",
       "+----+--------+------------+\n",
       "2015|PW-19240|     1370.23|\n",
       "2015|LO-17170|       34.45|\n",
       "2015|RM-19375|       19.97|\n",
       "2017|ML-17395|        11.1|\n",
       "2014|TZ-21580|       132.3|\n",
       "2017|MF-18250|      287.24|\n",
       "2015|BS-11590|       103.1|\n",
       "2017|DS-13180|      -29.56|\n",
       "2017|JM-15580|        -0.6|\n",
       "2017|TB-21250|      -31.68|\n",
       "2014|ZD-21925|       25.49|\n",
       "2015|SU-20665|        76.4|\n",
       "2016|TW-21025|       33.01|\n",
       "2016|MP-17470|        8.94|\n",
       "2016|TT-21070|        2.69|\n",
       "2017|HM-14980|       41.23|\n",
       "2016|GB-14575|       73.22|\n",
       "2015|CM-11935|       13.17|\n",
       "2015|BP-11230|     -255.74|\n",
       "2014|JS-15880|      -94.66|\n",
       "+----+--------+------------+\n",
       "only showing top 20 rows\n",
       "\n",
       "year + customer aggregate table test passed!\n",
       "</div>"
      ]
     },
     "metadata": {
      "application/vnd.databricks.v1+output": {
       "addedWidgets": {},
       "arguments": {},
       "data": "<div class=\"ansiout\">-------Profit by Year + customer-----\n+----+--------+------------+\n|Year|Customer|Total_Profit|\n+----+--------+------------+\n|2015|PW-19240|     1370.23|\n|2015|LO-17170|       34.45|\n|2015|RM-19375|       19.97|\n|2017|ML-17395|        11.1|\n|2014|TZ-21580|       132.3|\n|2017|MF-18250|      287.24|\n|2015|BS-11590|       103.1|\n|2017|DS-13180|      -29.56|\n|2017|JM-15580|        -0.6|\n|2017|TB-21250|      -31.68|\n|2014|ZD-21925|       25.49|\n|2015|SU-20665|        76.4|\n|2016|TW-21025|       33.01|\n|2016|MP-17470|        8.94|\n|2016|TT-21070|        2.69|\n|2017|HM-14980|       41.23|\n|2016|GB-14575|       73.22|\n|2015|CM-11935|       13.17|\n|2015|BP-11230|     -255.74|\n|2014|JS-15880|      -94.66|\n+----+--------+------------+\nonly showing top 20 rows\n\nyear + customer aggregate table test passed!\n</div>",
       "datasetInfos": [],
       "metadata": {},
       "removedWidgets": [],
       "type": "html"
      }
     },
     "output_type": "display_data"
    }
   ],
   "source": [
    "try:\n",
    "  aggregate_df = aggregate_profit_customer_by_year('enriched_im_t') \n",
    "  test_profit_by_customer_year(aggregate_df)\n",
    "  print(\"-------Profit by Year + customer-----\")\n",
    "  aggregate_df.show()\n",
    "  print(\"year + customer aggregate table test passed!\")\n",
    "except AssertionError as e:\n",
    "  print(\"year + customer aggregate table test failed:\", e)"
   ]
  }
 ],
 "metadata": {
  "application/vnd.databricks.v1+notebook": {
   "dashboards": [],
   "language": "python",
   "notebookMetadata": {
    "mostRecentlyExecutedCommandWithImplicitDF": {
     "commandId": 3236195818615080,
     "dataframes": [
      "_sqldf"
     ]
    },
    "pythonIndentUnit": 2
   },
   "notebookName": "PEI_2",
   "widgets": {}
  }
 },
 "nbformat": 4,
 "nbformat_minor": 0
}
